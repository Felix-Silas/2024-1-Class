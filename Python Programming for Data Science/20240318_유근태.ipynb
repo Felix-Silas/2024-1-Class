{
  "nbformat": 4,
  "nbformat_minor": 0,
  "metadata": {
    "colab": {
      "provenance": []
    },
    "kernelspec": {
      "name": "python3",
      "display_name": "Python 3"
    },
    "language_info": {
      "name": "python"
    }
  },
  "cells": [
    {
      "cell_type": "markdown",
      "source": [
        "# 변수와 참조에 의한 전달\n",
        "## 파이썬에서 변수에 값을 대입하면 대입연산자(=) 오른쪽에 있는 객체에 대한 참조를 생성"
      ],
      "metadata": {
        "id": "vh9holT0-_kl"
      }
    },
    {
      "cell_type": "code",
      "source": [
        "a = [1, 2, 3]"
      ],
      "metadata": {
        "id": "dhotsXzn5z3v"
      },
      "execution_count": 4,
      "outputs": []
    },
    {
      "cell_type": "code",
      "source": [
        "# 변수와 참조에 의한 전달\n",
        "b = a"
      ],
      "metadata": {
        "id": "kCvNbYU05z7E"
      },
      "execution_count": 5,
      "outputs": []
    },
    {
      "cell_type": "code",
      "source": [
        "a.append(4)"
      ],
      "metadata": {
        "id": "aebaLKqa51aG"
      },
      "execution_count": 6,
      "outputs": []
    },
    {
      "cell_type": "code",
      "source": [
        "b"
      ],
      "metadata": {
        "colab": {
          "base_uri": "https://localhost:8080/"
        },
        "id": "FRHntkV454ls",
        "outputId": "56f2c4ef-35f7-4300-e265-7435f4aed007"
      },
      "execution_count": 7,
      "outputs": [
        {
          "output_type": "execute_result",
          "data": {
            "text/plain": [
              "[1, 2, 3, 4]"
            ]
          },
          "metadata": {},
          "execution_count": 7
        }
      ]
    },
    {
      "cell_type": "markdown",
      "source": [
        "# 자료형"
      ],
      "metadata": {
        "id": "4x0qg9vh_IFi"
      }
    },
    {
      "cell_type": "markdown",
      "source": [
        "## 숫자 자료형 (int)"
      ],
      "metadata": {
        "id": "rMJGr88s_JVa"
      }
    },
    {
      "cell_type": "code",
      "source": [
        "# 숫자 자료형 (int)\n",
        "ival = 1723897"
      ],
      "metadata": {
        "id": "ukhLiapC54nu"
      },
      "execution_count": 8,
      "outputs": []
    },
    {
      "cell_type": "code",
      "source": [
        "ival ** 6"
      ],
      "metadata": {
        "colab": {
          "base_uri": "https://localhost:8080/"
        },
        "id": "dtHoMtTO54p7",
        "outputId": "439354ba-539a-42fc-8a04-49adf4d22b86"
      },
      "execution_count": 10,
      "outputs": [
        {
          "output_type": "execute_result",
          "data": {
            "text/plain": [
              "26246287594448069309152190229646704529"
            ]
          },
          "metadata": {},
          "execution_count": 10
        }
      ]
    },
    {
      "cell_type": "markdown",
      "source": [
        "## 숫자 자료형 (float)"
      ],
      "metadata": {
        "id": "3ShJJOj5_Ld8"
      }
    },
    {
      "cell_type": "code",
      "source": [
        "# 숫자 자료형 (float)\n",
        "fval = 7.243"
      ],
      "metadata": {
        "id": "Ou_Y3h6654rw"
      },
      "execution_count": 11,
      "outputs": []
    },
    {
      "cell_type": "code",
      "source": [
        "fval = 6.78e-5"
      ],
      "metadata": {
        "id": "uxt2kTNg54t8"
      },
      "execution_count": 12,
      "outputs": []
    },
    {
      "cell_type": "code",
      "source": [
        "# 파이썬 3버전에서 정수 나눗셈은 정수를 반환하지 않고 부동소수점 숫자 반환\n",
        "3 / 2"
      ],
      "metadata": {
        "colab": {
          "base_uri": "https://localhost:8080/"
        },
        "id": "9ahgco3954wd",
        "outputId": "72754469-a6ac-44cb-8430-822947d9bb18"
      },
      "execution_count": 13,
      "outputs": [
        {
          "output_type": "execute_result",
          "data": {
            "text/plain": [
              "1.5"
            ]
          },
          "metadata": {},
          "execution_count": 13
        }
      ]
    },
    {
      "cell_type": "markdown",
      "source": [
        "## 문자열"
      ],
      "metadata": {
        "id": "SzdguwKj_N7v"
      }
    },
    {
      "cell_type": "code",
      "source": [
        "# 문자열 (작은 따옴표, 큰 따옴표)\n",
        "a = 'one way of writing a string'\n",
        "b = \"another way\""
      ],
      "metadata": {
        "id": "1KAx_1xq54y1"
      },
      "execution_count": 15,
      "outputs": []
    },
    {
      "cell_type": "code",
      "source": [
        "c = '''\n",
        "This is a longer string that\n",
        "spans multiple lines\n",
        "'''"
      ],
      "metadata": {
        "id": "_w8zEikZ541n"
      },
      "execution_count": 14,
      "outputs": []
    },
    {
      "cell_type": "code",
      "source": [
        "# 두 문자열 이어붙이기\n",
        "a = 'this is the first half '\n",
        "b = 'and this is the second half'\n",
        "a + b"
      ],
      "metadata": {
        "colab": {
          "base_uri": "https://localhost:8080/",
          "height": 36
        },
        "id": "w4fc6yN-5438",
        "outputId": "c8b53d36-149f-47ef-b485-986f5cb13f3c"
      },
      "execution_count": 17,
      "outputs": [
        {
          "output_type": "execute_result",
          "data": {
            "text/plain": [
              "'this is the first half and this is the second half'"
            ],
            "application/vnd.google.colaboratory.intrinsic+json": {
              "type": "string"
            }
          },
          "metadata": {},
          "execution_count": 17
        }
      ]
    },
    {
      "cell_type": "markdown",
      "source": [
        "## 문자열 템플릿(형식) 출력"
      ],
      "metadata": {
        "id": "1cTwQEjX_TIj"
      }
    },
    {
      "cell_type": "code",
      "source": [
        "# 문자열 템플릿 (형식)\n",
        "template = '%.2f %s are worth $%d'\n",
        "template%(4.5560, 'Argentine Pesos', 1)"
      ],
      "metadata": {
        "colab": {
          "base_uri": "https://localhost:8080/",
          "height": 36
        },
        "id": "h5w_3u7Z546H",
        "outputId": "449f715a-023c-48a6-9891-65a99799ae0b"
      },
      "execution_count": 18,
      "outputs": [
        {
          "output_type": "execute_result",
          "data": {
            "text/plain": [
              "'4.56 Argentine Pesos are worth $1'"
            ],
            "application/vnd.google.colaboratory.intrinsic+json": {
              "type": "string"
            }
          },
          "metadata": {},
          "execution_count": 18
        }
      ]
    },
    {
      "cell_type": "code",
      "source": [
        "print('%.2f %s are worth $%d' %(4.5560, 'Argentine Pesos', 1))"
      ],
      "metadata": {
        "colab": {
          "base_uri": "https://localhost:8080/"
        },
        "id": "o1LTysgf548Y",
        "outputId": "d1bb3ad6-83e6-44b9-a149-0acac346986b"
      },
      "execution_count": 20,
      "outputs": [
        {
          "output_type": "stream",
          "name": "stdout",
          "text": [
            "4.56 Argentine Pesos are worth $1\n"
          ]
        }
      ]
    },
    {
      "cell_type": "code",
      "source": [
        "# format 함수\n",
        "'{0:0.2f} {1} are worh {2}'.format(4.5560, 'Argentine Pesos', 1)"
      ],
      "metadata": {
        "colab": {
          "base_uri": "https://localhost:8080/",
          "height": 36
        },
        "id": "fj2n_ZF654_y",
        "outputId": "72eb5f18-602a-446a-9fdc-b250d23b95f9"
      },
      "execution_count": 21,
      "outputs": [
        {
          "output_type": "execute_result",
          "data": {
            "text/plain": [
              "'4.56 Argentine Pesos are worh 1'"
            ],
            "application/vnd.google.colaboratory.intrinsic+json": {
              "type": "string"
            }
          },
          "metadata": {},
          "execution_count": 21
        }
      ]
    },
    {
      "cell_type": "markdown",
      "source": [
        "## boolean (불리언)"
      ],
      "metadata": {
        "id": "Iu-JTMhd_XBK"
      }
    },
    {
      "cell_type": "code",
      "source": [
        "# 불리언(Boolean)\n",
        "True and True"
      ],
      "metadata": {
        "colab": {
          "base_uri": "https://localhost:8080/"
        },
        "id": "sPYNrZT57WMR",
        "outputId": "07f0b62d-ee22-46ea-d18b-bd8c1bad3373"
      },
      "execution_count": 22,
      "outputs": [
        {
          "output_type": "execute_result",
          "data": {
            "text/plain": [
              "True"
            ]
          },
          "metadata": {},
          "execution_count": 22
        }
      ]
    },
    {
      "cell_type": "code",
      "source": [
        "False or True"
      ],
      "metadata": {
        "colab": {
          "base_uri": "https://localhost:8080/"
        },
        "id": "EcEhAp2W7WOb",
        "outputId": "eff191b2-3f5f-42b5-a263-2c7b68884645"
      },
      "execution_count": 24,
      "outputs": [
        {
          "output_type": "execute_result",
          "data": {
            "text/plain": [
              "True"
            ]
          },
          "metadata": {},
          "execution_count": 24
        }
      ]
    },
    {
      "cell_type": "code",
      "source": [
        "a = [1, 2, 3]\n",
        "if a:\n",
        "    print('I found somethings!')"
      ],
      "metadata": {
        "colab": {
          "base_uri": "https://localhost:8080/"
        },
        "id": "4NQBXVpf7WQY",
        "outputId": "f3ccca3d-efcc-47fd-8f22-8c48b6b696fe"
      },
      "execution_count": 27,
      "outputs": [
        {
          "output_type": "stream",
          "name": "stdout",
          "text": [
            "I found somethings!\n"
          ]
        }
      ]
    },
    {
      "cell_type": "code",
      "source": [
        "b = []\n",
        "if not b:\n",
        "    print('Empty')"
      ],
      "metadata": {
        "colab": {
          "base_uri": "https://localhost:8080/"
        },
        "id": "JDEj8M8R7WSc",
        "outputId": "4f8d62e1-088d-4624-988b-0aeef752c4a2"
      },
      "execution_count": 28,
      "outputs": [
        {
          "output_type": "stream",
          "name": "stdout",
          "text": [
            "Empty\n"
          ]
        }
      ]
    },
    {
      "cell_type": "code",
      "source": [
        "bool([]), bool([1, 2, 3])"
      ],
      "metadata": {
        "colab": {
          "base_uri": "https://localhost:8080/"
        },
        "id": "lp4vMjqV7WUl",
        "outputId": "92e8be17-a54d-4899-98b5-0ae35aab8134"
      },
      "execution_count": 29,
      "outputs": [
        {
          "output_type": "execute_result",
          "data": {
            "text/plain": [
              "(False, True)"
            ]
          },
          "metadata": {},
          "execution_count": 29
        }
      ]
    },
    {
      "cell_type": "code",
      "source": [
        "bool('Hello world!'), bool('')"
      ],
      "metadata": {
        "colab": {
          "base_uri": "https://localhost:8080/"
        },
        "id": "1UIHSAtD7WW7",
        "outputId": "6dcd5a95-a0bd-4766-c5db-2e4145c44875"
      },
      "execution_count": 31,
      "outputs": [
        {
          "output_type": "execute_result",
          "data": {
            "text/plain": [
              "(True, False)"
            ]
          },
          "metadata": {},
          "execution_count": 31
        }
      ]
    },
    {
      "cell_type": "code",
      "source": [
        "bool(0),bool(1)"
      ],
      "metadata": {
        "colab": {
          "base_uri": "https://localhost:8080/"
        },
        "id": "93dA8xDn7WYu",
        "outputId": "fb21b5e5-d333-4a5d-c552-ba2b05b7fdc1"
      },
      "execution_count": 32,
      "outputs": [
        {
          "output_type": "execute_result",
          "data": {
            "text/plain": [
              "(False, True)"
            ]
          },
          "metadata": {},
          "execution_count": 32
        }
      ]
    },
    {
      "cell_type": "markdown",
      "source": [
        "# 튜플\n",
        "## 일반적으로 데이터 input과 output을 tuple로 저장"
      ],
      "metadata": {
        "id": "zJQ7Znes_evC"
      }
    },
    {
      "cell_type": "code",
      "source": [
        "# 튜플\n",
        "tup = 4, 5, 6\n",
        "tup"
      ],
      "metadata": {
        "colab": {
          "base_uri": "https://localhost:8080/"
        },
        "id": "JihkqKhM7WcL",
        "outputId": "c6019f91-3c38-4edf-fd0c-92c368a74a60"
      },
      "execution_count": 33,
      "outputs": [
        {
          "output_type": "execute_result",
          "data": {
            "text/plain": [
              "(4, 5, 6)"
            ]
          },
          "metadata": {},
          "execution_count": 33
        }
      ]
    },
    {
      "cell_type": "code",
      "source": [
        "# 괄호를 사용해서 값을 묶어줌으로써 중첩된 튜플 정의\n",
        "nested_tup = (4, 5, 6), (7, 8)\n",
        "nested_tup"
      ],
      "metadata": {
        "colab": {
          "base_uri": "https://localhost:8080/"
        },
        "id": "BbDrzoOi75g1",
        "outputId": "a808b75a-46fa-4127-adcd-acb73aa1e43a"
      },
      "execution_count": 34,
      "outputs": [
        {
          "output_type": "execute_result",
          "data": {
            "text/plain": [
              "((4, 5, 6), (7, 8))"
            ]
          },
          "metadata": {},
          "execution_count": 34
        }
      ]
    },
    {
      "cell_type": "code",
      "source": [
        "# 튜플에서 값 분리하기\n",
        "tup = (4, 5, 6)"
      ],
      "metadata": {
        "id": "-ViN5T--8SKc"
      },
      "execution_count": 35,
      "outputs": []
    },
    {
      "cell_type": "code",
      "source": [
        "a, b, c = tup"
      ],
      "metadata": {
        "id": "wD08-fA58aTi"
      },
      "execution_count": 36,
      "outputs": []
    },
    {
      "cell_type": "code",
      "source": [
        "b"
      ],
      "metadata": {
        "colab": {
          "base_uri": "https://localhost:8080/"
        },
        "id": "xgGiv2aa8aVe",
        "outputId": "f2ad70af-1f16-4aa3-9864-1437ccfff86d"
      },
      "execution_count": 37,
      "outputs": [
        {
          "output_type": "execute_result",
          "data": {
            "text/plain": [
              "5"
            ]
          },
          "metadata": {},
          "execution_count": 37
        }
      ]
    },
    {
      "cell_type": "code",
      "source": [
        "tup = 4, 5, (6, 7)"
      ],
      "metadata": {
        "id": "y60lx8RE8aZC"
      },
      "execution_count": 38,
      "outputs": []
    },
    {
      "cell_type": "code",
      "source": [
        "a, b, (c, d) = tup"
      ],
      "metadata": {
        "id": "QOeZ7yA48knP"
      },
      "execution_count": 39,
      "outputs": []
    },
    {
      "cell_type": "code",
      "source": [
        "d"
      ],
      "metadata": {
        "colab": {
          "base_uri": "https://localhost:8080/"
        },
        "id": "MvLdtvpM8l_M",
        "outputId": "f2af942a-72d5-4205-90ab-dad90dab3bd9"
      },
      "execution_count": 40,
      "outputs": [
        {
          "output_type": "execute_result",
          "data": {
            "text/plain": [
              "7"
            ]
          },
          "metadata": {},
          "execution_count": 40
        }
      ]
    },
    {
      "cell_type": "markdown",
      "source": [
        "# 리스트\n",
        "## 튜플과는 대조적으로 리스트는 크기나 내용의 변경이 가능\n",
        "## 대괄호 []나 list 함수 사용해서 생성"
      ],
      "metadata": {
        "id": "Dxrkyk-F_kaR"
      }
    },
    {
      "cell_type": "code",
      "source": [
        "# 리스트\n",
        "a_list = [2, 3, 7, None]"
      ],
      "metadata": {
        "id": "FaBOOOHD8mRX"
      },
      "execution_count": 41,
      "outputs": []
    },
    {
      "cell_type": "code",
      "source": [
        "tup = ('foo', 'bar', 'baz')"
      ],
      "metadata": {
        "id": "8Of3ut8L8qIU"
      },
      "execution_count": 42,
      "outputs": []
    },
    {
      "cell_type": "code",
      "source": [
        "b_list = list(tup)"
      ],
      "metadata": {
        "id": "3Ic09wKn8snx"
      },
      "execution_count": 43,
      "outputs": []
    },
    {
      "cell_type": "code",
      "source": [
        "b_list"
      ],
      "metadata": {
        "colab": {
          "base_uri": "https://localhost:8080/"
        },
        "id": "pr7r8Qtu8uHn",
        "outputId": "be5c26fa-b37c-4c1f-ef33-dbc5afa04129"
      },
      "execution_count": 44,
      "outputs": [
        {
          "output_type": "execute_result",
          "data": {
            "text/plain": [
              "['foo', 'bar', 'baz']"
            ]
          },
          "metadata": {},
          "execution_count": 44
        }
      ]
    },
    {
      "cell_type": "code",
      "source": [
        "b_list[1] = 'peekaboo'"
      ],
      "metadata": {
        "id": "1OavpDV88urW"
      },
      "execution_count": 45,
      "outputs": []
    },
    {
      "cell_type": "code",
      "source": [
        "b_list"
      ],
      "metadata": {
        "colab": {
          "base_uri": "https://localhost:8080/"
        },
        "id": "cmsjTHT78y3-",
        "outputId": "a66cc078-8916-45e5-c415-7b3fc6ad70a3"
      },
      "execution_count": 46,
      "outputs": [
        {
          "output_type": "execute_result",
          "data": {
            "text/plain": [
              "['foo', 'peekaboo', 'baz']"
            ]
          },
          "metadata": {},
          "execution_count": 46
        }
      ]
    },
    {
      "cell_type": "markdown",
      "source": [
        "## 리스트 슬라이싱"
      ],
      "metadata": {
        "id": "GTowdxao_qRP"
      }
    },
    {
      "cell_type": "code",
      "source": [
        "# 슬라이싱\n",
        "seq = [7, 2, 3, 7, 5, 6, 0, 1]"
      ],
      "metadata": {
        "id": "EvWCuCjD8zNy"
      },
      "execution_count": 48,
      "outputs": []
    },
    {
      "cell_type": "code",
      "source": [
        "seq[1:5]"
      ],
      "metadata": {
        "colab": {
          "base_uri": "https://localhost:8080/"
        },
        "id": "SBgoa-YD8-dN",
        "outputId": "0604dcf5-7e9b-49e1-b084-9a2631f37bab"
      },
      "execution_count": 49,
      "outputs": [
        {
          "output_type": "execute_result",
          "data": {
            "text/plain": [
              "[2, 3, 7, 5]"
            ]
          },
          "metadata": {},
          "execution_count": 49
        }
      ]
    },
    {
      "cell_type": "code",
      "source": [
        "seq[3:4] = [6, 3, 1]"
      ],
      "metadata": {
        "id": "MDTQPOih9A5_"
      },
      "execution_count": 50,
      "outputs": []
    },
    {
      "cell_type": "code",
      "source": [
        "seq"
      ],
      "metadata": {
        "colab": {
          "base_uri": "https://localhost:8080/"
        },
        "id": "QrSB1KEa9ELE",
        "outputId": "072de8eb-ec25-4905-bddf-5d82b24f57dc"
      },
      "execution_count": 51,
      "outputs": [
        {
          "output_type": "execute_result",
          "data": {
            "text/plain": [
              "[7, 2, 3, 6, 3, 1, 5, 6, 0, 1]"
            ]
          },
          "metadata": {},
          "execution_count": 51
        }
      ]
    },
    {
      "cell_type": "code",
      "source": [
        "seq[:5]"
      ],
      "metadata": {
        "colab": {
          "base_uri": "https://localhost:8080/"
        },
        "id": "vUB7JUbb9EfD",
        "outputId": "7640b68f-10db-4090-f58c-c8610981412c"
      },
      "execution_count": 52,
      "outputs": [
        {
          "output_type": "execute_result",
          "data": {
            "text/plain": [
              "[7, 2, 3, 6, 3]"
            ]
          },
          "metadata": {},
          "execution_count": 52
        }
      ]
    },
    {
      "cell_type": "code",
      "source": [
        "seq[3:]"
      ],
      "metadata": {
        "colab": {
          "base_uri": "https://localhost:8080/"
        },
        "id": "JGf5kCYk9JV3",
        "outputId": "85371200-c67d-45f2-9137-0643c2af2abe"
      },
      "execution_count": 53,
      "outputs": [
        {
          "output_type": "execute_result",
          "data": {
            "text/plain": [
              "[6, 3, 1, 5, 6, 0, 1]"
            ]
          },
          "metadata": {},
          "execution_count": 53
        }
      ]
    },
    {
      "cell_type": "code",
      "source": [
        "seq[-4:]"
      ],
      "metadata": {
        "colab": {
          "base_uri": "https://localhost:8080/"
        },
        "id": "59UNd7hQ9KNb",
        "outputId": "52e70b24-a4df-48e1-b2d3-d8c7367324e2"
      },
      "execution_count": 54,
      "outputs": [
        {
          "output_type": "execute_result",
          "data": {
            "text/plain": [
              "[5, 6, 0, 1]"
            ]
          },
          "metadata": {},
          "execution_count": 54
        }
      ]
    },
    {
      "cell_type": "code",
      "source": [
        "seq[-6:-2]"
      ],
      "metadata": {
        "colab": {
          "base_uri": "https://localhost:8080/"
        },
        "id": "tlzDbHNn9LLG",
        "outputId": "70f29906-9602-40bd-94d9-07e41dda5a51"
      },
      "execution_count": 55,
      "outputs": [
        {
          "output_type": "execute_result",
          "data": {
            "text/plain": [
              "[3, 1, 5, 6]"
            ]
          },
          "metadata": {},
          "execution_count": 55
        }
      ]
    },
    {
      "cell_type": "code",
      "source": [
        "seq[::2]"
      ],
      "metadata": {
        "colab": {
          "base_uri": "https://localhost:8080/"
        },
        "id": "rwE8of0o9MJN",
        "outputId": "0f4ebbeb-fece-4c8c-b00d-01464427e397"
      },
      "execution_count": 56,
      "outputs": [
        {
          "output_type": "execute_result",
          "data": {
            "text/plain": [
              "[7, 3, 3, 5, 0]"
            ]
          },
          "metadata": {},
          "execution_count": 56
        }
      ]
    },
    {
      "cell_type": "code",
      "source": [
        "seq[::-1]"
      ],
      "metadata": {
        "colab": {
          "base_uri": "https://localhost:8080/"
        },
        "id": "Nwd1m9m79NAL",
        "outputId": "8d3d9901-e04f-4382-fbbd-76f157960199"
      },
      "execution_count": 57,
      "outputs": [
        {
          "output_type": "execute_result",
          "data": {
            "text/plain": [
              "[1, 0, 6, 5, 1, 3, 6, 3, 2, 7]"
            ]
          },
          "metadata": {},
          "execution_count": 57
        }
      ]
    },
    {
      "cell_type": "markdown",
      "source": [
        "# 내장 순차 자료형 함수 (sorted)\n",
        "## 정렬된 새로운 순차 자료형 반환"
      ],
      "metadata": {
        "id": "M1fvjUwB_siT"
      }
    },
    {
      "cell_type": "code",
      "source": [
        "# 내장 순차 자료형 함수: sorted\n",
        "# 정렬된 새로운 순차 자료형 반환\n",
        "sorted([7, 1, 2, 6, 0, 3, 2])"
      ],
      "metadata": {
        "colab": {
          "base_uri": "https://localhost:8080/"
        },
        "id": "6ngRoUFx9Tq8",
        "outputId": "6b46314c-ece8-414d-e2c3-dca0f7892aba"
      },
      "execution_count": 58,
      "outputs": [
        {
          "output_type": "execute_result",
          "data": {
            "text/plain": [
              "[0, 1, 2, 2, 3, 6, 7]"
            ]
          },
          "metadata": {},
          "execution_count": 58
        }
      ]
    },
    {
      "cell_type": "code",
      "source": [
        "sorted('horse race')"
      ],
      "metadata": {
        "colab": {
          "base_uri": "https://localhost:8080/"
        },
        "id": "yFvHqjWZ9bMm",
        "outputId": "5dfe4674-e9a0-466f-8144-2dcac41e3b81"
      },
      "execution_count": 59,
      "outputs": [
        {
          "output_type": "execute_result",
          "data": {
            "text/plain": [
              "[' ', 'a', 'c', 'e', 'e', 'h', 'o', 'r', 'r', 's']"
            ]
          },
          "metadata": {},
          "execution_count": 59
        }
      ]
    },
    {
      "cell_type": "markdown",
      "source": [
        "# 내장 순차 자료형 함수 (zip)\n",
        "## 여러 개의 리스트나 튜플 또는 다른 순차 자료형을 서로 짝지어서 튜플의 리스트 생성"
      ],
      "metadata": {
        "id": "i6zva6z-9s3t"
      }
    },
    {
      "cell_type": "code",
      "source": [
        "seq1 = ['foo', 'bar', 'baz']\n",
        "seq2 = ['one', 'two', 'three']"
      ],
      "metadata": {
        "id": "By4lGbJq9c9q"
      },
      "execution_count": 60,
      "outputs": []
    },
    {
      "cell_type": "code",
      "source": [
        "zip(seq1, seq2)"
      ],
      "metadata": {
        "colab": {
          "base_uri": "https://localhost:8080/"
        },
        "id": "3eqIwmE892gj",
        "outputId": "a3072a6c-a7e2-435e-9275-f5107b63f5b3"
      },
      "execution_count": 61,
      "outputs": [
        {
          "output_type": "execute_result",
          "data": {
            "text/plain": [
              "<zip at 0x79281c5c9800>"
            ]
          },
          "metadata": {},
          "execution_count": 61
        }
      ]
    },
    {
      "cell_type": "code",
      "source": [
        "seq3 = [False, True]"
      ],
      "metadata": {
        "id": "F3c4eqFd93YB"
      },
      "execution_count": 62,
      "outputs": []
    },
    {
      "cell_type": "code",
      "source": [
        "zip(seq1, seq2, seq3)"
      ],
      "metadata": {
        "colab": {
          "base_uri": "https://localhost:8080/"
        },
        "id": "xvNMsAJu95nt",
        "outputId": "2ba3d9cd-2ebe-412a-867f-02436dec9d50"
      },
      "execution_count": 63,
      "outputs": [
        {
          "output_type": "execute_result",
          "data": {
            "text/plain": [
              "<zip at 0x79281c5cbc00>"
            ]
          },
          "metadata": {},
          "execution_count": 63
        }
      ]
    },
    {
      "cell_type": "code",
      "source": [
        "for i, (a, b) in enumerate(zip(seq1, seq2)):\n",
        "    print('%d %s %s' %(i, a, b))"
      ],
      "metadata": {
        "colab": {
          "base_uri": "https://localhost:8080/"
        },
        "id": "kgz2iYuB964_",
        "outputId": "616f845e-3f2f-4382-f474-2387ae67bdbf"
      },
      "execution_count": 64,
      "outputs": [
        {
          "output_type": "stream",
          "name": "stdout",
          "text": [
            "0 foo one\n",
            "1 bar two\n",
            "2 baz three\n"
          ]
        }
      ]
    },
    {
      "cell_type": "markdown",
      "source": [
        "# 사전(dict)\n",
        "## 파이썬 내장 자료 구조 중 가장 중요한 자료 구조\n",
        "## 일반적으로 해시맵 또는 연관 배열이라고 알려져 있음"
      ],
      "metadata": {
        "id": "ssii5mBB-OJc"
      }
    },
    {
      "cell_type": "code",
      "source": [
        "empty_dict = {}"
      ],
      "metadata": {
        "id": "wj38QU8S-KWO"
      },
      "execution_count": 65,
      "outputs": []
    },
    {
      "cell_type": "code",
      "source": [
        "d1 = {'a': 'some value', 'b': [1, 2, 3, 4]}\n",
        "d1"
      ],
      "metadata": {
        "colab": {
          "base_uri": "https://localhost:8080/"
        },
        "id": "WOisfq9F-VPD",
        "outputId": "d9f1ee90-f091-407d-b60d-ccaa5067115c"
      },
      "execution_count": 66,
      "outputs": [
        {
          "output_type": "execute_result",
          "data": {
            "text/plain": [
              "{'a': 'some value', 'b': [1, 2, 3, 4]}"
            ]
          },
          "metadata": {},
          "execution_count": 66
        }
      ]
    },
    {
      "cell_type": "code",
      "source": [
        "d1[7] = 'an integer'\n",
        "d1"
      ],
      "metadata": {
        "colab": {
          "base_uri": "https://localhost:8080/"
        },
        "id": "lsFEzwmA-Z7b",
        "outputId": "7efacff6-2dd8-44de-d28a-4dba0d1e34ba"
      },
      "execution_count": 67,
      "outputs": [
        {
          "output_type": "execute_result",
          "data": {
            "text/plain": [
              "{'a': 'some value', 'b': [1, 2, 3, 4], 7: 'an integer'}"
            ]
          },
          "metadata": {},
          "execution_count": 67
        }
      ]
    },
    {
      "cell_type": "code",
      "source": [
        "d1['b']"
      ],
      "metadata": {
        "colab": {
          "base_uri": "https://localhost:8080/"
        },
        "id": "QeTkgBHP-dmp",
        "outputId": "3341de04-2d73-493c-df15-1395a150311d"
      },
      "execution_count": 68,
      "outputs": [
        {
          "output_type": "execute_result",
          "data": {
            "text/plain": [
              "[1, 2, 3, 4]"
            ]
          },
          "metadata": {},
          "execution_count": 68
        }
      ]
    },
    {
      "cell_type": "code",
      "source": [
        "'b' in d1 # 사전에 어떤 키가 있는지 확인"
      ],
      "metadata": {
        "colab": {
          "base_uri": "https://localhost:8080/"
        },
        "id": "e5BSPfbU-ehT",
        "outputId": "e003c608-e710-4b14-bb83-8e00adca4e28"
      },
      "execution_count": 69,
      "outputs": [
        {
          "output_type": "execute_result",
          "data": {
            "text/plain": [
              "True"
            ]
          },
          "metadata": {},
          "execution_count": 69
        }
      ]
    },
    {
      "cell_type": "markdown",
      "source": [
        "# 세트\n",
        "## 유일한 원소만 담는 정렬되지 않는 자료형"
      ],
      "metadata": {
        "id": "Vepzv5uW-lDM"
      }
    },
    {
      "cell_type": "code",
      "source": [
        "# set 함수\n",
        "set([2, 2, 2, 1, 3, 3])"
      ],
      "metadata": {
        "colab": {
          "base_uri": "https://localhost:8080/"
        },
        "id": "8LWPVNwj-g-f",
        "outputId": "9aa35a65-b61d-4337-cd25-bb5855bfd295"
      },
      "execution_count": 70,
      "outputs": [
        {
          "output_type": "execute_result",
          "data": {
            "text/plain": [
              "{1, 2, 3}"
            ]
          },
          "metadata": {},
          "execution_count": 70
        }
      ]
    },
    {
      "cell_type": "code",
      "source": [
        "# 중괄호 {} 이용\n",
        "{2, 2, 2, 1, 3, 3}"
      ],
      "metadata": {
        "colab": {
          "base_uri": "https://localhost:8080/"
        },
        "id": "i7nD9ZOg-vDF",
        "outputId": "b1fb4a06-73a4-4897-d81a-a51d33a524ee"
      },
      "execution_count": 71,
      "outputs": [
        {
          "output_type": "execute_result",
          "data": {
            "text/plain": [
              "{1, 2, 3}"
            ]
          },
          "metadata": {},
          "execution_count": 71
        }
      ]
    },
    {
      "cell_type": "markdown",
      "source": [
        "# 퀴즈 1 (22페이지)"
      ],
      "metadata": {
        "id": "9Y5VxLu-DBSW"
      }
    },
    {
      "cell_type": "code",
      "source": [
        "# 다음 코드의 결괏값은 무엇일까?\n",
        "a = 'Life is too short, you need python'\n",
        "if 'wife' in a: print(\"wife\")\n",
        "elif \"python\" in a and 'you' not in a: print(\"python\")\n",
        "elif 'shirt' not in a: print('shirt')\n",
        "elif \"need\" in a: print(\"need\")\n",
        "else: print('none')"
      ],
      "metadata": {
        "colab": {
          "base_uri": "https://localhost:8080/"
        },
        "id": "tqkhFNVlDEhj",
        "outputId": "8b723127-8f61-4a9b-94ab-b80eff743e93"
      },
      "execution_count": 75,
      "outputs": [
        {
          "output_type": "stream",
          "name": "stdout",
          "text": [
            "shirt\n"
          ]
        }
      ]
    },
    {
      "cell_type": "markdown",
      "source": [
        "# 퀴즈 2 (22페이지)"
      ],
      "metadata": {
        "id": "xnqm6ooUDf2b"
      }
    },
    {
      "cell_type": "code",
      "source": [
        "# while문을 사용해 1부터 1000까지의 자연수 중 3의 배수의 합을 구해보자.\n",
        "result = 0\n",
        "i = 1\n",
        "while i != 1000:\n",
        "    if i % 3 == 0:\n",
        "        result += i\n",
        "    i += 1\n",
        "print(result)"
      ],
      "metadata": {
        "colab": {
          "base_uri": "https://localhost:8080/"
        },
        "id": "GkT2eqoBDMn6",
        "outputId": "38002bd3-8d09-4321-b675-62671e016ff6"
      },
      "execution_count": 79,
      "outputs": [
        {
          "output_type": "stream",
          "name": "stdout",
          "text": [
            "166833\n"
          ]
        }
      ]
    },
    {
      "cell_type": "markdown",
      "source": [
        "# 퀴즈 3 (23페이지)"
      ],
      "metadata": {
        "id": "c_94eX2kDiz5"
      }
    },
    {
      "cell_type": "code",
      "source": [
        "# 리스트 중에서 홀수에만 2를 곱하여 저장하는 다음 코드가 있다.\n",
        "numbers = [1, 2, 3, 4, 5]\n",
        "\n",
        "result = []\n",
        "for n in numbers:\n",
        "    if n % 2 == 1:\n",
        "        result.append(n*2)\n",
        "print(result)"
      ],
      "metadata": {
        "colab": {
          "base_uri": "https://localhost:8080/"
        },
        "id": "pB72j7LrDi_-",
        "outputId": "ccb91948-cc28-4131-9125-2e0a2d0fa2b7"
      },
      "execution_count": 81,
      "outputs": [
        {
          "output_type": "stream",
          "name": "stdout",
          "text": [
            "[2, 6, 10]\n"
          ]
        }
      ]
    },
    {
      "cell_type": "code",
      "source": [
        "# 위 코드를 리스트 내포를 사용하여 표현해보자.\n",
        "numbers = [1, 2, 3, 4, 5]\n",
        "\n",
        "result = [n * 2 for n in numbers if n % 2 == 1]\n",
        "print(result)"
      ],
      "metadata": {
        "colab": {
          "base_uri": "https://localhost:8080/"
        },
        "id": "Dke1PHUSEN5M",
        "outputId": "390ccaa9-e815-49fd-94d9-46acfae40a52"
      },
      "execution_count": 83,
      "outputs": [
        {
          "output_type": "stream",
          "name": "stdout",
          "text": [
            "[2, 6, 10]\n"
          ]
        }
      ]
    },
    {
      "cell_type": "markdown",
      "source": [
        "# 퀴즈 4 (24페이지)"
      ],
      "metadata": {
        "id": "zkqx4SyYDjLM"
      }
    },
    {
      "cell_type": "code",
      "source": [
        "# 주어진 자연수가 홀수인지 짝수인지 판별해주는 함수를 작성해보자.\n",
        "def is_odd(number):\n",
        "    if number % 2 == 1: # 홀수\n",
        "        return True\n",
        "    else:\n",
        "        return False\n",
        "        result.append(n * 2)\n",
        "\n",
        "print(is_odd(2))\n",
        "print(is_odd(3))"
      ],
      "metadata": {
        "colab": {
          "base_uri": "https://localhost:8080/"
        },
        "id": "oei-hYLWDjXa",
        "outputId": "58c32939-e580-45f5-e7ac-a7bbfc852f6e"
      },
      "execution_count": 87,
      "outputs": [
        {
          "output_type": "stream",
          "name": "stdout",
          "text": [
            "False\n",
            "True\n"
          ]
        }
      ]
    },
    {
      "cell_type": "markdown",
      "source": [
        "# 퀴즈 5 (25페이지)"
      ],
      "metadata": {
        "id": "xDBcxFoiDomt"
      }
    },
    {
      "cell_type": "code",
      "source": [
        "# 입력으로 들어오는 모든 수의 평균 값을 계산해 주는 함수를 작성해 보자.\n",
        "\n",
        "def avg_numbers(*args):\n",
        "    result = 0\n",
        "    for i in args:\n",
        "        result += i\n",
        "    return result\n",
        "\n",
        "print(avg_numbers(1, 2))\n",
        "print(avg_numbers(1, 2, 3, 4, 5))"
      ],
      "metadata": {
        "colab": {
          "base_uri": "https://localhost:8080/"
        },
        "id": "dAciCOQjDoz-",
        "outputId": "9867e06b-6199-4754-8c2a-f1579f82c3e6"
      },
      "execution_count": 88,
      "outputs": [
        {
          "output_type": "stream",
          "name": "stdout",
          "text": [
            "3\n",
            "15\n"
          ]
        }
      ]
    }
  ]
}