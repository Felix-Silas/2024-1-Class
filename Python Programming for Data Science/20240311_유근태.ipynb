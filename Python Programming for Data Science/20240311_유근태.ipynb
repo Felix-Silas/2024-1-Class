{
  "nbformat": 4,
  "nbformat_minor": 0,
  "metadata": {
    "colab": {
      "provenance": [],
      "toc_visible": true
    },
    "kernelspec": {
      "name": "python3",
      "display_name": "Python 3"
    },
    "language_info": {
      "name": "python"
    }
  },
  "cells": [
    {
      "cell_type": "markdown",
      "source": [
        "# 2주차 1-1. 대학교 성적 등급 만들기\n",
        "## input 사용 (키보드에서 입력 받아라)\n",
        "## while -> stop\n",
        "## list, 배열, 꽤 쓸만한 등급체계 알고리즘을 만들어 보세요.\n",
        "## 주석 넣기"
      ],
      "metadata": {
        "id": "cMzOutBS4pjV"
      }
    },
    {
      "cell_type": "code",
      "source": [
        "# while문으로 반복 진행\n",
        "while True:\n",
        "    # 점수와 과목 input으로 입력받기\n",
        "    score = int(input('성적을 입력하세요.: '))\n",
        "    subject = input('과목을 입력하세요.: ')\n",
        "\n",
        "    # 학점 조건문\n",
        "    if score >= 95:\n",
        "        grade = 'A+'\n",
        "    elif score >= 90:\n",
        "        grade = 'A'\n",
        "    elif score >= 85:\n",
        "        grade = 'B+'\n",
        "    elif score >= 80:\n",
        "        grade = 'B'\n",
        "    elif score >= 75:\n",
        "        grade = 'C+'\n",
        "    elif score >= 70:\n",
        "        grade = 'C'\n",
        "    elif score >= 65:\n",
        "        grade = 'D+'\n",
        "    elif score >= 60:\n",
        "        grade = 'D'\n",
        "    else:\n",
        "        grade = 'F'\n",
        "\n",
        "    # 결과  출력\n",
        "    print(f'{subject} 과목의 점수는 {score}이고, 학점은 {grade}입니다.')\n",
        "\n",
        "    # while문 빠져나오기 위한 조건 추가\n",
        "    exit  = input('계속 점수를 확인하실건가요? (yes/no) ')\n",
        "    if exit == 'no':\n",
        "        break"
      ],
      "metadata": {
        "colab": {
          "base_uri": "https://localhost:8080/"
        },
        "id": "cG-wht2R3MR0",
        "outputId": "ebe14b19-62e6-4d6f-9f92-98343ff17ded"
      },
      "execution_count": null,
      "outputs": [
        {
          "name": "stdout",
          "output_type": "stream",
          "text": [
            "성적을 입력하세요.: 95\n",
            "과목을 입력하세요.: 수학\n",
            "수학 과목의 점수는 95이고, 학점은 A+입니다.\n",
            "계속 점수를 확인하실건가요? (yes/no) yes\n",
            "성적을 입력하세요.: 51\n",
            "과목을 입력하세요.: 영어\n",
            "영어 과목의 점수는 51이고, 학점은 F입니다.\n",
            "계속 점수를 확인하실건가요? (yes/no) no\n"
          ]
        }
      ]
    },
    {
      "cell_type": "markdown",
      "source": [
        "# 2주차 2-1"
      ],
      "metadata": {
        "id": "V6apL-mQ8X3O"
      }
    },
    {
      "cell_type": "code",
      "source": [
        "# x값 입력받기\n",
        "x = -3\n",
        "\n",
        "# 조건문에 따라 출력\n",
        "if x < 0:\n",
        "    print('it\\'s negative')\n",
        "elif x == 0:\n",
        "    print('Equal to zero')\n",
        "elif 0 < x < 5:\n",
        "    print('Positive but smaller than 5')\n",
        "else:\n",
        "    print('Positive and larger than or equal to 5')"
      ],
      "metadata": {
        "colab": {
          "base_uri": "https://localhost:8080/"
        },
        "id": "9kCrSDET8X-m",
        "outputId": "d51779f8-d610-488d-8db6-a82c4d7490b3"
      },
      "execution_count": null,
      "outputs": [
        {
          "output_type": "stream",
          "name": "stdout",
          "text": [
            "it's negative\n"
          ]
        }
      ]
    },
    {
      "cell_type": "markdown",
      "source": [
        "# 2주차 3-1"
      ],
      "metadata": {
        "id": "XU3PvWqi-_eh"
      }
    },
    {
      "cell_type": "code",
      "source": [
        "# 단순하게 반복을 하는 경우 range 이용\n",
        "for i in range(5):\n",
        "    print(i)"
      ],
      "metadata": {
        "colab": {
          "base_uri": "https://localhost:8080/"
        },
        "id": "zFCPvapi-Mzs",
        "outputId": "b95f766a-476d-44c1-f891-fffb6ca67ccd"
      },
      "execution_count": null,
      "outputs": [
        {
          "output_type": "stream",
          "name": "stdout",
          "text": [
            "0\n",
            "1\n",
            "2\n",
            "3\n",
            "4\n"
          ]
        }
      ]
    },
    {
      "cell_type": "code",
      "source": [
        "# 특정한 list를 사용해야 하는 경우\n",
        "dates = ['0302', '0309', '0316', '0323']\n",
        "for date in dates:\n",
        "    print('The lecture is held on ' + date)"
      ],
      "metadata": {
        "colab": {
          "base_uri": "https://localhost:8080/"
        },
        "id": "M6l5Xf-U_LUh",
        "outputId": "bc2c3af7-1058-47a6-d0cc-04224b60ad12"
      },
      "execution_count": null,
      "outputs": [
        {
          "output_type": "stream",
          "name": "stdout",
          "text": [
            "The lecture is held on 0302\n",
            "The lecture is held on 0309\n",
            "The lecture is held on 0316\n",
            "The lecture is held on 0323\n"
          ]
        }
      ]
    },
    {
      "cell_type": "markdown",
      "source": [
        "# 2주차 5-1"
      ],
      "metadata": {
        "id": "Xg7LXA6vAqRl"
      }
    },
    {
      "cell_type": "code",
      "source": [
        "# continue 예약어 사용\n",
        "sequence = [1, 2, None, 4, None, 5]\n",
        "total = 0\n",
        "\n",
        "for value in sequence:\n",
        "    if value is None:\n",
        "        continue # 건너뛰고 다음 순회로 넘어감\n",
        "    total += value\n",
        "\n",
        "total"
      ],
      "metadata": {
        "colab": {
          "base_uri": "https://localhost:8080/"
        },
        "id": "mVmoD89PAqhF",
        "outputId": "54fab8bb-3a8b-4a5b-d9e0-a0d5dbfbdf60"
      },
      "execution_count": null,
      "outputs": [
        {
          "output_type": "execute_result",
          "data": {
            "text/plain": [
              "12"
            ]
          },
          "metadata": {},
          "execution_count": 25
        }
      ]
    },
    {
      "cell_type": "markdown",
      "source": [
        "# 2주차 6-1"
      ],
      "metadata": {
        "id": "6xpKHIRdA7t-"
      }
    },
    {
      "cell_type": "code",
      "source": [
        "# break 예약어 사용\n",
        "sequence = [1, 2, 0, 4, 6, 5, 2, 1]\n",
        "total_until_5 = 0\n",
        "\n",
        "for value in sequence:\n",
        "    if value == 5:\n",
        "        break # for문을 빠져나감\n",
        "    total_until_5 += value\n",
        "\n",
        "total_until_5"
      ],
      "metadata": {
        "colab": {
          "base_uri": "https://localhost:8080/"
        },
        "id": "ocVWNv6kAqjp",
        "outputId": "79420000-b216-4862-dda7-ce8b9f2cfaa4"
      },
      "execution_count": null,
      "outputs": [
        {
          "output_type": "execute_result",
          "data": {
            "text/plain": [
              "13"
            ]
          },
          "metadata": {},
          "execution_count": 26
        }
      ]
    },
    {
      "cell_type": "markdown",
      "source": [
        "# 2주차 7-1"
      ],
      "metadata": {
        "id": "fGKYKQeIBr3K"
      }
    },
    {
      "cell_type": "code",
      "source": [
        "i = 0\n",
        "collection = [1, 2, 5]\n",
        "total = 0\n",
        "\n",
        "# collection 값을 모두 더한 값 구하기\n",
        "# enumerate 사용\n",
        "for i, value in enumerate(collection):\n",
        "    total += int(value)\n",
        "    print(f'{i}번째까지 더했을 때, total 값은 {total}이다.')"
      ],
      "metadata": {
        "colab": {
          "base_uri": "https://localhost:8080/"
        },
        "id": "zE8URykCB6Ze",
        "outputId": "22a6d374-ae63-4f59-f3f5-99cf40b392ed"
      },
      "execution_count": null,
      "outputs": [
        {
          "output_type": "stream",
          "name": "stdout",
          "text": [
            "0번째까지 더했을 때, total 값은 1이다.\n",
            "1번째까지 더했을 때, total 값은 3이다.\n",
            "2번째까지 더했을 때, total 값은 8이다.\n"
          ]
        }
      ]
    },
    {
      "cell_type": "markdown",
      "source": [
        "# 2주차 8-1"
      ],
      "metadata": {
        "id": "e2M37miVCdQ-"
      }
    },
    {
      "cell_type": "code",
      "source": [
        "# 특정한 list를 사용해야 하는 경우\n",
        "dates = ['0302', '0309', '0316', '0323', '0323']\n",
        "\n",
        "for i, date in enumerate(dates):\n",
        "    print('The ' + str(i) + 'th lecture is held on ' + date)"
      ],
      "metadata": {
        "colab": {
          "base_uri": "https://localhost:8080/"
        },
        "id": "1aTv_2DnAql7",
        "outputId": "1bf43228-30f2-4760-cd7e-e2a118379f83"
      },
      "execution_count": null,
      "outputs": [
        {
          "output_type": "stream",
          "name": "stdout",
          "text": [
            "The 0th lecture is held on 0302\n",
            "The 1th lecture is held on 0309\n",
            "The 2th lecture is held on 0316\n",
            "The 3th lecture is held on 0323\n",
            "The 4th lecture is held on 0323\n"
          ]
        }
      ]
    },
    {
      "cell_type": "markdown",
      "source": [
        "# 2주차 9-1"
      ],
      "metadata": {
        "id": "4ZPakz4VCfSm"
      }
    },
    {
      "cell_type": "code",
      "source": [
        "# 임의의 리스트 생성\n",
        "collection = [1, 3, 5, 2, 4, 6]\n",
        "\n",
        "result = []\n",
        "\n",
        "for val in collection:\n",
        "    if val % 2 == 0:  #  val이 짝수인 경우\n",
        "        result.append(val * 2)  # 짝수일 경우에는 val을 2배로 곱한 값을 결과에 추가\n",
        "\n",
        "print(result)"
      ],
      "metadata": {
        "colab": {
          "base_uri": "https://localhost:8080/"
        },
        "id": "0lFFGht-AqoW",
        "outputId": "7afb106c-c3ff-4d4b-ab53-92fcb899e1a2"
      },
      "execution_count": null,
      "outputs": [
        {
          "output_type": "stream",
          "name": "stdout",
          "text": [
            "[4, 8, 12]\n"
          ]
        }
      ]
    },
    {
      "cell_type": "markdown",
      "source": [
        "# 2주차 10-1"
      ],
      "metadata": {
        "id": "fSuaUeTGC2CE"
      }
    },
    {
      "cell_type": "code",
      "source": [
        "# 문자열 길이가 2 이하인 문자열 제외하고 나머지를 대문자로 바꾸는 예제\n",
        "strings = ['a', 'as', 'bat', 'car', 'dove', 'python']\n",
        "\n",
        "[x.upper() for x in strings if len(x) > 2]"
      ],
      "metadata": {
        "colab": {
          "base_uri": "https://localhost:8080/"
        },
        "id": "0IFn9mHrAqrx",
        "outputId": "edc10282-dfd3-42b4-c0fc-7f3696ef9762"
      },
      "execution_count": null,
      "outputs": [
        {
          "output_type": "execute_result",
          "data": {
            "text/plain": [
              "['BAT', 'CAR', 'DOVE', 'PYTHON']"
            ]
          },
          "metadata": {},
          "execution_count": 31
        }
      ]
    },
    {
      "cell_type": "markdown",
      "source": [
        "# 2주차 11-1"
      ],
      "metadata": {
        "id": "QmjvzEPUC-gH"
      }
    },
    {
      "cell_type": "code",
      "source": [
        "# 직접 해본 경우\n",
        "Names = ['leebyunghun', 'leehyolee', 'kangdongwon', 'Yoojaesuk', 'leeyoungja']\n",
        "list_lee = []\n",
        "\n",
        "for name in Names:\n",
        "    if name[0:3] == 'lee':\n",
        "        list_lee.append(name)\n",
        "\n",
        "print(list_lee)"
      ],
      "metadata": {
        "colab": {
          "base_uri": "https://localhost:8080/"
        },
        "id": "6HH8CGzjC2Pv",
        "outputId": "6029a194-cad7-454c-f669-3f2ecbf0f235"
      },
      "execution_count": null,
      "outputs": [
        {
          "output_type": "stream",
          "name": "stdout",
          "text": [
            "['leebyunghun', 'leehyolee', 'leeyoungja']\n"
          ]
        }
      ]
    },
    {
      "cell_type": "markdown",
      "source": [
        "# 2주차 12-1"
      ],
      "metadata": {
        "id": "tHWJ6-cFDirU"
      }
    },
    {
      "cell_type": "code",
      "source": [
        "# 답안지에 있는 경우\n",
        "\n",
        "# 'lee'씨 성을 가진 사람들로 새로운 리스트 구성\n",
        "lee_family = []\n",
        "\n",
        "# Names 리스트를 반복하며 'lee'씨 성을 가진 사람들만 추출\n",
        "for name in Names:\n",
        "    if name.startswith('lee'):\n",
        "        lee_family.append(name)\n",
        "\n",
        "print(lee_family)"
      ],
      "metadata": {
        "colab": {
          "base_uri": "https://localhost:8080/"
        },
        "id": "UFG2v2mxC2R5",
        "outputId": "706ffb17-279c-49ba-bff5-d8dddb9f2c2f"
      },
      "execution_count": null,
      "outputs": [
        {
          "output_type": "stream",
          "name": "stdout",
          "text": [
            "['leebyunghun', 'leehyolee', 'leeyoungja']\n"
          ]
        }
      ]
    },
    {
      "cell_type": "code",
      "source": [
        "# 답안지에 있는 경우\n",
        "\n",
        "# 'lee'씨 성을 가진 사람들로 새로운 리스트 구성\n",
        "lee_family = []\n",
        "\n",
        "# Names 리스트를 반복하며 'lee'씨 성을 가진 사람들만 추출 (인덱스 활용)\n",
        "for i in range(len(Names)):\n",
        "    if Names[i].startswith('lee'):\n",
        "        lee_family.append(Names[i])\n",
        "\n",
        "print(lee_family)"
      ],
      "metadata": {
        "colab": {
          "base_uri": "https://localhost:8080/"
        },
        "id": "l7T2RFILC2T-",
        "outputId": "7fa172a7-1fc4-44a0-a4c0-804a7073a5af"
      },
      "execution_count": null,
      "outputs": [
        {
          "output_type": "stream",
          "name": "stdout",
          "text": [
            "['leebyunghun', 'leehyolee', 'leeyoungja']\n",
            "['leebyunghun', 'leehyolee', 'leeyoungja']\n"
          ]
        }
      ]
    },
    {
      "cell_type": "markdown",
      "source": [
        "# 2주차 13-1"
      ],
      "metadata": {
        "id": "Qe3WYjZdE1Ot"
      }
    },
    {
      "cell_type": "code",
      "source": [
        "# while 반복문\n",
        "x = 0\n",
        "while x < 5:\n",
        "    x += 1\n",
        "    print(x)"
      ],
      "metadata": {
        "colab": {
          "base_uri": "https://localhost:8080/"
        },
        "id": "vSRO-cprC2WJ",
        "outputId": "ca98ffa3-a159-4498-cc1e-1aa2668eabf5"
      },
      "execution_count": null,
      "outputs": [
        {
          "output_type": "stream",
          "name": "stdout",
          "text": [
            "1\n",
            "2\n",
            "3\n",
            "4\n",
            "5\n"
          ]
        }
      ]
    },
    {
      "cell_type": "markdown",
      "source": [
        "#2주차 14-1"
      ],
      "metadata": {
        "id": "bYvtj8sPE6PE"
      }
    },
    {
      "cell_type": "code",
      "source": [
        "# 연속된 정수의 리스트 생성: range(stop)\n",
        "for i in range(10):\n",
        "    print(i)"
      ],
      "metadata": {
        "colab": {
          "base_uri": "https://localhost:8080/"
        },
        "id": "QqSSPsNdC2Yi",
        "outputId": "5d61e151-06e4-4784-c2d4-0678972174e1"
      },
      "execution_count": null,
      "outputs": [
        {
          "output_type": "stream",
          "name": "stdout",
          "text": [
            "0\n",
            "1\n",
            "2\n",
            "3\n",
            "4\n",
            "5\n",
            "6\n",
            "7\n",
            "8\n",
            "9\n"
          ]
        }
      ]
    },
    {
      "cell_type": "code",
      "source": [
        "# 연속된 정수의 리스트 생성: range(start, stop, [, step])\n",
        "for i in range(2, 20, 2):\n",
        "    print(i)"
      ],
      "metadata": {
        "colab": {
          "base_uri": "https://localhost:8080/"
        },
        "id": "SaWCkS6fC2b7",
        "outputId": "0e5f0dda-e991-4e5a-8767-7ac268c0d6e9"
      },
      "execution_count": null,
      "outputs": [
        {
          "output_type": "stream",
          "name": "stdout",
          "text": [
            "2\n",
            "4\n",
            "6\n",
            "8\n",
            "10\n",
            "12\n",
            "14\n",
            "16\n",
            "18\n"
          ]
        }
      ]
    },
    {
      "cell_type": "markdown",
      "source": [
        "# 2주차 15-1"
      ],
      "metadata": {
        "id": "-mBIKwA5FBm4"
      }
    },
    {
      "cell_type": "code",
      "source": [
        "# 0에서 9999까지 숫자 중 3이나 5의 배수 값의 합 구하기\n",
        "\n",
        "sum = 0\n",
        "\n",
        "for i in range(10000):\n",
        "    if i % 3 == 0 or i % 5 == 0:\n",
        "        sum += 1\n",
        "\n",
        "sum"
      ],
      "metadata": {
        "colab": {
          "base_uri": "https://localhost:8080/"
        },
        "id": "BZ8A5zKbFByI",
        "outputId": "d80966e1-a127-4910-c609-5d09fe164ef0"
      },
      "execution_count": null,
      "outputs": [
        {
          "output_type": "execute_result",
          "data": {
            "text/plain": [
              "4667"
            ]
          },
          "metadata": {},
          "execution_count": 44
        }
      ]
    },
    {
      "cell_type": "markdown",
      "source": [
        "2주차 16-1"
      ],
      "metadata": {
        "id": "DhbO_WM7FDO-"
      }
    },
    {
      "cell_type": "code",
      "source": [
        "# 함수 사용\n",
        "def my_function(x, y, z = 1.5):\n",
        "    # z가 1보다 큰 경우\n",
        "    if z > 1:\n",
        "        return z * (x + y)\n",
        "    # z가 1보다 작은 경우\n",
        "    else:\n",
        "        return z / (x + y)"
      ],
      "metadata": {
        "id": "YduMtDdvFB0Z"
      },
      "execution_count": null,
      "outputs": []
    },
    {
      "cell_type": "code",
      "source": [
        "my_function(5, 6, z = 0.7)"
      ],
      "metadata": {
        "colab": {
          "base_uri": "https://localhost:8080/"
        },
        "id": "0W8ydugJFB2t",
        "outputId": "84d52dde-9901-4894-bdff-ee6d70073f5f"
      },
      "execution_count": null,
      "outputs": [
        {
          "output_type": "execute_result",
          "data": {
            "text/plain": [
              "0.06363636363636363"
            ]
          },
          "metadata": {},
          "execution_count": 46
        }
      ]
    },
    {
      "cell_type": "code",
      "source": [
        "my_function(3.14, 7, 3.5)"
      ],
      "metadata": {
        "colab": {
          "base_uri": "https://localhost:8080/"
        },
        "id": "WvaXP-NW_SrR",
        "outputId": "c82da932-e7aa-4a9f-f2be-c1a071731f2e"
      },
      "execution_count": null,
      "outputs": [
        {
          "output_type": "execute_result",
          "data": {
            "text/plain": [
              "35.49"
            ]
          },
          "metadata": {},
          "execution_count": 48
        }
      ]
    },
    {
      "cell_type": "markdown",
      "source": [
        "# 2주차 17-1"
      ],
      "metadata": {
        "id": "pCAN5gdbFpWy"
      }
    },
    {
      "cell_type": "code",
      "source": [
        "# add 더하기 함수 만들기\n",
        "def add(a, b):\n",
        "    result = a + b\n",
        "    return result"
      ],
      "metadata": {
        "id": "MK69UddQFpik"
      },
      "execution_count": null,
      "outputs": []
    },
    {
      "cell_type": "code",
      "source": [
        "a = add(3, 4)\n",
        "print(a)"
      ],
      "metadata": {
        "colab": {
          "base_uri": "https://localhost:8080/"
        },
        "id": "WTzQFV8-Fpks",
        "outputId": "139f258c-3267-41fa-e05e-5855ad3d1694"
      },
      "execution_count": null,
      "outputs": [
        {
          "output_type": "stream",
          "name": "stdout",
          "text": [
            "7\n"
          ]
        }
      ]
    },
    {
      "cell_type": "markdown",
      "source": [
        "# 2주차 18-1"
      ],
      "metadata": {
        "id": "NHDB0asAFw1o"
      }
    },
    {
      "cell_type": "code",
      "source": [
        "# Hi 값을 리턴하는 say 함수 만들기\n",
        "def say():\n",
        "    return('Hi')"
      ],
      "metadata": {
        "id": "5V0vznCXFpml"
      },
      "execution_count": null,
      "outputs": []
    },
    {
      "cell_type": "code",
      "source": [
        "a = say()\n",
        "print(a)"
      ],
      "metadata": {
        "colab": {
          "base_uri": "https://localhost:8080/"
        },
        "id": "9NR8Y8lXFpqB",
        "outputId": "e39fef35-5816-48a0-9414-72e45fd8cded"
      },
      "execution_count": null,
      "outputs": [
        {
          "output_type": "stream",
          "name": "stdout",
          "text": [
            "Hi\n"
          ]
        }
      ]
    },
    {
      "cell_type": "markdown",
      "source": [
        "# 2주차 19-1"
      ],
      "metadata": {
        "id": "krM-UjxzGM1C"
      }
    },
    {
      "cell_type": "code",
      "source": [
        "# *매개변수 사용하고, 더하는 함수 만들기\n",
        "def add_many(*args):\n",
        "    result = 0\n",
        "\n",
        "    for i in args:\n",
        "        result = result + i\n",
        "\n",
        "    return result"
      ],
      "metadata": {
        "id": "wrfSM-d_Fk0C"
      },
      "execution_count": null,
      "outputs": []
    },
    {
      "cell_type": "code",
      "source": [
        "result = add_many(1, 2, 3)\n",
        "print(result)"
      ],
      "metadata": {
        "colab": {
          "base_uri": "https://localhost:8080/"
        },
        "id": "mqgN0gZxGFR4",
        "outputId": "a0ce7674-ea6a-4714-c321-999a6624f658"
      },
      "execution_count": null,
      "outputs": [
        {
          "output_type": "stream",
          "name": "stdout",
          "text": [
            "6\n"
          ]
        }
      ]
    },
    {
      "cell_type": "markdown",
      "source": [
        "# 2주차 20-1"
      ],
      "metadata": {
        "id": "OAG8itrqGO8-"
      }
    },
    {
      "cell_type": "code",
      "source": [
        "# 지역 변수 사용하는 경우\n",
        "def func():\n",
        "    a = []\n",
        "    for i in range(5):\n",
        "        a.append(i)\n",
        "\n",
        "a = []\n",
        "func()\n",
        "a"
      ],
      "metadata": {
        "colab": {
          "base_uri": "https://localhost:8080/"
        },
        "id": "VP3lUUi_GlxC",
        "outputId": "ff7419e7-1959-4f19-8864-9a919fa3435b"
      },
      "execution_count": null,
      "outputs": [
        {
          "output_type": "execute_result",
          "data": {
            "text/plain": [
              "[]"
            ]
          },
          "metadata": {},
          "execution_count": 68
        }
      ]
    },
    {
      "cell_type": "code",
      "source": [
        "# 전역 변수 사용하는 경우\n",
        "a = []\n",
        "def func():\n",
        "    for i in range(5):\n",
        "        a.append(i)\n",
        "\n",
        "func()\n",
        "a"
      ],
      "metadata": {
        "colab": {
          "base_uri": "https://localhost:8080/"
        },
        "id": "0hfP7NsYGHTC",
        "outputId": "5815ff6b-5aed-4c00-b611-48be00eadc40"
      },
      "execution_count": null,
      "outputs": [
        {
          "output_type": "execute_result",
          "data": {
            "text/plain": [
              "[0, 1, 2, 3, 4]"
            ]
          },
          "metadata": {},
          "execution_count": 69
        }
      ]
    },
    {
      "cell_type": "markdown",
      "source": [
        "# 2주차 21-1"
      ],
      "metadata": {
        "id": "DMPRPtWvGusn"
      }
    },
    {
      "cell_type": "code",
      "source": [
        "def f():\n",
        "    a = 5\n",
        "    b = 6\n",
        "    c = 7\n",
        "    return a, b, c"
      ],
      "metadata": {
        "id": "Zq2Sx-5rGYLs"
      },
      "execution_count": null,
      "outputs": []
    },
    {
      "cell_type": "code",
      "source": [
        "a, b, c = f()\n",
        "a, b, c"
      ],
      "metadata": {
        "colab": {
          "base_uri": "https://localhost:8080/"
        },
        "id": "NVtLe--zG5gP",
        "outputId": "6bef2a11-0d65-4aa9-8ae5-721017faa4f9"
      },
      "execution_count": null,
      "outputs": [
        {
          "output_type": "execute_result",
          "data": {
            "text/plain": [
              "(5, 6, 7)"
            ]
          },
          "metadata": {},
          "execution_count": 72
        }
      ]
    },
    {
      "cell_type": "code",
      "source": [
        "return_value = f()\n",
        "return_value"
      ],
      "metadata": {
        "colab": {
          "base_uri": "https://localhost:8080/"
        },
        "id": "pebODD9PG1Xz",
        "outputId": "b72e2558-eef6-41c7-df19-16c3ef2a2ea2"
      },
      "execution_count": null,
      "outputs": [
        {
          "output_type": "execute_result",
          "data": {
            "text/plain": [
              "(5, 6, 7)"
            ]
          },
          "metadata": {},
          "execution_count": 73
        }
      ]
    },
    {
      "cell_type": "code",
      "source": [
        "# dictionary 리턴\n",
        "def f():\n",
        "    a = 5\n",
        "    b = 6\n",
        "    c = 7\n",
        "    return {'a': a,'b': b,'c': c}"
      ],
      "metadata": {
        "id": "Ib2dp-DtG7wF"
      },
      "execution_count": null,
      "outputs": []
    },
    {
      "cell_type": "code",
      "source": [
        "return_value = f()\n",
        "return_value"
      ],
      "metadata": {
        "colab": {
          "base_uri": "https://localhost:8080/"
        },
        "id": "vHvfZqrJHBEj",
        "outputId": "569e206b-4611-4387-cd22-0b045c3436b2"
      },
      "execution_count": null,
      "outputs": [
        {
          "output_type": "execute_result",
          "data": {
            "text/plain": [
              "{'a': 5, 'b': 6, 'c': 7}"
            ]
          },
          "metadata": {},
          "execution_count": 75
        }
      ]
    }
  ]
}