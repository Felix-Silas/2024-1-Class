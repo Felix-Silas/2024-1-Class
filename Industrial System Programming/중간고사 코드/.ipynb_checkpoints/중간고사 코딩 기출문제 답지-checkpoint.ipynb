{
 "cells": [
  {
   "cell_type": "markdown",
   "id": "e1a14243",
   "metadata": {},
   "source": [
    "# 1번 문제\n",
    "## 1부터 10까지 숫자의 합계를 구하는 프로그램"
   ]
  },
  {
   "cell_type": "code",
   "execution_count": 1,
   "id": "a4152338",
   "metadata": {},
   "outputs": [
    {
     "name": "stdout",
     "output_type": "stream",
     "text": [
      "55\n"
     ]
    }
   ],
   "source": [
    "s = 0\n",
    "\n",
    "for i in range(1, 11):\n",
    "    s += i\n",
    "    \n",
    "print(s)"
   ]
  },
  {
   "cell_type": "markdown",
   "id": "d604cbda",
   "metadata": {},
   "source": [
    "# 2번 문제\n",
    "## 숫자 2개를 입력받아 곱하는 프로그램"
   ]
  },
  {
   "cell_type": "code",
   "execution_count": 2,
   "id": "0ca40038",
   "metadata": {},
   "outputs": [
    {
     "name": "stdout",
     "output_type": "stream",
     "text": [
      "첫번째 숫자3\n",
      "두번째 숫자6\n",
      "결과값: 18\n"
     ]
    }
   ],
   "source": [
    "a = int(input('첫번째 숫자'))\n",
    "b = int(input('두번째 숫자'))\n",
    "\n",
    "print('결과값:',a*b)"
   ]
  },
  {
   "cell_type": "markdown",
   "id": "163b3218",
   "metadata": {},
   "source": [
    "# 3번 문제\n",
    "## 속으로 20초를 세어 맞췄는지 판단하는 프로그램"
   ]
  },
  {
   "cell_type": "code",
   "execution_count": 3,
   "id": "85621de2",
   "metadata": {},
   "outputs": [
    {
     "name": "stdout",
     "output_type": "stream",
     "text": [
      "엔터를 누르고 20초를 세워보세요.\n",
      "20초를 다 세면 엔터를 눌러주세요.\n",
      "측정한 시간은 3.3649747371673584 초입니다.\n",
      "차이는 16.63502526283264 초입니다.\n"
     ]
    }
   ],
   "source": [
    "import time\n",
    "\n",
    "input('엔터를 누르고 20초를 세워보세요.')\n",
    "\n",
    "start = time.time()\n",
    "\n",
    "input('20초를 다 세면 엔터를 눌러주세요.')\n",
    "\n",
    "end = time.time()\n",
    "\n",
    "et = end - start\n",
    "\n",
    "print('측정한 시간은', et, '초입니다.')\n",
    "print('차이는', abs(20-et), '초입니다.')"
   ]
  },
  {
   "cell_type": "markdown",
   "id": "c31cd481",
   "metadata": {},
   "source": [
    "# 4번 문제\n",
    "## 12 + 23을 맞췄는지 판단하는 프로그램"
   ]
  },
  {
   "cell_type": "code",
   "execution_count": 5,
   "id": "33520ea7",
   "metadata": {},
   "outputs": [
    {
     "name": "stdout",
     "output_type": "stream",
     "text": [
      "12+23 = ?32\n",
      "틀렸네\n"
     ]
    }
   ],
   "source": [
    "a = int(input('12+23 = ? '))\n",
    "\n",
    "if a == (12+23):\n",
    "    print('정답!')\n",
    "\n",
    "else:\n",
    "    print('틀렸네')"
   ]
  },
  {
   "cell_type": "markdown",
   "id": "c118682e",
   "metadata": {},
   "source": [
    "# 5번 문제\n",
    "## 무작위로 덧셈 문제를 만들어서 맞히는 프로그램"
   ]
  },
  {
   "cell_type": "code",
   "execution_count": 2,
   "id": "6163ae10",
   "metadata": {},
   "outputs": [
    {
     "name": "stdout",
     "output_type": "stream",
     "text": [
      "30 + 20\n",
      "정답을 말해주세요. >3\n",
      "오답\n"
     ]
    }
   ],
   "source": [
    "import random\n",
    "\n",
    "a = random.randint(1, 30)\n",
    "b = random.randint(1, 30)\n",
    "\n",
    "print(str(a), '+', str(b)) # 형변환 중요!\n",
    "c = int(input('정답을 말해주세요. >'))\n",
    "\n",
    "if c == (a+b):\n",
    "    print('정답')\n",
    "    \n",
    "else:\n",
    "    print('오답')"
   ]
  },
  {
   "cell_type": "markdown",
   "id": "abf3de2f",
   "metadata": {},
   "source": [
    "# 6번 문제\n",
    "## 숫자를 추측해서 맞히는 프로그램"
   ]
  },
  {
   "cell_type": "code",
   "execution_count": 1,
   "id": "b18cc0d9",
   "metadata": {},
   "outputs": [
    {
     "name": "stdout",
     "output_type": "stream",
     "text": [
      "숫자는? > 21\n",
      "너무 크다.\n",
      "숫자는? > 19\n",
      "너무 크다.\n",
      "숫자는? > 15\n",
      "너무 크다.\n",
      "숫자는? > 13\n",
      "너무 크다.\n",
      "숫자는? > 11\n",
      "너무 크다.\n",
      "숫자는? > 10\n",
      "너무 크다.\n",
      "숫자는? > 9\n",
      "너무 크다.\n",
      "숫자는? > 6\n",
      "너무 크다.\n",
      "숫자는? > 4\n",
      "너무 작다.\n",
      "숫자는? > 5\n",
      "정답\n"
     ]
    }
   ],
   "source": [
    "import random\n",
    "\n",
    "a = random.randint(1, 30)\n",
    "\n",
    "while True:\n",
    "    b = int(input('숫자는? > '))\n",
    "    if b == a:\n",
    "        print('정답')\n",
    "        break\n",
    "    elif b > a:\n",
    "        print('너무 크다.')\n",
    "    elif b < a:\n",
    "        print('너무 작다.')\n",
    "    "
   ]
  },
  {
   "cell_type": "markdown",
   "id": "95b58e79",
   "metadata": {},
   "source": [
    "# 7번 문제\n",
    "## age n부터 age 0까지 출력하는 함수 만들기"
   ]
  },
  {
   "cell_type": "code",
   "execution_count": 2,
   "id": "1fd3fd99",
   "metadata": {},
   "outputs": [
    {
     "name": "stdout",
     "output_type": "stream",
     "text": [
      "age:  55\n",
      "age:  54\n",
      "age:  53\n",
      "age:  52\n",
      "age:  51\n",
      "age:  50\n",
      "age:  49\n",
      "age:  48\n",
      "age:  47\n",
      "age:  46\n",
      "age:  45\n",
      "age:  44\n",
      "age:  43\n",
      "age:  42\n",
      "age:  41\n",
      "age:  40\n",
      "age:  39\n",
      "age:  38\n",
      "age:  37\n",
      "age:  36\n",
      "age:  35\n",
      "age:  34\n",
      "age:  33\n",
      "age:  32\n",
      "age:  31\n",
      "age:  30\n",
      "age:  29\n",
      "age:  28\n",
      "age:  27\n",
      "age:  26\n",
      "age:  25\n",
      "age:  24\n",
      "age:  23\n",
      "age:  22\n",
      "age:  21\n",
      "age:  20\n",
      "age:  19\n",
      "age:  18\n",
      "age:  17\n",
      "age:  16\n",
      "age:  15\n",
      "age:  14\n",
      "age:  13\n",
      "age:  12\n",
      "age:  11\n",
      "age:  10\n",
      "age:  9\n",
      "age:  8\n",
      "age:  7\n",
      "age:  6\n",
      "age:  5\n",
      "age:  4\n",
      "age:  3\n",
      "age:  2\n",
      "age:  1\n",
      "age:  0\n"
     ]
    }
   ],
   "source": [
    "def age(n):\n",
    "    if n>= 0:\n",
    "        print('age: ', n)\n",
    "        age(n-1)\n",
    "    \n",
    "age(55)"
   ]
  },
  {
   "cell_type": "markdown",
   "id": "5ecd532d",
   "metadata": {},
   "source": [
    "# 8번 문제\n",
    "## factorial 함수 2개 만들기"
   ]
  },
  {
   "cell_type": "code",
   "execution_count": 5,
   "id": "770350eb",
   "metadata": {},
   "outputs": [
    {
     "data": {
      "text/plain": [
       "120"
      ]
     },
     "execution_count": 5,
     "metadata": {},
     "output_type": "execute_result"
    }
   ],
   "source": [
    "def factorial(n):\n",
    "    x = 1\n",
    "    for i in range(1, n+1):\n",
    "        x *= i\n",
    "        \n",
    "    return x\n",
    "    \n",
    "factorial(5)"
   ]
  },
  {
   "cell_type": "code",
   "execution_count": 9,
   "id": "913b6b88",
   "metadata": {},
   "outputs": [
    {
     "data": {
      "text/plain": [
       "720"
      ]
     },
     "execution_count": 9,
     "metadata": {},
     "output_type": "execute_result"
    }
   ],
   "source": [
    "def factorial_n(n):\n",
    "    if n==1:\n",
    "        return 1\n",
    "    else:\n",
    "        return n * factorial(n-1)\n",
    "        \n",
    "        \n",
    "factorial_n(6)\n",
    "    \n",
    "    \n",
    "def factorial_n(n):\n",
    "    if n >= 2:\n",
    "        return n * factorial_n(n-1)\n",
    "    else:\n",
    "        return 1\n",
    "\n",
    "\n",
    "print(factorial_n(5))"
   ]
  },
  {
   "cell_type": "markdown",
   "id": "5af18572",
   "metadata": {},
   "source": [
    "# 9번 문제\n",
    "## fib 함수 만들기\n",
    "## 0 1 1 2 3 5 8 ...."
   ]
  },
  {
   "cell_type": "code",
   "execution_count": 16,
   "id": "31085ab6",
   "metadata": {},
   "outputs": [
    {
     "data": {
      "text/plain": [
       "3"
      ]
     },
     "execution_count": 16,
     "metadata": {},
     "output_type": "execute_result"
    }
   ],
   "source": [
    "def fib(n):\n",
    "    if n >= 3:\n",
    "        return (fib(n-1) + fib(n-2))\n",
    "    if n == 2:\n",
    "        return 1\n",
    "    if n == 1:\n",
    "        return 0\n",
    "    \n",
    "fib(5)"
   ]
  },
  {
   "cell_type": "markdown",
   "id": "dffd82a1",
   "metadata": {},
   "source": [
    "# 10번 문제\n",
    "## 프로젝트 구조\n",
    "### 사용자에게 제시할 계산 문제를 만드는 make_question 함수\n",
    "### 이 함수는 random.randint 함수로 계산에 필요한 숫자를 두 개 만든 후 덧셈(1), 뺄셈(2), 곱셈(3) 중 하나를 골라 계산 문제를 완성함\n",
    "### 이 함수는 인자는 없지만, 함수를 실행해서 만들어진 문제를 결괏값으로 돌려줌.\n",
    "\n",
    "## 메인 프로그램\n",
    "### 실제로 게임을 진행하는 부분으로 정답/오답 횟수를 기록하는 변수 sc1, sc2를 0으로 초기화한 후, make_question 함수를 호출하여 문제를 만들고 이를사용자에게 보여줌. \n",
    "### 그런 다음 사용자에게 입력을 받아 정답/오답을 판단하는 과정을 다섯 번 반복함"
   ]
  },
  {
   "cell_type": "code",
   "execution_count": 19,
   "id": "d8e7ba42",
   "metadata": {},
   "outputs": [
    {
     "name": "stdout",
     "output_type": "stream",
     "text": [
      "9+1\n",
      "정답은? > 10\n",
      "정답!\n",
      "7+9\n",
      "정답은? > 16\n",
      "정답!\n",
      "10*2\n",
      "정답은? > 21\n",
      "오답\n",
      "1+7\n",
      "정답은? > 8\n",
      "정답!\n",
      "8+2\n",
      "정답은? > 10\n",
      "정답!\n",
      "4\n",
      "1\n"
     ]
    }
   ],
   "source": [
    "import random\n",
    "\n",
    "def make_question():\n",
    "    a = random.randint(1, 10)    \n",
    "    b = random.randint(1, 10)\n",
    "    op = random.randint(1, 3)\n",
    "    if op == 1:\n",
    "        st = str(a) + '+' + str(b)\n",
    "    if op == 2:\n",
    "        st = str(a) + '-' + str(b)\n",
    "    if op == 3:\n",
    "        st = str(a) + '*' + str(b)\n",
    "        \n",
    "    return st\n",
    "\n",
    "sc1 = 0\n",
    "sc2 = 0\n",
    "\n",
    "for i in range(5):\n",
    "    st = make_question()\n",
    "    print(st)\n",
    "    ans = int(input('정답은? > '))\n",
    "    if eval(st) == ans:\n",
    "        print('정답!')\n",
    "        sc1 += 1\n",
    "    else:\n",
    "        print('오답')\n",
    "        sc2 += 1\n",
    "        \n",
    "print(sc1)\n",
    "print(sc2)"
   ]
  }
 ],
 "metadata": {
  "kernelspec": {
   "display_name": "Python 3 (ipykernel)",
   "language": "python",
   "name": "python3"
  },
  "language_info": {
   "codemirror_mode": {
    "name": "ipython",
    "version": 3
   },
   "file_extension": ".py",
   "mimetype": "text/x-python",
   "name": "python",
   "nbconvert_exporter": "python",
   "pygments_lexer": "ipython3",
   "version": "3.9.7"
  }
 },
 "nbformat": 4,
 "nbformat_minor": 5
}
