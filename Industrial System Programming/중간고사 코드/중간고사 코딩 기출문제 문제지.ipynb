{
 "cells": [
  {
   "cell_type": "markdown",
   "id": "e1a14243",
   "metadata": {},
   "source": [
    "# 1번 문제\n",
    "## 1부터 10까지 숫자의 합계를 구하는 프로그램"
   ]
  },
  {
   "cell_type": "code",
   "execution_count": null,
   "id": "a4152338",
   "metadata": {},
   "outputs": [],
   "source": []
  },
  {
   "cell_type": "markdown",
   "id": "d604cbda",
   "metadata": {},
   "source": [
    "# 2번 문제\n",
    "## 숫자 2개를 입력받아 곱하는 프로그램"
   ]
  },
  {
   "cell_type": "code",
   "execution_count": null,
   "id": "0ca40038",
   "metadata": {},
   "outputs": [],
   "source": []
  },
  {
   "cell_type": "markdown",
   "id": "163b3218",
   "metadata": {},
   "source": [
    "# 3번 문제\n",
    "## 속으로 20초를 세어 맞췄는지 판단하는 프로그램"
   ]
  },
  {
   "cell_type": "code",
   "execution_count": null,
   "id": "85621de2",
   "metadata": {},
   "outputs": [],
   "source": []
  },
  {
   "cell_type": "markdown",
   "id": "c31cd481",
   "metadata": {},
   "source": [
    "# 4번 문제\n",
    "## 12 + 23을 맞췄는지 판단하는 프로그램"
   ]
  },
  {
   "cell_type": "code",
   "execution_count": null,
   "id": "33520ea7",
   "metadata": {},
   "outputs": [],
   "source": []
  },
  {
   "cell_type": "markdown",
   "id": "c118682e",
   "metadata": {},
   "source": [
    "# 5번 문제\n",
    "## 무작위로 덧셈 문제를 만들어서 맞히는 프로그램"
   ]
  },
  {
   "cell_type": "code",
   "execution_count": null,
   "id": "6163ae10",
   "metadata": {},
   "outputs": [],
   "source": []
  },
  {
   "cell_type": "markdown",
   "id": "abf3de2f",
   "metadata": {},
   "source": [
    "# 6번 문제\n",
    "## 숫자를 추측해서 맞히는 프로그램"
   ]
  },
  {
   "cell_type": "code",
   "execution_count": null,
   "id": "b18cc0d9",
   "metadata": {},
   "outputs": [],
   "source": []
  },
  {
   "cell_type": "markdown",
   "id": "95b58e79",
   "metadata": {},
   "source": [
    "# 7번 문제\n",
    "## age n부터 age 0까지 출력하는 함수 만들기"
   ]
  },
  {
   "cell_type": "code",
   "execution_count": null,
   "id": "1fd3fd99",
   "metadata": {},
   "outputs": [],
   "source": []
  },
  {
   "cell_type": "markdown",
   "id": "5ecd532d",
   "metadata": {},
   "source": [
    "# 8번 문제\n",
    "## factorial 함수 2개 만들기"
   ]
  },
  {
   "cell_type": "code",
   "execution_count": null,
   "id": "770350eb",
   "metadata": {},
   "outputs": [],
   "source": []
  },
  {
   "cell_type": "code",
   "execution_count": null,
   "id": "913b6b88",
   "metadata": {},
   "outputs": [],
   "source": []
  },
  {
   "cell_type": "markdown",
   "id": "5af18572",
   "metadata": {},
   "source": [
    "# 9번 문제\n",
    "## fib 함수 만들기\n",
    "## 0 1 1 2 3 5 8 ...."
   ]
  },
  {
   "cell_type": "code",
   "execution_count": null,
   "id": "31085ab6",
   "metadata": {},
   "outputs": [],
   "source": []
  },
  {
   "cell_type": "markdown",
   "id": "dffd82a1",
   "metadata": {},
   "source": [
    "# 10번 문제\n",
    "## 프로젝트 구조\n",
    "### 사용자에게 제시할 계산 문제를 만드는 make_question 함수\n",
    "### 이 함수는 random.randint 함수로 계산에 필요한 숫자를 두 개 만든 후 덧셈(1), 뺄셈(2), 곱셈(3) 중 하나를 골라 계산 문제를 완성함\n",
    "### 이 함수는 인자는 없지만, 함수를 실행해서 만들어진 문제를 결괏값으로 돌려줌.\n",
    "\n",
    "## 메인 프로그램\n",
    "### 실제로 게임을 진행하는 부분으로 정답/오답 횟수를 기록하는 변수 sc1, sc2를 0으로 초기화한 후, make_question 함수를 호출하여 문제를 만들고 이를사용자에게 보여줌. \n",
    "### 그런 다음 사용자에게 입력을 받아 정답/오답을 판단하는 과정을 다섯 번 반복함"
   ]
  },
  {
   "cell_type": "code",
   "execution_count": null,
   "id": "d8e7ba42",
   "metadata": {},
   "outputs": [],
   "source": []
  }
 ],
 "metadata": {
  "kernelspec": {
   "display_name": "Python 3 (ipykernel)",
   "language": "python",
   "name": "python3"
  },
  "language_info": {
   "codemirror_mode": {
    "name": "ipython",
    "version": 3
   },
   "file_extension": ".py",
   "mimetype": "text/x-python",
   "name": "python",
   "nbconvert_exporter": "python",
   "pygments_lexer": "ipython3",
   "version": "3.9.7"
  }
 },
 "nbformat": 4,
 "nbformat_minor": 5
}
