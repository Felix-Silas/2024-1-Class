{
  "nbformat": 4,
  "nbformat_minor": 0,
  "metadata": {
    "colab": {
      "provenance": []
    },
    "kernelspec": {
      "name": "python3",
      "display_name": "Python 3"
    },
    "language_info": {
      "name": "python"
    }
  },
  "cells": [
    {
      "cell_type": "markdown",
      "source": [
        "# 1. 속으로 20초 세어 맞히는 프로그램"
      ],
      "metadata": {
        "id": "0uZV-MWIEW5G"
      }
    },
    {
      "cell_type": "code",
      "source": [],
      "metadata": {
        "colab": {
          "base_uri": "https://localhost:8080/"
        },
        "id": "Sz7nI8axEVLo",
        "outputId": "9a09363b-5d29-4db8-d2f8-87159f81aeb6"
      },
      "execution_count": null,
      "outputs": [
        {
          "output_type": "stream",
          "name": "stdout",
          "text": [
            "20초를 셀 준비하면 엔터 누르세요\n",
            "20초가 지났을 거 같을 떄 누르세요\n",
            "실제 시간: 1.7472176551818848 초\n",
            "차이 : 18.252782344818115 초\n"
          ]
        }
      ]
    },
    {
      "cell_type": "markdown",
      "source": [
        "# 2. 무작위로 덧셈 문제 만들어서 맞히는 프로그램"
      ],
      "metadata": {
        "id": "9kf-fQ4xG3Gz"
      }
    },
    {
      "cell_type": "code",
      "source": [],
      "metadata": {
        "colab": {
          "base_uri": "https://localhost:8080/"
        },
        "id": "KnvmEltoFkQN",
        "outputId": "521be9a3-35c6-49dd-81f2-4069fd49f870"
      },
      "execution_count": null,
      "outputs": [
        {
          "output_type": "stream",
          "name": "stdout",
          "text": [
            "5 + 20 =\n",
            "25\n",
            "정답\n",
            "1 + 10 =\n",
            "11\n",
            "정답\n",
            "10 + 12 =\n",
            "22\n",
            "정답\n",
            "정답 개수: 3\n"
          ]
        }
      ]
    },
    {
      "cell_type": "markdown",
      "source": [
        "# 3. 1부터 10까지의 합 (for문과 while문)"
      ],
      "metadata": {
        "id": "VOp3HdT9G5mG"
      }
    },
    {
      "cell_type": "code",
      "source": [],
      "metadata": {
        "colab": {
          "base_uri": "https://localhost:8080/"
        },
        "id": "VZCChuUnFkSg",
        "outputId": "7fe6593e-bd0a-41d3-953c-a8b663350bc6"
      },
      "execution_count": null,
      "outputs": [
        {
          "output_type": "stream",
          "name": "stdout",
          "text": [
            "55\n"
          ]
        }
      ]
    },
    {
      "cell_type": "code",
      "source": [],
      "metadata": {
        "colab": {
          "base_uri": "https://localhost:8080/"
        },
        "id": "esPE0a7FIwGp",
        "outputId": "e3ebe1db-ff6e-4631-d364-bb7cf4f549fc"
      },
      "execution_count": null,
      "outputs": [
        {
          "output_type": "stream",
          "name": "stdout",
          "text": [
            "55\n"
          ]
        }
      ]
    },
    {
      "cell_type": "markdown",
      "source": [
        "# 4. 숫자를 추측해서 맞히는 프로그램"
      ],
      "metadata": {
        "id": "Crz18f8QHKwK"
      }
    },
    {
      "cell_type": "code",
      "source": [],
      "metadata": {
        "colab": {
          "base_uri": "https://localhost:8080/"
        },
        "id": "9EJqodOxFkUX",
        "outputId": "d8be0c56-2782-4a68-cd26-ab4400176739"
      },
      "execution_count": null,
      "outputs": [
        {
          "output_type": "stream",
          "name": "stdout",
          "text": [
            "예측 숫자:20\n",
            "숫자 더 키워\n",
            "예측 숫자:25\n",
            "숫자 줄여\n",
            "예측 숫자:22\n",
            "숫자 줄여\n",
            "예측 숫자:21\n",
            "정답\n"
          ]
        }
      ]
    },
    {
      "cell_type": "markdown",
      "source": [
        "# 5. 1부터 n까지의 합 (함수)"
      ],
      "metadata": {
        "id": "eSf2pc9CHSCt"
      }
    },
    {
      "cell_type": "code",
      "source": [],
      "metadata": {
        "colab": {
          "base_uri": "https://localhost:8080/"
        },
        "id": "zdW56AmiG9AR",
        "outputId": "d0319f10-d2c5-4318-a1cd-27fcbd97aace"
      },
      "execution_count": null,
      "outputs": [
        {
          "output_type": "execute_result",
          "data": {
            "text/plain": [
              "55"
            ]
          },
          "metadata": {},
          "execution_count": 15
        }
      ]
    },
    {
      "cell_type": "markdown",
      "source": [
        "# 6. factorial (1부터 n까지 곱) (함수)"
      ],
      "metadata": {
        "id": "8C77CG6UHS36"
      }
    },
    {
      "cell_type": "code",
      "source": [],
      "metadata": {
        "colab": {
          "base_uri": "https://localhost:8080/"
        },
        "id": "Y5I0q_J8FkWo",
        "outputId": "0d190019-d299-4ba2-9b06-a95cb3b5cb68"
      },
      "execution_count": null,
      "outputs": [
        {
          "output_type": "execute_result",
          "data": {
            "text/plain": [
              "120"
            ]
          },
          "metadata": {},
          "execution_count": 16
        }
      ]
    },
    {
      "cell_type": "markdown",
      "source": [
        "# 7. factorial (1부터 n까지 곱) (재귀함수)"
      ],
      "metadata": {
        "id": "8a-FlazrK4ej"
      }
    },
    {
      "cell_type": "code",
      "source": [],
      "metadata": {
        "colab": {
          "base_uri": "https://localhost:8080/"
        },
        "id": "VW9o-kIMK1MH",
        "outputId": "404b39ac-29c7-49ce-d658-015da0ba7425"
      },
      "execution_count": null,
      "outputs": [
        {
          "output_type": "execute_result",
          "data": {
            "text/plain": [
              "120"
            ]
          },
          "metadata": {},
          "execution_count": 17
        }
      ]
    },
    {
      "cell_type": "markdown",
      "source": [
        "# 8. fibonacci 함수 (재귀함수)\n",
        "## 0 1 1 2 3"
      ],
      "metadata": {
        "id": "N1-K0Ni6K5q3"
      }
    },
    {
      "cell_type": "code",
      "source": [],
      "metadata": {
        "colab": {
          "base_uri": "https://localhost:8080/"
        },
        "id": "IzuQkeVeK5yb",
        "outputId": "7ebcb2cf-7545-468f-d331-f1df3f9513a6"
      },
      "execution_count": null,
      "outputs": [
        {
          "output_type": "execute_result",
          "data": {
            "text/plain": [
              "3"
            ]
          },
          "metadata": {},
          "execution_count": 18
        }
      ]
    },
    {
      "cell_type": "markdown",
      "source": [
        "# 9. 계산 문제를 맞히는 경우 (str)"
      ],
      "metadata": {
        "id": "4_F4eMsGHTVK"
      }
    },
    {
      "cell_type": "code",
      "source": [],
      "metadata": {
        "colab": {
          "base_uri": "https://localhost:8080/"
        },
        "id": "lf6xNY97FkYo",
        "outputId": "84da9ebb-d526-49cb-8c8f-1f0f75b021a6"
      },
      "execution_count": null,
      "outputs": [
        {
          "output_type": "stream",
          "name": "stdout",
          "text": [
            "16*10\n",
            "160\n",
            "정답\n",
            "15*14\n",
            "20\n",
            "오답\n",
            "5-7\n",
            "-2\n",
            "정답\n",
            "14*14\n",
            "10\n",
            "오답\n",
            "20*15\n",
            "22\n",
            "오답\n",
            "정답 개수: 2\n",
            "오답 개수: 3\n"
          ]
        }
      ]
    },
    {
      "cell_type": "markdown",
      "source": [
        "# 10. 타자 게임"
      ],
      "metadata": {
        "id": "RnNYwt6TMlFB"
      }
    },
    {
      "cell_type": "code",
      "source": [],
      "metadata": {
        "colab": {
          "base_uri": "https://localhost:8080/"
        },
        "id": "i_T3eSkLFkap",
        "outputId": "392b3e9e-6d02-4d91-f7c2-61840fc053f3"
      },
      "execution_count": null,
      "outputs": [
        {
          "output_type": "stream",
          "name": "stdout",
          "text": [
            "tiger\n",
            "타자 입력:sd\n",
            "오답\n",
            "다시 입력하시오\n",
            "tiger\n",
            "타자 입력:sd\n",
            "오답\n",
            "다시 입력하시오\n",
            "tiger\n",
            "타자 입력:sd\n",
            "오답\n",
            "다시 입력하시오\n",
            "tiger\n",
            "타자 입력:sd\n",
            "오답\n",
            "다시 입력하시오\n",
            "tiger\n",
            "타자 입력:tiger\n",
            "정답\n",
            "dragon\n",
            "타자 입력:dragon\n",
            "정답\n",
            "tiger\n",
            "타자 입력:tiger\n",
            "정답\n",
            "tiger\n",
            "타자 입력:tiger\n",
            "정답\n",
            "tiger\n",
            "타자 입력:tiger\n",
            "정답\n",
            "소요된 시간: 16.80803656578064 초\n"
          ]
        }
      ]
    },
    {
      "cell_type": "markdown",
      "source": [
        "# 11. matrix 총합 및 행렬곱"
      ],
      "metadata": {
        "id": "ZsXZq-GtNgJw"
      }
    },
    {
      "cell_type": "code",
      "source": [
        "a = [\n",
        "[5, 7, 9],\n",
        "[15, 17, 19],\n",
        "[25, 27, 29]]\n"
      ],
      "metadata": {
        "colab": {
          "base_uri": "https://localhost:8080/"
        },
        "id": "pBAVPEbSFkct",
        "outputId": "746a1a00-99a6-4083-a039-5d06e1fb7215"
      },
      "execution_count": null,
      "outputs": [
        {
          "output_type": "stream",
          "name": "stdout",
          "text": [
            "153\n"
          ]
        }
      ]
    },
    {
      "cell_type": "code",
      "source": [
        "a = [\n",
        "[3, 2, 1],\n",
        "[4, 3, 2],\n",
        "[0, 1, 0]]\n",
        "\n",
        "b = [\n",
        "[1, 2, 3],\n",
        "[4, 5, 6],\n",
        "[7, 8, 9]]\n",
        "\n"
      ],
      "metadata": {
        "colab": {
          "base_uri": "https://localhost:8080/"
        },
        "id": "5PEU_gAUFke1",
        "outputId": "658a43c6-468c-421f-d382-84d1998d1bad"
      },
      "execution_count": null,
      "outputs": [
        {
          "output_type": "execute_result",
          "data": {
            "text/plain": [
              "[[18, 24, 30], [30, 39, 48], [4, 5, 6]]"
            ]
          },
          "metadata": {},
          "execution_count": 27
        }
      ]
    },
    {
      "cell_type": "markdown",
      "source": [
        "# 12. CSV 읽기"
      ],
      "metadata": {
        "id": "rdIcWC7QQDWn"
      }
    },
    {
      "cell_type": "code",
      "source": [],
      "metadata": {
        "id": "zrUWMr93QDct"
      },
      "execution_count": null,
      "outputs": []
    },
    {
      "cell_type": "code",
      "source": [],
      "metadata": {
        "id": "aFs2EBmkQDh1"
      },
      "execution_count": null,
      "outputs": []
    },
    {
      "cell_type": "markdown",
      "source": [
        "# 13. folium 관련 코드"
      ],
      "metadata": {
        "id": "GfWiiitUQzSx"
      }
    },
    {
      "cell_type": "code",
      "source": [],
      "metadata": {
        "id": "UlSHMPgtQzYq"
      },
      "execution_count": null,
      "outputs": []
    },
    {
      "cell_type": "code",
      "source": [],
      "metadata": {
        "id": "udXiloCXRIcj"
      },
      "execution_count": null,
      "outputs": []
    },
    {
      "cell_type": "code",
      "source": [],
      "metadata": {
        "id": "LAI3wA4PRIfK"
      },
      "execution_count": null,
      "outputs": []
    },
    {
      "cell_type": "code",
      "source": [],
      "metadata": {
        "id": "YKV1bSB_RIjz"
      },
      "execution_count": null,
      "outputs": []
    },
    {
      "cell_type": "code",
      "source": [],
      "metadata": {
        "id": "1Yvt_HIRQza2"
      },
      "execution_count": null,
      "outputs": []
    },
    {
      "cell_type": "markdown",
      "source": [
        "# turtle"
      ],
      "metadata": {
        "id": "TuUe4pOSOV0D"
      }
    },
    {
      "cell_type": "markdown",
      "source": [
        "## -1. 다각형 그리는 함수 (turtle)"
      ],
      "metadata": {
        "id": "8bpG-1DzEXQW"
      }
    },
    {
      "cell_type": "code",
      "source": [],
      "metadata": {
        "id": "Q3kII48AEVNy"
      },
      "execution_count": null,
      "outputs": []
    },
    {
      "cell_type": "markdown",
      "source": [
        "## -2. 막 돌아다니는 거북이"
      ],
      "metadata": {
        "id": "iyFD8r2vEX2N"
      }
    },
    {
      "cell_type": "code",
      "source": [],
      "metadata": {
        "id": "ftCKszVYEVPv"
      },
      "execution_count": null,
      "outputs": []
    },
    {
      "cell_type": "markdown",
      "source": [
        "# -3. 거북이 대포 게임"
      ],
      "metadata": {
        "id": "GMKb9RvXOfnl"
      }
    },
    {
      "cell_type": "code",
      "source": [],
      "metadata": {
        "id": "S9eO1GihOfDs"
      },
      "execution_count": null,
      "outputs": []
    },
    {
      "cell_type": "markdown",
      "source": [
        "## -4. 터틀런"
      ],
      "metadata": {
        "id": "TKaJ0rEjOgQz"
      }
    },
    {
      "cell_type": "code",
      "source": [],
      "metadata": {
        "id": "yITZC8EnEVRw"
      },
      "execution_count": null,
      "outputs": []
    },
    {
      "cell_type": "markdown",
      "source": [
        "## -5. 터틀런 2"
      ],
      "metadata": {
        "id": "9lU0m8OBOmVz"
      }
    },
    {
      "cell_type": "code",
      "source": [],
      "metadata": {
        "id": "lWM7IPJ_Ogtb"
      },
      "execution_count": null,
      "outputs": []
    }
  ]
}