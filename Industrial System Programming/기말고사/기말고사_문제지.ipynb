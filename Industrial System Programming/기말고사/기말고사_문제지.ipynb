{
  "cells": [
    {
      "cell_type": "markdown",
      "metadata": {
        "id": "0uZV-MWIEW5G"
      },
      "source": [
        "# 1. 속으로 20초 세어 맞히는 프로그램"
      ]
    },
    {
      "cell_type": "code",
      "execution_count": 1,
      "metadata": {
        "colab": {
          "base_uri": "https://localhost:8080/"
        },
        "id": "Sz7nI8axEVLo",
        "outputId": "aa3f56bd-cb94-4c5d-faca-0d4135ef0835"
      },
      "outputs": [
        {
          "name": "stdout",
          "output_type": "stream",
          "text": [
            "준비되면 엔터를 누르세요\n",
            "20초 되면 누르세요\n",
            "4.593265771865845 초\n",
            "15.406734228134155 초\n"
          ]
        }
      ],
      "source": []
    },
    {
      "cell_type": "markdown",
      "metadata": {
        "id": "9kf-fQ4xG3Gz"
      },
      "source": [
        "# 2. 무작위로 덧셈 문제 만들어서 맞히는 프로그램"
      ]
    },
    {
      "cell_type": "code",
      "execution_count": null,
      "metadata": {
        "colab": {
          "base_uri": "https://localhost:8080/"
        },
        "id": "KnvmEltoFkQN",
        "outputId": "521be9a3-35c6-49dd-81f2-4069fd49f870"
      },
      "outputs": [
        {
          "name": "stdout",
          "output_type": "stream",
          "text": [
            "5 + 20 =\n",
            "25\n",
            "정답\n",
            "1 + 10 =\n",
            "11\n",
            "정답\n",
            "10 + 12 =\n",
            "22\n",
            "정답\n",
            "정답 개수: 3\n"
          ]
        }
      ],
      "source": []
    },
    {
      "cell_type": "markdown",
      "metadata": {
        "id": "VOp3HdT9G5mG"
      },
      "source": [
        "# 3. 1부터 10까지의 합 (for문과 while문)"
      ]
    },
    {
      "cell_type": "code",
      "execution_count": null,
      "metadata": {
        "colab": {
          "base_uri": "https://localhost:8080/"
        },
        "id": "VZCChuUnFkSg",
        "outputId": "7fe6593e-bd0a-41d3-953c-a8b663350bc6"
      },
      "outputs": [
        {
          "name": "stdout",
          "output_type": "stream",
          "text": [
            "55\n"
          ]
        }
      ],
      "source": []
    },
    {
      "cell_type": "code",
      "execution_count": null,
      "metadata": {
        "colab": {
          "base_uri": "https://localhost:8080/"
        },
        "id": "esPE0a7FIwGp",
        "outputId": "e3ebe1db-ff6e-4631-d364-bb7cf4f549fc"
      },
      "outputs": [
        {
          "name": "stdout",
          "output_type": "stream",
          "text": [
            "55\n"
          ]
        }
      ],
      "source": []
    },
    {
      "cell_type": "markdown",
      "metadata": {
        "id": "Crz18f8QHKwK"
      },
      "source": [
        "# 4. 숫자를 추측해서 맞히는 프로그램"
      ]
    },
    {
      "cell_type": "code",
      "execution_count": null,
      "metadata": {
        "colab": {
          "base_uri": "https://localhost:8080/"
        },
        "id": "9EJqodOxFkUX",
        "outputId": "d8be0c56-2782-4a68-cd26-ab4400176739"
      },
      "outputs": [
        {
          "name": "stdout",
          "output_type": "stream",
          "text": [
            "예측 숫자:20\n",
            "숫자 더 키워\n",
            "예측 숫자:25\n",
            "숫자 줄여\n",
            "예측 숫자:22\n",
            "숫자 줄여\n",
            "예측 숫자:21\n",
            "정답\n"
          ]
        }
      ],
      "source": []
    },
    {
      "cell_type": "markdown",
      "metadata": {
        "id": "eSf2pc9CHSCt"
      },
      "source": [
        "# 5. 1부터 n까지의 합 (함수)"
      ]
    },
    {
      "cell_type": "code",
      "execution_count": null,
      "metadata": {
        "colab": {
          "base_uri": "https://localhost:8080/"
        },
        "id": "zdW56AmiG9AR",
        "outputId": "d0319f10-d2c5-4318-a1cd-27fcbd97aace"
      },
      "outputs": [
        {
          "data": {
            "text/plain": [
              "55"
            ]
          },
          "execution_count": 15,
          "metadata": {},
          "output_type": "execute_result"
        }
      ],
      "source": []
    },
    {
      "cell_type": "markdown",
      "metadata": {
        "id": "8C77CG6UHS36"
      },
      "source": [
        "# 6. factorial (1부터 n까지 곱) (함수)"
      ]
    },
    {
      "cell_type": "code",
      "execution_count": null,
      "metadata": {
        "colab": {
          "base_uri": "https://localhost:8080/"
        },
        "id": "Y5I0q_J8FkWo",
        "outputId": "0d190019-d299-4ba2-9b06-a95cb3b5cb68"
      },
      "outputs": [
        {
          "data": {
            "text/plain": [
              "120"
            ]
          },
          "execution_count": 16,
          "metadata": {},
          "output_type": "execute_result"
        }
      ],
      "source": []
    },
    {
      "cell_type": "markdown",
      "metadata": {
        "id": "8a-FlazrK4ej"
      },
      "source": [
        "# 7. factorial (1부터 n까지 곱) (재귀함수)"
      ]
    },
    {
      "cell_type": "code",
      "execution_count": null,
      "metadata": {
        "colab": {
          "base_uri": "https://localhost:8080/"
        },
        "id": "VW9o-kIMK1MH",
        "outputId": "404b39ac-29c7-49ce-d658-015da0ba7425"
      },
      "outputs": [
        {
          "data": {
            "text/plain": [
              "120"
            ]
          },
          "execution_count": 17,
          "metadata": {},
          "output_type": "execute_result"
        }
      ],
      "source": []
    },
    {
      "cell_type": "markdown",
      "metadata": {
        "id": "wdngm7Iu9n1s"
      },
      "source": [
        "# 7-1. 역 factorial"
      ]
    },
    {
      "cell_type": "code",
      "execution_count": null,
      "metadata": {
        "id": "XHyHdKkS9n1s"
      },
      "outputs": [],
      "source": []
    },
    {
      "cell_type": "markdown",
      "metadata": {
        "id": "N1-K0Ni6K5q3"
      },
      "source": [
        "# 8. fibonacci 함수 (재귀함수)\n",
        "## 0 1 1 2 3"
      ]
    },
    {
      "cell_type": "code",
      "execution_count": null,
      "metadata": {
        "colab": {
          "base_uri": "https://localhost:8080/"
        },
        "id": "IzuQkeVeK5yb",
        "outputId": "7ebcb2cf-7545-468f-d331-f1df3f9513a6"
      },
      "outputs": [
        {
          "data": {
            "text/plain": [
              "3"
            ]
          },
          "execution_count": 18,
          "metadata": {},
          "output_type": "execute_result"
        }
      ],
      "source": []
    },
    {
      "cell_type": "markdown",
      "metadata": {
        "id": "4_F4eMsGHTVK"
      },
      "source": [
        "# 9. 계산 문제를 맞히는 경우 (str)"
      ]
    },
    {
      "cell_type": "code",
      "execution_count": null,
      "metadata": {
        "colab": {
          "base_uri": "https://localhost:8080/"
        },
        "id": "lf6xNY97FkYo",
        "outputId": "84da9ebb-d526-49cb-8c8f-1f0f75b021a6"
      },
      "outputs": [
        {
          "name": "stdout",
          "output_type": "stream",
          "text": [
            "16*10\n",
            "160\n",
            "정답\n",
            "15*14\n",
            "20\n",
            "오답\n",
            "5-7\n",
            "-2\n",
            "정답\n",
            "14*14\n",
            "10\n",
            "오답\n",
            "20*15\n",
            "22\n",
            "오답\n",
            "정답 개수: 2\n",
            "오답 개수: 3\n"
          ]
        }
      ],
      "source": []
    },
    {
      "cell_type": "markdown",
      "metadata": {
        "id": "RnNYwt6TMlFB"
      },
      "source": [
        "# 10. 타자 게임"
      ]
    },
    {
      "cell_type": "code",
      "execution_count": null,
      "metadata": {
        "colab": {
          "base_uri": "https://localhost:8080/"
        },
        "id": "i_T3eSkLFkap",
        "outputId": "392b3e9e-6d02-4d91-f7c2-61840fc053f3"
      },
      "outputs": [
        {
          "name": "stdout",
          "output_type": "stream",
          "text": [
            "tiger\n",
            "타자 입력:sd\n",
            "오답\n",
            "다시 입력하시오\n",
            "tiger\n",
            "타자 입력:sd\n",
            "오답\n",
            "다시 입력하시오\n",
            "tiger\n",
            "타자 입력:sd\n",
            "오답\n",
            "다시 입력하시오\n",
            "tiger\n",
            "타자 입력:sd\n",
            "오답\n",
            "다시 입력하시오\n",
            "tiger\n",
            "타자 입력:tiger\n",
            "정답\n",
            "dragon\n",
            "타자 입력:dragon\n",
            "정답\n",
            "tiger\n",
            "타자 입력:tiger\n",
            "정답\n",
            "tiger\n",
            "타자 입력:tiger\n",
            "정답\n",
            "tiger\n",
            "타자 입력:tiger\n",
            "정답\n",
            "소요된 시간: 16.80803656578064 초\n"
          ]
        }
      ],
      "source": []
    },
    {
      "cell_type": "markdown",
      "metadata": {
        "id": "ZsXZq-GtNgJw"
      },
      "source": [
        "# 11. matrix 총합 및 행렬곱"
      ]
    },
    {
      "cell_type": "code",
      "execution_count": null,
      "metadata": {
        "colab": {
          "base_uri": "https://localhost:8080/"
        },
        "id": "pBAVPEbSFkct",
        "outputId": "746a1a00-99a6-4083-a039-5d06e1fb7215"
      },
      "outputs": [
        {
          "name": "stdout",
          "output_type": "stream",
          "text": [
            "153\n"
          ]
        }
      ],
      "source": [
        "a = [\n",
        "[5, 7, 9],\n",
        "[15, 17, 19],\n",
        "[25, 27, 29]]\n"
      ]
    },
    {
      "cell_type": "code",
      "execution_count": null,
      "metadata": {
        "colab": {
          "base_uri": "https://localhost:8080/"
        },
        "id": "5PEU_gAUFke1",
        "outputId": "658a43c6-468c-421f-d382-84d1998d1bad"
      },
      "outputs": [
        {
          "data": {
            "text/plain": [
              "[[18, 24, 30], [30, 39, 48], [4, 5, 6]]"
            ]
          },
          "execution_count": 27,
          "metadata": {},
          "output_type": "execute_result"
        }
      ],
      "source": [
        "a = [\n",
        "[3, 2, 1],\n",
        "[4, 3, 2],\n",
        "[0, 1, 0]]\n",
        "\n",
        "b = [\n",
        "[1, 2, 3],\n",
        "[4, 5, 6],\n",
        "[7, 8, 9]]\n",
        "\n"
      ]
    },
    {
      "cell_type": "markdown",
      "metadata": {
        "id": "rdIcWC7QQDWn"
      },
      "source": [
        "# 12. CSV 읽기"
      ]
    },
    {
      "cell_type": "code",
      "execution_count": null,
      "metadata": {
        "id": "zrUWMr93QDct"
      },
      "outputs": [],
      "source": []
    },
    {
      "cell_type": "code",
      "execution_count": null,
      "metadata": {
        "id": "aFs2EBmkQDh1"
      },
      "outputs": [],
      "source": []
    },
    {
      "cell_type": "markdown",
      "metadata": {
        "id": "GfWiiitUQzSx"
      },
      "source": [
        "# 13. folium 관련 코드"
      ]
    },
    {
      "cell_type": "code",
      "execution_count": null,
      "metadata": {
        "id": "UlSHMPgtQzYq"
      },
      "outputs": [],
      "source": []
    },
    {
      "cell_type": "code",
      "execution_count": null,
      "metadata": {
        "id": "udXiloCXRIcj"
      },
      "outputs": [],
      "source": []
    },
    {
      "cell_type": "code",
      "execution_count": null,
      "metadata": {
        "id": "LAI3wA4PRIfK"
      },
      "outputs": [],
      "source": []
    },
    {
      "cell_type": "code",
      "execution_count": null,
      "metadata": {
        "id": "YKV1bSB_RIjz"
      },
      "outputs": [],
      "source": []
    },
    {
      "cell_type": "code",
      "execution_count": null,
      "metadata": {
        "id": "1Yvt_HIRQza2"
      },
      "outputs": [],
      "source": []
    },
    {
      "cell_type": "markdown",
      "metadata": {
        "id": "1gJBS05a9n1t"
      },
      "source": [
        "# 14. 리스트"
      ]
    },
    {
      "cell_type": "code",
      "execution_count": null,
      "metadata": {
        "id": "sUrKH9o09n1u"
      },
      "outputs": [],
      "source": [
        "# Life 인덱싱으로 출력\n",
        "\n",
        "b = [1, 2, ['a', 'b', ['Life', 'is']]]\n"
      ]
    },
    {
      "cell_type": "code",
      "execution_count": null,
      "metadata": {
        "id": "pgAeW3G_9n1u"
      },
      "outputs": [],
      "source": [
        "a = [1, 2, 3]\n",
        "b = [4, 5, 6]\n",
        "\n",
        "# a, b 합치는 2가지 방법\n"
      ]
    },
    {
      "cell_type": "code",
      "execution_count": null,
      "metadata": {
        "id": "qdOD2z2l9n1u"
      },
      "outputs": [],
      "source": [
        "a = [1, 2, 3]\n",
        "b = [4, 5, 6]\n",
        "\n",
        "# [1, 4, 5, 6, 3] 만드시오.\n",
        "\n",
        "\n",
        "# [1, [4,5,6], 5, 6, 3] 만드시오.\n"
      ]
    },
    {
      "cell_type": "code",
      "execution_count": null,
      "metadata": {
        "id": "Hdv0bzmw9n1u"
      },
      "outputs": [],
      "source": [
        "a = [1, 2, 3, 4, 5]\n",
        "\n",
        "# 4 값 지우기 2가지 방법 -1\n"
      ]
    },
    {
      "cell_type": "code",
      "execution_count": null,
      "metadata": {
        "id": "Tb9oTx1V9n1u"
      },
      "outputs": [],
      "source": [
        "a = [1, 2, 3, 4, 5]\n",
        "\n",
        "# 4 값 지우기 2가지 방법 -2\n"
      ]
    },
    {
      "cell_type": "code",
      "execution_count": null,
      "metadata": {
        "id": "HsBq_BHV9n1v"
      },
      "outputs": [],
      "source": [
        "a = [1, 2, 3, 4]\n",
        "\n",
        "# a 마지막 요소에 10 추가하기\n"
      ]
    },
    {
      "cell_type": "code",
      "execution_count": null,
      "metadata": {
        "id": "2FTLIGXR9n1v"
      },
      "outputs": [],
      "source": [
        "a = [4, 7, 2, 1]\n",
        "\n",
        "# a 값 순서 뒤집기"
      ]
    },
    {
      "cell_type": "code",
      "execution_count": null,
      "metadata": {
        "id": "FUvpOwwj9n1v"
      },
      "outputs": [],
      "source": [
        "a = [4, 2, 8, 1]\n",
        "\n",
        "# a에서 2 값의 인덱스 구하기"
      ]
    },
    {
      "cell_type": "code",
      "execution_count": null,
      "metadata": {
        "id": "sts902F89n1v"
      },
      "outputs": [],
      "source": [
        "a = [4, 7, 2, 1]\n",
        "\n",
        "# 첫번째에 20 값 입력하기"
      ]
    },
    {
      "cell_type": "code",
      "execution_count": null,
      "metadata": {
        "id": "jWC8_rnZ9n1v"
      },
      "outputs": [],
      "source": [
        "a = [4, 7, 2, 1]\n",
        "\n",
        "# 마지막 요소 리스트에서 뺴고 저장하기"
      ]
    },
    {
      "cell_type": "code",
      "execution_count": null,
      "metadata": {
        "id": "m_aWC8kX9n1v"
      },
      "outputs": [],
      "source": [
        "a = [4, 7, 2, 1]\n",
        "\n",
        "# pop 작업을 del로 하기\n"
      ]
    },
    {
      "cell_type": "code",
      "execution_count": null,
      "metadata": {
        "id": "vUGUVTgi9n1v"
      },
      "outputs": [],
      "source": [
        "a = [4, 7, 2, 1]\n",
        "\n",
        "# pop 작업으로 7 빼기"
      ]
    },
    {
      "cell_type": "code",
      "execution_count": null,
      "metadata": {
        "id": "An8tG4CS9n1v"
      },
      "outputs": [],
      "source": [
        "a = [4, 1, 1, 2, 1]\n",
        "\n",
        "# a에서 1 값 개수 세기"
      ]
    },
    {
      "cell_type": "code",
      "execution_count": null,
      "metadata": {
        "id": "tU4isr839n1v"
      },
      "outputs": [],
      "source": [
        "a = [4, 1, 1, 2, 1]\n",
        "\n",
        "# 리스트 함수 사용하지 않고, 1 값 개수 세기\n"
      ]
    },
    {
      "cell_type": "code",
      "execution_count": null,
      "metadata": {
        "id": "oN8OvZ-x9n1w"
      },
      "outputs": [],
      "source": [
        "a = [4, 7, 2, 1]\n",
        "\n",
        "# 내림차순 정렬\n"
      ]
    },
    {
      "cell_type": "code",
      "execution_count": null,
      "metadata": {
        "id": "A0GbPUfb9n1w"
      },
      "outputs": [],
      "source": [
        "a = [[200, 500, 1], [1, 200, 300], [9, 8, 7]]\n",
        "\n",
        "# 3번째 값에 따라 내림차순 정렬\n"
      ]
    },
    {
      "cell_type": "code",
      "execution_count": null,
      "metadata": {
        "id": "lKbkOc449n1w"
      },
      "outputs": [],
      "source": [
        "a = [[200, 500, 1], [1, 200, 300], [9, 8, 7]]\n",
        "\n",
        "# 2번째 값에 따라 내림차순 정렬\n"
      ]
    },
    {
      "cell_type": "code",
      "execution_count": null,
      "metadata": {
        "id": "FR6K-3B09n1w"
      },
      "outputs": [],
      "source": [
        "a = 'hello those guys come from korea'\n",
        "\n",
        "# 띄어쓰기로 분할해서 리스트 저장\n"
      ]
    },
    {
      "cell_type": "code",
      "execution_count": null,
      "metadata": {
        "id": "ypaHlJsf9n1w"
      },
      "outputs": [],
      "source": [
        "a = 'hello those guys come from korea'\n",
        "\n",
        "# o로 분할해서 리스트 저장"
      ]
    },
    {
      "cell_type": "markdown",
      "metadata": {
        "id": "6RhWFPv_9n1w"
      },
      "source": [
        "# 15. list comprehension"
      ]
    },
    {
      "cell_type": "code",
      "execution_count": null,
      "metadata": {
        "id": "5g1Z3RDI9n1w"
      },
      "outputs": [],
      "source": [
        "# 1에서 5까지 각각의 제곱을 list로 저장\n"
      ]
    },
    {
      "cell_type": "code",
      "execution_count": null,
      "metadata": {
        "id": "JFdbC5Rb9n1w"
      },
      "outputs": [],
      "source": [
        "# 위를 list comprehension으로\n"
      ]
    },
    {
      "cell_type": "code",
      "execution_count": null,
      "metadata": {
        "id": "keT5WU5g9n1x"
      },
      "outputs": [],
      "source": [
        "# 1에서 10까지의 홀수를 list로 저장\n"
      ]
    },
    {
      "cell_type": "code",
      "execution_count": null,
      "metadata": {
        "id": "GByMaGyM9n1x"
      },
      "outputs": [],
      "source": [
        "# 위를 list comprehension으로\n"
      ]
    },
    {
      "cell_type": "markdown",
      "metadata": {
        "id": "zRl4jzrr_sRQ"
      },
      "source": [
        "# 16. csv 파일 다루기"
      ]
    },
    {
      "cell_type": "code",
      "execution_count": 6,
      "metadata": {
        "colab": {
          "base_uri": "https://localhost:8080/"
        },
        "id": "ZUhOI8Bj_sW7",
        "outputId": "8633c123-6f2a-4738-fa70-91581359bd35"
      },
      "outputs": [
        {
          "name": "stdout",
          "output_type": "stream",
          "text": [
            "['\\ufeff이름', '나이', '성별', '도시']\n",
            "['홍길동', '21', '0', '서울']\n",
            "['유관순', '23', '1', '부산']\n",
            "['이이무', '42', '1', '경기']\n"
          ]
        }
      ],
      "source": [
        "# people.csv 파일 읽기\n",
        "\n"
      ]
    },
    {
      "cell_type": "code",
      "execution_count": null,
      "metadata": {
        "id": "znx8jzxc_sY7"
      },
      "outputs": [],
      "source": [
        "# mywrite.csv 파일 작성하기 (이름, 나이, 성별, 주소) 그리고 2개의 행 추가하기\n"
      ]
    },
    {
      "cell_type": "markdown",
      "metadata": {
        "id": "or7lTXDrFQme"
      },
      "source": [
        "# 17. folium"
      ]
    },
    {
      "cell_type": "code",
      "execution_count": null,
      "metadata": {
        "id": "jeSEoOH5FQr5"
      },
      "outputs": [],
      "source": [
        "# 지도 만들기\n",
        "\n"
      ]
    },
    {
      "cell_type": "code",
      "execution_count": null,
      "metadata": {
        "id": "SarFn3WUFQuP"
      },
      "outputs": [],
      "source": [
        "# CartoDB dark_matter로 map tile 바꾸기\n"
      ]
    },
    {
      "cell_type": "code",
      "execution_count": null,
      "metadata": {
        "id": "-54t_Llu_sa3"
      },
      "outputs": [],
      "source": [
        "# latitute, longitude에 야구장 Marker 찍기\n"
      ]
    },
    {
      "cell_type": "code",
      "execution_count": null,
      "metadata": {
        "id": "_H8d04LVFViA"
      },
      "outputs": [],
      "source": [
        "# 37.556175, 127.0035507에 Circle 찍기\n",
        "\n"
      ]
    },
    {
      "cell_type": "code",
      "execution_count": null,
      "metadata": {
        "id": "9jnI44GIFVkK"
      },
      "outputs": [],
      "source": [
        "# Choropleth 입히기 (TL_SCCO_SIG_WGS84_euc_kr.json)\n"
      ]
    },
    {
      "cell_type": "code",
      "execution_count": null,
      "metadata": {
        "id": "k6h1yodvFVmb"
      },
      "outputs": [],
      "source": [
        "# kyochon_geo.csv 데이터로 빨간색 circle 찍기\n"
      ]
    },
    {
      "cell_type": "code",
      "execution_count": null,
      "metadata": {
        "id": "PCRv_ak7FYZL"
      },
      "outputs": [],
      "source": [
        "# 위의 데이터로 첫 번째, 두번째, 세번째 각각을 발생 크기에 따라 다르게 해주고, red, orange, green으로 표시하라.\n",
        "import csv\n",
        "\n",
        "f = open('도로교통공단_사망 교통사고 정보_20221231.csv', 'r', encoding = 'cp949')\n",
        "r = csv.reader(f)\n",
        "next(r)\n",
        "\n",
        "\n",
        "data = []\n",
        "\n",
        "for i in r:\n",
        "    i[4] = int(i[4])\n",
        "    i[5] = int(i[5])\n",
        "    i[6] = int(i[6])\n",
        "    i[7] = int(i[7])\n",
        "    i[8] = int(i[8])\n",
        "    i[-1] = float(i[-1])\n",
        "    i[-2] = float(i[-2])\n",
        "    data.append([i[4], i[5] + i[6],i[7] + i[8], i[-1], i[-2]])\n",
        "\n",
        "print(data)\n"
      ]
    },
    {
      "cell_type": "markdown",
      "metadata": {
        "id": "TuUe4pOSOV0D"
      },
      "source": [
        "# turtle"
      ]
    },
    {
      "cell_type": "markdown",
      "metadata": {
        "id": "8bpG-1DzEXQW"
      },
      "source": [
        "## -1. 다각형 그리는 함수 (turtle)"
      ]
    },
    {
      "cell_type": "code",
      "execution_count": null,
      "metadata": {
        "id": "Q3kII48AEVNy"
      },
      "outputs": [],
      "source": []
    },
    {
      "cell_type": "markdown",
      "metadata": {
        "id": "iyFD8r2vEX2N"
      },
      "source": [
        "## -2. 막 돌아다니는 거북이"
      ]
    },
    {
      "cell_type": "code",
      "execution_count": null,
      "metadata": {
        "id": "ftCKszVYEVPv"
      },
      "outputs": [],
      "source": []
    },
    {
      "cell_type": "markdown",
      "metadata": {
        "id": "GMKb9RvXOfnl"
      },
      "source": [
        "# -3. 거북이 대포 게임"
      ]
    },
    {
      "cell_type": "code",
      "execution_count": null,
      "metadata": {
        "id": "S9eO1GihOfDs"
      },
      "outputs": [],
      "source": []
    },
    {
      "cell_type": "markdown",
      "metadata": {
        "id": "TKaJ0rEjOgQz"
      },
      "source": [
        "## -4. 터틀런"
      ]
    },
    {
      "cell_type": "code",
      "execution_count": null,
      "metadata": {
        "id": "yITZC8EnEVRw"
      },
      "outputs": [],
      "source": []
    },
    {
      "cell_type": "markdown",
      "metadata": {
        "id": "9lU0m8OBOmVz"
      },
      "source": [
        "## -5. 터틀런 2"
      ]
    },
    {
      "cell_type": "code",
      "execution_count": null,
      "metadata": {
        "id": "lWM7IPJ_Ogtb"
      },
      "outputs": [],
      "source": []
    }
  ],
  "metadata": {
    "colab": {
      "provenance": [],
      "toc_visible": true
    },
    "kernelspec": {
      "display_name": "Python 3",
      "name": "python3"
    },
    "language_info": {
      "codemirror_mode": {
        "name": "ipython",
        "version": 3
      },
      "file_extension": ".py",
      "mimetype": "text/x-python",
      "name": "python",
      "nbconvert_exporter": "python",
      "pygments_lexer": "ipython3",
      "version": "3.10.6"
    }
  },
  "nbformat": 4,
  "nbformat_minor": 0
}
