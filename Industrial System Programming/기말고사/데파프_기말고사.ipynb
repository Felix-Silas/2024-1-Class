{
  "nbformat": 4,
  "nbformat_minor": 0,
  "metadata": {
    "colab": {
      "provenance": []
    },
    "kernelspec": {
      "name": "python3",
      "display_name": "Python 3"
    },
    "language_info": {
      "name": "python"
    }
  },
  "cells": [
    {
      "cell_type": "markdown",
      "source": [
        "# 1. 속으로 20초 세어 맞히는 프로그램"
      ],
      "metadata": {
        "id": "0uZV-MWIEW5G"
      }
    },
    {
      "cell_type": "code",
      "source": [
        "import time\n",
        "\n",
        "input(\"20초를 셀 준비하면 엔터 누르세요\")\n",
        "start = time.time()\n",
        "\n",
        "input(\"20초가 지났을 거 같을 떄 누르세요\")\n",
        "end = time.time()\n",
        "\n",
        "et = end - start\n",
        "print(\"실제 시간:\", et, \"초\")\n",
        "\n",
        "print(\"차이 :\", abs(et - 20), \"초\")\n"
      ],
      "metadata": {
        "colab": {
          "base_uri": "https://localhost:8080/"
        },
        "id": "Sz7nI8axEVLo",
        "outputId": "9a09363b-5d29-4db8-d2f8-87159f81aeb6"
      },
      "execution_count": 8,
      "outputs": [
        {
          "output_type": "stream",
          "name": "stdout",
          "text": [
            "20초를 셀 준비하면 엔터 누르세요\n",
            "20초가 지났을 거 같을 떄 누르세요\n",
            "실제 시간: 1.7472176551818848 초\n",
            "차이 : 18.252782344818115 초\n"
          ]
        }
      ]
    },
    {
      "cell_type": "markdown",
      "source": [
        "# 2. 무작위로 덧셈 문제 만들어서 맞히는 프로그램"
      ],
      "metadata": {
        "id": "9kf-fQ4xG3Gz"
      }
    },
    {
      "cell_type": "code",
      "source": [
        "import random\n",
        "\n",
        "count = 0\n",
        "\n",
        "for i in range(3):\n",
        "    a = random.randint(1, 20)\n",
        "    b = random.randint(1, 20)\n",
        "\n",
        "    print(a,'+', b, '=')\n",
        "    c = int(input())\n",
        "\n",
        "    if a+b == c:\n",
        "        print('정답')\n",
        "        count += 1\n",
        "\n",
        "    else:\n",
        "        print(\"오답\")\n",
        "\n",
        "print(\"정답 개수:\", count)\n"
      ],
      "metadata": {
        "colab": {
          "base_uri": "https://localhost:8080/"
        },
        "id": "KnvmEltoFkQN",
        "outputId": "521be9a3-35c6-49dd-81f2-4069fd49f870"
      },
      "execution_count": 10,
      "outputs": [
        {
          "output_type": "stream",
          "name": "stdout",
          "text": [
            "5 + 20 =\n",
            "25\n",
            "정답\n",
            "1 + 10 =\n",
            "11\n",
            "정답\n",
            "10 + 12 =\n",
            "22\n",
            "정답\n",
            "정답 개수: 3\n"
          ]
        }
      ]
    },
    {
      "cell_type": "markdown",
      "source": [
        "# 3. 1부터 10까지의 합 (for문과 while문)"
      ],
      "metadata": {
        "id": "VOp3HdT9G5mG"
      }
    },
    {
      "cell_type": "code",
      "source": [
        "s = 0\n",
        "\n",
        "for i in range(1, 11):\n",
        "    s += i\n",
        "\n",
        "print(s)"
      ],
      "metadata": {
        "colab": {
          "base_uri": "https://localhost:8080/"
        },
        "id": "VZCChuUnFkSg",
        "outputId": "7fe6593e-bd0a-41d3-953c-a8b663350bc6"
      },
      "execution_count": 11,
      "outputs": [
        {
          "output_type": "stream",
          "name": "stdout",
          "text": [
            "55\n"
          ]
        }
      ]
    },
    {
      "cell_type": "code",
      "source": [
        "s = 0\n",
        "i = 0\n",
        "\n",
        "while i <= 10:\n",
        "    s += i\n",
        "    i += 1\n",
        "\n",
        "print(s)"
      ],
      "metadata": {
        "colab": {
          "base_uri": "https://localhost:8080/"
        },
        "id": "esPE0a7FIwGp",
        "outputId": "e3ebe1db-ff6e-4631-d364-bb7cf4f549fc"
      },
      "execution_count": 12,
      "outputs": [
        {
          "output_type": "stream",
          "name": "stdout",
          "text": [
            "55\n"
          ]
        }
      ]
    },
    {
      "cell_type": "markdown",
      "source": [
        "# 4. 숫자를 추측해서 맞히는 프로그램"
      ],
      "metadata": {
        "id": "Crz18f8QHKwK"
      }
    },
    {
      "cell_type": "code",
      "source": [
        "import random\n",
        "\n",
        "a = random.randint(1, 30)\n",
        "\n",
        "\n",
        "\n",
        "while True:\n",
        "    x = int(input(\"예측 숫자:\"))\n",
        "\n",
        "    if x == a:\n",
        "        print(\"정답\")\n",
        "        break\n",
        "    if x < a:\n",
        "        print(\"숫자 더 키워\")\n",
        "    if x> a:\n",
        "        print(\"숫자 줄여\")\n"
      ],
      "metadata": {
        "colab": {
          "base_uri": "https://localhost:8080/"
        },
        "id": "9EJqodOxFkUX",
        "outputId": "d8be0c56-2782-4a68-cd26-ab4400176739"
      },
      "execution_count": 13,
      "outputs": [
        {
          "output_type": "stream",
          "name": "stdout",
          "text": [
            "예측 숫자:20\n",
            "숫자 더 키워\n",
            "예측 숫자:25\n",
            "숫자 줄여\n",
            "예측 숫자:22\n",
            "숫자 줄여\n",
            "예측 숫자:21\n",
            "정답\n"
          ]
        }
      ]
    },
    {
      "cell_type": "markdown",
      "source": [
        "# 5. 1부터 n까지의 합 (함수)"
      ],
      "metadata": {
        "id": "eSf2pc9CHSCt"
      }
    },
    {
      "cell_type": "code",
      "source": [
        "def sum(n):\n",
        "    s = 0\n",
        "    for i in range(1, n+1):\n",
        "        s += i\n",
        "\n",
        "    return s\n",
        "\n",
        "sum(10)"
      ],
      "metadata": {
        "colab": {
          "base_uri": "https://localhost:8080/"
        },
        "id": "zdW56AmiG9AR",
        "outputId": "d0319f10-d2c5-4318-a1cd-27fcbd97aace"
      },
      "execution_count": 15,
      "outputs": [
        {
          "output_type": "execute_result",
          "data": {
            "text/plain": [
              "55"
            ]
          },
          "metadata": {},
          "execution_count": 15
        }
      ]
    },
    {
      "cell_type": "markdown",
      "source": [
        "# 6. factorial (1부터 n까지 곱) (함수)"
      ],
      "metadata": {
        "id": "8C77CG6UHS36"
      }
    },
    {
      "cell_type": "code",
      "source": [
        "def factorial(n):\n",
        "    f = 1\n",
        "    for i in range(1, n+1):\n",
        "        f *= i\n",
        "\n",
        "    return f\n",
        "\n",
        "factorial(5)"
      ],
      "metadata": {
        "colab": {
          "base_uri": "https://localhost:8080/"
        },
        "id": "Y5I0q_J8FkWo",
        "outputId": "0d190019-d299-4ba2-9b06-a95cb3b5cb68"
      },
      "execution_count": 16,
      "outputs": [
        {
          "output_type": "execute_result",
          "data": {
            "text/plain": [
              "120"
            ]
          },
          "metadata": {},
          "execution_count": 16
        }
      ]
    },
    {
      "cell_type": "markdown",
      "source": [
        "# 7. factorial (1부터 n까지 곱) (재귀함수)"
      ],
      "metadata": {
        "id": "8a-FlazrK4ej"
      }
    },
    {
      "cell_type": "code",
      "source": [
        "def factorial(n):\n",
        "    if n == 1:\n",
        "        return 1\n",
        "    else:\n",
        "        return n * factorial(n-1)\n",
        "\n",
        "factorial(5)"
      ],
      "metadata": {
        "colab": {
          "base_uri": "https://localhost:8080/"
        },
        "id": "VW9o-kIMK1MH",
        "outputId": "404b39ac-29c7-49ce-d658-015da0ba7425"
      },
      "execution_count": 17,
      "outputs": [
        {
          "output_type": "execute_result",
          "data": {
            "text/plain": [
              "120"
            ]
          },
          "metadata": {},
          "execution_count": 17
        }
      ]
    },
    {
      "cell_type": "markdown",
      "source": [
        "# 8. fibonacci 함수 (재귀함수)\n",
        "## 0 1 1 2 3"
      ],
      "metadata": {
        "id": "N1-K0Ni6K5q3"
      }
    },
    {
      "cell_type": "code",
      "source": [
        "def fib(n):\n",
        "    if n >= 2:\n",
        "        return fib(n-1) + fib(n-2)\n",
        "\n",
        "    elif n == 1:\n",
        "        return 1\n",
        "    else:\n",
        "        return 0\n",
        "\n",
        "fib(4)"
      ],
      "metadata": {
        "colab": {
          "base_uri": "https://localhost:8080/"
        },
        "id": "IzuQkeVeK5yb",
        "outputId": "7ebcb2cf-7545-468f-d331-f1df3f9513a6"
      },
      "execution_count": 18,
      "outputs": [
        {
          "output_type": "execute_result",
          "data": {
            "text/plain": [
              "3"
            ]
          },
          "metadata": {},
          "execution_count": 18
        }
      ]
    },
    {
      "cell_type": "markdown",
      "source": [
        "# 9. 계산 문제를 맞히는 경우 (str)"
      ],
      "metadata": {
        "id": "4_F4eMsGHTVK"
      }
    },
    {
      "cell_type": "code",
      "source": [
        "import random\n",
        "\n",
        "def make_question():\n",
        "    a = random.randint(1, 20)\n",
        "    b = random.randint(1, 20)\n",
        "\n",
        "    op = random.randint(1, 3)\n",
        "\n",
        "    if op == 1:\n",
        "        q = str(a) + '+'\n",
        "    if op == 2:\n",
        "        q = str(a) + '-'\n",
        "    if op == 3:\n",
        "        q = str(a) + '*'\n",
        "\n",
        "    q = q + str(b)\n",
        "\n",
        "    return q\n",
        "\n",
        "sc1 = 0\n",
        "sc2 = 0\n",
        "\n",
        "for i in range(5):\n",
        "    q = make_question()\n",
        "    print(q)\n",
        "\n",
        "    x = int(input())\n",
        "\n",
        "    if eval(q) == x:\n",
        "        print('정답')\n",
        "        sc1 += 1\n",
        "    else:\n",
        "        print('오답')\n",
        "        sc2 += 1\n",
        "\n",
        "print('정답 개수:', sc1)\n",
        "print('오답 개수:', sc2)\n"
      ],
      "metadata": {
        "colab": {
          "base_uri": "https://localhost:8080/"
        },
        "id": "lf6xNY97FkYo",
        "outputId": "84da9ebb-d526-49cb-8c8f-1f0f75b021a6"
      },
      "execution_count": 19,
      "outputs": [
        {
          "output_type": "stream",
          "name": "stdout",
          "text": [
            "16*10\n",
            "160\n",
            "정답\n",
            "15*14\n",
            "20\n",
            "오답\n",
            "5-7\n",
            "-2\n",
            "정답\n",
            "14*14\n",
            "10\n",
            "오답\n",
            "20*15\n",
            "22\n",
            "오답\n",
            "정답 개수: 2\n",
            "오답 개수: 3\n"
          ]
        }
      ]
    },
    {
      "cell_type": "markdown",
      "source": [
        "# 10. 타자 게임"
      ],
      "metadata": {
        "id": "RnNYwt6TMlFB"
      }
    },
    {
      "cell_type": "code",
      "source": [
        "import random\n",
        "import time\n",
        "\n",
        "qs = ['lion', 'tiger', 'dragon']\n",
        "n = 1\n",
        "\n",
        "start = time.time()\n",
        "\n",
        "while n <= 5:\n",
        "    q = random.choice(qs)\n",
        "    print(q)\n",
        "    a = input('타자 입력:')\n",
        "\n",
        "    if q == a:\n",
        "        print('정답')\n",
        "        n += 1\n",
        "        q = random.choice(qs)\n",
        "    else:\n",
        "        print('오답')\n",
        "        print('다시 입력하시오')\n",
        "\n",
        "end = time.time()\n",
        "et = end- start\n",
        "\n",
        "print('소요된 시간:', et, '초')\n"
      ],
      "metadata": {
        "colab": {
          "base_uri": "https://localhost:8080/"
        },
        "id": "i_T3eSkLFkap",
        "outputId": "392b3e9e-6d02-4d91-f7c2-61840fc053f3"
      },
      "execution_count": 22,
      "outputs": [
        {
          "output_type": "stream",
          "name": "stdout",
          "text": [
            "tiger\n",
            "타자 입력:sd\n",
            "오답\n",
            "다시 입력하시오\n",
            "tiger\n",
            "타자 입력:sd\n",
            "오답\n",
            "다시 입력하시오\n",
            "tiger\n",
            "타자 입력:sd\n",
            "오답\n",
            "다시 입력하시오\n",
            "tiger\n",
            "타자 입력:sd\n",
            "오답\n",
            "다시 입력하시오\n",
            "tiger\n",
            "타자 입력:tiger\n",
            "정답\n",
            "dragon\n",
            "타자 입력:dragon\n",
            "정답\n",
            "tiger\n",
            "타자 입력:tiger\n",
            "정답\n",
            "tiger\n",
            "타자 입력:tiger\n",
            "정답\n",
            "tiger\n",
            "타자 입력:tiger\n",
            "정답\n",
            "소요된 시간: 16.80803656578064 초\n"
          ]
        }
      ]
    },
    {
      "cell_type": "markdown",
      "source": [
        "# 11. matrix 총합 및 행렬곱"
      ],
      "metadata": {
        "id": "ZsXZq-GtNgJw"
      }
    },
    {
      "cell_type": "code",
      "source": [
        "a = [\n",
        "[5, 7, 9],\n",
        "[15, 17, 19],\n",
        "[25, 27, 29]]\n",
        "\n",
        "s = 0\n",
        "\n",
        "for i in range(3):\n",
        "    for j in range(3):\n",
        "        s += a[i][j]\n",
        "\n",
        "print(s)"
      ],
      "metadata": {
        "colab": {
          "base_uri": "https://localhost:8080/"
        },
        "id": "pBAVPEbSFkct",
        "outputId": "746a1a00-99a6-4083-a039-5d06e1fb7215"
      },
      "execution_count": 24,
      "outputs": [
        {
          "output_type": "stream",
          "name": "stdout",
          "text": [
            "153\n"
          ]
        }
      ]
    },
    {
      "cell_type": "code",
      "source": [
        "a = [\n",
        "[3, 2, 1],\n",
        "[4, 3, 2],\n",
        "[0, 1, 0]]\n",
        "\n",
        "b = [\n",
        "[1, 2, 3],\n",
        "[4, 5, 6],\n",
        "[7, 8, 9]]\n",
        "\n",
        "c = [\n",
        "    [0, 0, 0],\n",
        "    [0, 0, 0],\n",
        "    [0, 0, 0]]\n",
        "\n",
        "\n",
        "\n",
        "for i in range(3):\n",
        "    for j in range(3):\n",
        "        for k in range(3):\n",
        "            c[i][j] += a[i][k] * b[k][j]\n",
        "\n",
        "c"
      ],
      "metadata": {
        "colab": {
          "base_uri": "https://localhost:8080/"
        },
        "id": "5PEU_gAUFke1",
        "outputId": "658a43c6-468c-421f-d382-84d1998d1bad"
      },
      "execution_count": 27,
      "outputs": [
        {
          "output_type": "execute_result",
          "data": {
            "text/plain": [
              "[[18, 24, 30], [30, 39, 48], [4, 5, 6]]"
            ]
          },
          "metadata": {},
          "execution_count": 27
        }
      ]
    },
    {
      "cell_type": "markdown",
      "source": [
        "# 12. CSV 읽기"
      ],
      "metadata": {
        "id": "rdIcWC7QQDWn"
      }
    },
    {
      "cell_type": "code",
      "source": [
        "import csv\n",
        "\n",
        "f = open('data.csv', 'r')\n",
        "\n",
        "reader = csv.reader(f)\n",
        "\n",
        "for row in reader:\n",
        "    print(row)\n",
        "\n",
        "f.close()"
      ],
      "metadata": {
        "id": "zrUWMr93QDct"
      },
      "execution_count": null,
      "outputs": []
    },
    {
      "cell_type": "code",
      "source": [
        "import csv\n",
        "\n",
        "f = open('myfile.csv', 'w')\n",
        "\n",
        "writer = csv.writer(f)\n",
        "\n",
        "writer.writerow(['a', 'b', 'c'])\n",
        "writer.writerow(['1', '2', '3'])\n",
        "\n",
        "f.close()"
      ],
      "metadata": {
        "id": "aFs2EBmkQDh1"
      },
      "execution_count": null,
      "outputs": []
    },
    {
      "cell_type": "markdown",
      "source": [
        "# 13. folium 관련 코드"
      ],
      "metadata": {
        "id": "GfWiiitUQzSx"
      }
    },
    {
      "cell_type": "code",
      "source": [
        "# 교수님 코드\n",
        "\n",
        "import csv\n",
        "\n",
        "f = open('kyochon_geo.csv', 'r')\n",
        "r = csv.reader(f)\n",
        "\n",
        "data = []\n",
        "\n",
        "for i in r:\n",
        "    data.append([i[1], i[5],i[6]])\n",
        "\n",
        "print(data)"
      ],
      "metadata": {
        "id": "UlSHMPgtQzYq"
      },
      "execution_count": null,
      "outputs": []
    },
    {
      "cell_type": "code",
      "source": [
        "import folium\n",
        "\n",
        "m = folium.Map(\n",
        "    location=[37.5582876, 127.0001671],\n",
        "    zoom_start=7\n",
        "    )\n",
        "\n",
        "\n",
        "for d in data:\n",
        "    folium.Circle(location=[d[1], d[2]],\n",
        "                  color = 'red',\n",
        "                  radius = 1500,\n",
        "                  popup = d[0],\n",
        "                  fill = True,\n",
        "                  fill_opacity = 1).add_to(m)\n",
        "\n",
        "m"
      ],
      "metadata": {
        "id": "udXiloCXRIcj"
      },
      "execution_count": null,
      "outputs": []
    },
    {
      "cell_type": "code",
      "source": [
        "import pandas as pd\n",
        "\n",
        "df = pd.read_csv('도로교통공단_사망 교통사고 정보_20221231.csv', encoding = 'cp949')\n",
        "\n",
        "df"
      ],
      "metadata": {
        "id": "LAI3wA4PRIfK"
      },
      "execution_count": null,
      "outputs": []
    },
    {
      "cell_type": "code",
      "source": [
        "import csv\n",
        "\n",
        "f = open('도로교통공단_사망 교통사고 정보_20221231.csv', 'r', encoding = 'cp949')\n",
        "r = csv.reader(f)\n",
        "next(r)\n",
        "\n",
        "\n",
        "data = []\n",
        "\n",
        "for i in r:\n",
        "    i[4] = int(i[4])\n",
        "    i[5] = int(i[5])\n",
        "    i[6] = int(i[6])\n",
        "    i[7] = int(i[7])\n",
        "    i[8] = int(i[8])\n",
        "    i[-1] = float(i[-1])\n",
        "    i[-2] = float(i[-2])\n",
        "    data.append([i[4], i[5] + i[6],i[7] + i[8], i[-1], i[-2]])\n",
        "\n",
        "print(data)"
      ],
      "metadata": {
        "id": "YKV1bSB_RIjz"
      },
      "execution_count": null,
      "outputs": []
    },
    {
      "cell_type": "code",
      "source": [
        "# 빨강색, 주황색, 녹색\n",
        "\n",
        "m = folium.Map(\n",
        "    location=[37.5582876, 127.0001671],\n",
        "    zoom_start=7\n",
        "    )\n",
        "\n",
        "for d in data:\n",
        "    if d[0] > 0:\n",
        "        folium.Circle(location=[d[-2], d[-1]],\n",
        "                  color = 'red',\n",
        "                  radius = d[0] * 500).add_to(m)\n",
        "    if d[1] > 0:\n",
        "        folium.Circle(location=[d[-2], d[-1]],\n",
        "                  color = 'orange',\n",
        "                  radius = d[1] * 500).add_to(m)\n",
        "\n",
        "    if d[2] > 0:\n",
        "        folium.Circle(location=[d[-2], d[-1]],\n",
        "                  color = 'green',\n",
        "                  radius = d[2] * 500).add_to(m)\n",
        "\n",
        "\n",
        "m"
      ],
      "metadata": {
        "id": "1Yvt_HIRQza2"
      },
      "execution_count": null,
      "outputs": []
    },
    {
      "cell_type": "markdown",
      "source": [
        "# turtle"
      ],
      "metadata": {
        "id": "TuUe4pOSOV0D"
      }
    },
    {
      "cell_type": "markdown",
      "source": [
        "## -1. 다각형 그리는 함수 (turtle)"
      ],
      "metadata": {
        "id": "8bpG-1DzEXQW"
      }
    },
    {
      "cell_type": "code",
      "source": [
        "import turtle as t\n",
        "\n",
        "\n",
        "def polygon(n, a):\n",
        "    for i in range(n):\n",
        "        t.forward(a)\n",
        "        t.left(360/n)\n",
        "\n",
        "# polygon(3, 5)"
      ],
      "metadata": {
        "id": "Q3kII48AEVNy"
      },
      "execution_count": null,
      "outputs": []
    },
    {
      "cell_type": "markdown",
      "source": [
        "## -2. 막 돌아다니는 거북이"
      ],
      "metadata": {
        "id": "iyFD8r2vEX2N"
      }
    },
    {
      "cell_type": "code",
      "source": [
        "import turtle as t\n",
        "import random\n",
        "\n",
        "t.shape(\"turtle\")\n",
        "t.speed(0)\n",
        "\n",
        "for i in range(500):\n",
        "    t.forward(random.randint(1, 360))\n",
        "    t.setheading(random.randint(0, 360))"
      ],
      "metadata": {
        "id": "ftCKszVYEVPv"
      },
      "execution_count": null,
      "outputs": []
    },
    {
      "cell_type": "markdown",
      "source": [
        "# -3. 거북이 대포 게임"
      ],
      "metadata": {
        "id": "GMKb9RvXOfnl"
      }
    },
    {
      "cell_type": "code",
      "source": [
        "import turtle as t\n",
        "import random\n",
        "\n",
        "t.shape('arrow')\n",
        "\n",
        "# 함수 정의 (10도에서 80도 사이)\n",
        "def turn_up():\n",
        "    if t.heading() <= 78:\n",
        "        t.left(2)\n",
        "\n",
        "def turn_down():\n",
        "    if t.heading() >= 12:\n",
        "        t.right(2)\n",
        "\n",
        "def fire():\n",
        "    # 50각형 그리면서 다시 돌아오게(마치 쏘는 것처럼)\n",
        "    ang = t.heading()\n",
        "    n = 50\n",
        "    for i in range(n):\n",
        "        t.forward(25)\n",
        "        t.right(360/n)\n",
        "        if t.ycor() <= 0: # while 하면 위가 다 짧아짐\n",
        "            a = t.xcor()\n",
        "            # 성공 여부 판정 (땅에 박혔을 떄 x 좌표가 타겟을 기준으로 +-25 사이에 있으면 성공)\n",
        "            if a  >= target - 25 and a <= target + 25:\n",
        "                t.color(\"blue\")\n",
        "                t.write(\"Good!\", False, \"center\", (\"\", 15))\n",
        "                break\n",
        "            else:\n",
        "                t.color(\"red\")\n",
        "                t.write(\"Bad!\", False, \"center\", (\"\", 15))\n",
        "                break\n",
        "\n",
        "    t.color(\"black\") # 거북이 색을 다시 검정으로\n",
        "    t.goto(-200, 10) # 거북이 위치를 처음 발사했던 곳으로 되돌리기\n",
        "    t.setheading(ang) # 각도도 처음 기억해 둔 각도로 되돌림\n",
        "\n",
        "'''\n",
        "def fire():\n",
        "    ang = t.heading() # 현재 거북이가 바라보는 각도 기억\n",
        "    while t.ycor() > 0: # 거북이가 땅 위에 있는 동안 반복\n",
        "        t.forward(15)\n",
        "        t.right(5)\n",
        "\n",
        "    # while 문 빠져나오면 거북이가 땅에 닿은 상태임\n",
        "    d = t.distance(target, 0) # 거북이와 목표 지점과의 거리\n",
        "    t.sety(random.randint(10, 100)) # 성공 또는 실패를 표시할 위치 지정\n",
        "\n",
        "    if d < 25: # 거리 차이가 25보다 작으면 성공\n",
        "        t.color(\"blue\")\n",
        "        t.write(\"Good!\", False, \"center\", (\"\", 15))\n",
        "    else:\n",
        "        t.color(\"red\")\n",
        "        t.write(\"Bad!\", False, \"center\", (\"\", 15))\n",
        "    t.color(\"black\") # 거북이 색을 다시 검정으로\n",
        "    t.goto(-200, 10) # 거북이 위치를 처음 발사했던 곳으로 되돌리기\n",
        "    t.setheading(ang) # 각도도 처음 기억해 둔 각도로 되돌림\n",
        "\n",
        "'''\n",
        "\n",
        "\n",
        "\n",
        "# 땅 만들기\n",
        "t.goto(300, 0)\n",
        "t.goto(-300, 0)\n",
        "t.home()\n",
        "t.up()\n",
        "\n",
        "# target 지점 그리기\n",
        "target = random.randint(0, 200)\n",
        "t.goto(target-25, 2)\n",
        "t.down()\n",
        "t.pensize(20)\n",
        "t.color('green')\n",
        "t.goto(target+25, 2)\n",
        "\n",
        "# 쏘기 위한 위치로 이동\n",
        "t.up()\n",
        "t.color('black')\n",
        "t.goto(-200, 0)\n",
        "t.setheading(20)\n",
        "\n",
        "\n",
        "t.onkeypress(turn_up, 'Up')\n",
        "t.onkeypress(turn_down, 'Down')\n",
        "t.onkeypress(fire, \"space\")\n",
        "t.listen() # 키보드 입력 받게 하기\n"
      ],
      "metadata": {
        "id": "S9eO1GihOfDs"
      },
      "execution_count": null,
      "outputs": []
    },
    {
      "cell_type": "markdown",
      "source": [
        "## -4. 터틀런"
      ],
      "metadata": {
        "id": "TKaJ0rEjOgQz"
      }
    },
    {
      "cell_type": "code",
      "source": [
        "import turtle as t\n",
        "import random\n",
        "\n",
        "t.bgcolor(\"orange\")\n",
        "t.setup(500, 500)\n",
        "t.shape(\"turtle\")\n",
        "t.speed(0)\n",
        "t.up()\n",
        "t.color(\"white\")\n",
        "\n",
        "# 악당 거북이\n",
        "te = t.Turtle()\n",
        "te.shape('turtle')\n",
        "te.color('red')\n",
        "te.speed(0)\n",
        "te.up()\n",
        "te.goto(0, 200)\n",
        "\n",
        "# 먹이\n",
        "ts = t.Turtle()\n",
        "ts.shape('circle')\n",
        "ts.color('green')\n",
        "ts.up()\n",
        "ts.goto(0, -200)\n",
        "\n",
        "# 함수 정의\n",
        "def forward():\n",
        "    t.forward(10)\n",
        "    #print(t.pos()) # t.xcor(), t.ycor()\n",
        "    ang = te.towards(t.pos())\n",
        "    te.setheading(ang)\n",
        "    te.forward(8)\n",
        "    if t.distance(ts) < 15:\n",
        "        print('냠냠')\n",
        "        s_x = random.randint(-100, 100)\n",
        "        s_y = random.randint(-100, 100)\n",
        "        ts.goto(s_x, s_y)\n",
        "    if t.distance(te) >= 12:\n",
        "        t.ontimer(forward, 100)\n",
        "\n",
        "\n",
        "def turn_right(): # 오른쪽\n",
        "    t.setheading(0)\n",
        "\n",
        "def turn_left(): # 왼쪽\n",
        "    t.setheading(180)\n",
        "\n",
        "def turn_up(): # 위\n",
        "    t.setheading(90)\n",
        "\n",
        "def turn_down(): # 아래\n",
        "    t.setheading(270)\n",
        "\n",
        "\n",
        "# t.ontimer(forward, 500) # 0.5초\n",
        "t.onkeypress(turn_right, \"Right\")\n",
        "t.onkeypress(turn_up, \"Up\")\n",
        "t.onkeypress(turn_left, \"Left\")\n",
        "t.onkeypress(turn_down, \"Down\")\n",
        "t.listen()\n",
        "forward()"
      ],
      "metadata": {
        "id": "yITZC8EnEVRw"
      },
      "execution_count": null,
      "outputs": []
    },
    {
      "cell_type": "markdown",
      "source": [
        "## -5. 터틀런 2"
      ],
      "metadata": {
        "id": "9lU0m8OBOmVz"
      }
    },
    {
      "cell_type": "code",
      "source": [
        "import turtle as t\n",
        "import random\n",
        "\n",
        "t.title(\"Turtle Run\")\n",
        "\n",
        "score = 0\n",
        "playing = False\n",
        "\n",
        "t.bgcolor(\"orange\")\n",
        "t.setup(500, 500)\n",
        "t.shape(\"turtle\")\n",
        "t.speed(0)\n",
        "t.up()\n",
        "t.color(\"white\")\n",
        "\n",
        "# 악당 거북이\n",
        "te = t.Turtle()\n",
        "te.shape('turtle')\n",
        "te.color('red')\n",
        "te.speed(0)\n",
        "te.up()\n",
        "te.goto(0, 200)\n",
        "\n",
        "# 먹이\n",
        "ts = t.Turtle()\n",
        "ts.shape('circle')\n",
        "ts.color('green')\n",
        "ts.up()\n",
        "ts.goto(0, -200)\n",
        "\n",
        "# 함수 정의\n",
        "\n",
        "def turn_right(): # 오른쪽\n",
        "    t.setheading(0)\n",
        "\n",
        "def turn_left(): # 왼쪽\n",
        "    t.setheading(180)\n",
        "\n",
        "def turn_up(): # 위\n",
        "    t.setheading(90)\n",
        "\n",
        "def turn_down(): # 아래\n",
        "    t.setheading(270)\n",
        "\n",
        "def start(): #게임 시작 및 초기화\n",
        "    global playing\n",
        "    if playing == False:\n",
        "        t.setup(500, 500) # 그래픽 창 크기\n",
        "        te.goto(0, 200)\n",
        "        ts.goto(0, -200)\n",
        "        t.home()\n",
        "        playing = True\n",
        "        t.clear()\n",
        "        play()\n",
        "\n",
        "def play():\n",
        "    global score\n",
        "    global playing\n",
        "    t.forward(10)\n",
        "    if random.randint(1,5) == 3: #20% 확률로 쳐다보기\n",
        "        ang = te.towards(t.pos())\n",
        "        te.setheading(ang)\n",
        "    speed=score+5 #점수가 오를 때 마다 속도 증가\n",
        "    if speed >15:\n",
        "        speed = 15\n",
        "    te.forward(speed)\n",
        "    if t.distance(te) < 15: #닿으면 점수표시 game over 표시\n",
        "        text = \"Score:\"+ str(score)\n",
        "        meassage(\"Game Over\", text)\n",
        "        playing = False\n",
        "        score = 0\n",
        "    if t.distance(ts) < 15: #먹으면 점수 증가 및 점수 표시\n",
        "        score = score + 1\n",
        "        t.write(score)\n",
        "        s_x = random.randint(-100, 100)\n",
        "        s_y = random.randint(-100, 100)\n",
        "        ts.goto(s_x, s_y)\n",
        "    if playing:\n",
        "        t.ontimer(play,100)\n",
        "\n",
        "def meassage(m1,m2): #화면에 메시지 표시\n",
        "    t.clear()\n",
        "    t.goto(0,100)\n",
        "    t.write(m1,False,\"center\",(\"\",20))\n",
        "    t.goto(0,-100)\n",
        "    t.write(m2,False,\"center\",(\"\",15))\n",
        "    t.home()\n",
        "\n",
        "t.onkeypress(start,\"space\")\n",
        "t.onkeypress(turn_right, \"Right\")\n",
        "t.onkeypress(turn_up, \"Up\")\n",
        "t.onkeypress(turn_left, \"Left\")\n",
        "t.onkeypress(turn_down, \"Down\")\n",
        "t.listen()\n",
        "meassage(\"Tirtle Run\",\"[Space}\")\n"
      ],
      "metadata": {
        "id": "lWM7IPJ_Ogtb"
      },
      "execution_count": null,
      "outputs": []
    }
  ]
}