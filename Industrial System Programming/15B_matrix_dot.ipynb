{
 "cells": [
  {
   "cell_type": "code",
   "execution_count": 1,
   "id": "f960e84f-4453-4da4-8656-3f2ad2cae7e3",
   "metadata": {},
   "outputs": [
    {
     "name": "stdout",
     "output_type": "stream",
     "text": [
      "153\n"
     ]
    }
   ],
   "source": [
    "a = [\n",
    "[5, 7, 9],\n",
    "[15, 17, 19],\n",
    "[25, 27, 29]]\n",
    "\n",
    "b = [\n",
    "[1, 2, 3],\n",
    "[4, 5, 6],\n",
    "[7, 8, 9]]\n",
    "\n",
    "s = 0\n",
    "for i in range(3):\n",
    "    for j in range(3):\n",
    "        s += a[i][j]\n",
    "\n",
    "print(s)"
   ]
  },
  {
   "cell_type": "code",
   "execution_count": 1,
   "id": "a00a0c04-fa3e-4667-aac8-f9d95c65393f",
   "metadata": {},
   "outputs": [
    {
     "data": {
      "text/plain": [
       "[[18, 24, 30], [30, 39, 48], [4, 5, 6]]"
      ]
     },
     "execution_count": 1,
     "metadata": {},
     "output_type": "execute_result"
    }
   ],
   "source": [
    "a = [\n",
    "[3, 2, 1],\n",
    "[4, 3, 2],\n",
    "[0, 1, 0]]\n",
    "\n",
    "b = [\n",
    "[1, 2, 3],\n",
    "[4, 5, 6],\n",
    "[7, 8, 9]]\n",
    "\n",
    "c = [\n",
    "[0, 0, 0],\n",
    "[0, 0, 0],\n",
    "[0, 0, 0]    \n",
    "]\n",
    "\n",
    "\n",
    "for i in range(3):\n",
    "    for j in range(3):\n",
    "        for k in range(3):\n",
    "            c[i][j] += a[i][k] * b[k][j]\n",
    "\n",
    "c\n",
    "\n",
    "        "
   ]
  },
  {
   "cell_type": "code",
   "execution_count": 2,
   "id": "be8985d5-0371-4a6a-ae5e-d2bdb58e76c5",
   "metadata": {},
   "outputs": [
    {
     "data": {
      "text/plain": [
       "array([[18, 24, 30],\n",
       "       [30, 39, 48],\n",
       "       [ 4,  5,  6]])"
      ]
     },
     "execution_count": 2,
     "metadata": {},
     "output_type": "execute_result"
    }
   ],
   "source": [
    "import numpy as np\n",
    "\n",
    "np.dot(a, b)"
   ]
  }
 ],
 "metadata": {
  "kernelspec": {
   "display_name": "Python 3 (ipykernel)",
   "language": "python",
   "name": "python3"
  },
  "language_info": {
   "codemirror_mode": {
    "name": "ipython",
    "version": 3
   },
   "file_extension": ".py",
   "mimetype": "text/x-python",
   "name": "python",
   "nbconvert_exporter": "python",
   "pygments_lexer": "ipython3",
   "version": "3.11.9"
  }
 },
 "nbformat": 4,
 "nbformat_minor": 5
}
