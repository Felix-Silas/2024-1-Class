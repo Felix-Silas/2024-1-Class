{
 "cells": [
  {
   "cell_type": "code",
   "execution_count": 1,
   "id": "74c91efc-710e-47f9-94a6-ad85f1ea4bf9",
   "metadata": {},
   "outputs": [
    {
     "name": "stdout",
     "output_type": "stream",
     "text": [
      "#users\n"
     ]
    },
    {
     "data": {
      "text/plain": [
       "[{'id': 0, 'name': 'Hero'},\n",
       " {'id': 1, 'name': 'Dunn'},\n",
       " {'id': 2, 'name': 'Sue'},\n",
       " {'id': 3, 'name': 'Chi'},\n",
       " {'id': 4, 'name': 'Thor'},\n",
       " {'id': 5, 'name': 'Clive'},\n",
       " {'id': 6, 'name': 'Hicks'},\n",
       " {'id': 7, 'name': 'Devin'},\n",
       " {'id': 8, 'name': 'Kate'},\n",
       " {'id': 9, 'name': 'Klein'}]"
      ]
     },
     "execution_count": 1,
     "metadata": {},
     "output_type": "execute_result"
    }
   ],
   "source": [
    "import json\n",
    "print(\"#users\")\n",
    "with open('users.json') as f:\n",
    "    users = json.load(f)\n",
    "    #print(py_obj.keys())\n",
    "\n",
    "users"
   ]
  },
  {
   "cell_type": "code",
   "execution_count": 5,
   "id": "80386ca5-b578-4d89-b804-4cd43ae4f6ce",
   "metadata": {},
   "outputs": [
    {
     "name": "stdout",
     "output_type": "stream",
     "text": [
      "#friendship_pairs\n",
      "['0', '1']\n",
      "['0', '2']\n",
      "['1', '2']\n",
      "['1', '3']\n",
      "['2', '3']\n",
      "['3', '4']\n",
      "['4', '5']\n",
      "['5', '6']\n",
      "['5', '7']\n",
      "['6', '8']\n",
      "['7', '8']\n",
      "['8', '9']\n",
      "[(0, 1), (0, 2), (1, 2), (1, 3), (2, 3), (3, 4), (4, 5), (5, 6), (5, 7), (6, 8), (7, 8), (8, 9)]\n"
     ]
    }
   ],
   "source": [
    "import csv # 파이썬 표준 라이브러리 모듈\n",
    "print(\"#friendship_pairs\")\n",
    "\n",
    "pair_list = []\n",
    "\n",
    "with open('friendship_pairs.csv', encoding='cp949') as f:\n",
    "    reader = csv.reader(f)\n",
    "    for row in reader:\n",
    "        print(row)\n",
    "        pair_list.append(row)\n",
    "        #formatted_data = [tuple(map(int, sublist)) for sublist in row]\n",
    "        #print(formatted_data)\n",
    "\n",
    "\n",
    "# 내부 리스트를 () 괄호로 변환\n",
    "formatted_data = [tuple(map(int, sublist)) for sublist in pair_list]\n",
    "\n",
    "print(formatted_data)"
   ]
  },
  {
   "cell_type": "code",
   "execution_count": 3,
   "id": "35f0dcb2-0cca-4630-8062-69f30ff85fc8",
   "metadata": {},
   "outputs": [
    {
     "name": "stdout",
     "output_type": "stream",
     "text": [
      "#friendship_pairs\n",
      "[(0, 1), (0, 2), (1, 2), (1, 3), (2, 3), (3, 4), (4, 5), (5, 6), (5, 7), (6, 8), (7, 8), (8, 9)]\n"
     ]
    }
   ],
   "source": [
    "import csv # 파이썬 표준 라이브러리 모듈\n",
    "print(\"#friendship_pairs\")\n",
    "\n",
    "pair_list = []\n",
    "\n",
    "with open('friendship_pairs.csv', encoding='cp949') as f:\n",
    "    reader = csv.reader(f)\n",
    "    for row in reader\n",
    "    :\n",
    "        pair = tuple(int(row[i]) for i in range(2))\n",
    "        pair_list.append(pair)\n",
    "\n",
    "print(pair_list)"
   ]
  },
  {
   "cell_type": "code",
   "execution_count": 45,
   "id": "57e93fcb-30a3-4b31-b6a3-167075a867a3",
   "metadata": {},
   "outputs": [
    {
     "name": "stdout",
     "output_type": "stream",
     "text": [
      "{0: [1, 2], 1: [0, 2, 3], 2: [0, 1, 3], 3: [1, 2, 4], 4: [3, 5], 5: [4, 6, 7], 6: [5, 8], 7: [5, 8], 8: [6, 7, 9], 9: [8]}\n"
     ]
    }
   ],
   "source": [
    "# 2번 문제. 양쪽에 추가하는 형식\n",
    "\n",
    "# 빈 딕셔너리 생성\n",
    "friend_dict = {}\n",
    "\n",
    "# formatted_data를 순회하면서 딕셔너리에 값 추가\n",
    "for pair in formatted_data:\n",
    "    key, value = pair\n",
    "    if key not in friend_dict:\n",
    "        friend_dict[key] = []\n",
    "    if value not in friend_dict:\n",
    "        friend_dict[value] = []\n",
    "    friend_dict[key].append(value)\n",
    "    friend_dict[value].append(key)\n",
    "\n",
    "print(friend_dict)"
   ]
  }
 ],
 "metadata": {
  "kernelspec": {
   "display_name": "Python 3 (ipykernel)",
   "language": "python",
   "name": "python3"
  },
  "language_info": {
   "codemirror_mode": {
    "name": "ipython",
    "version": 3
   },
   "file_extension": ".py",
   "mimetype": "text/x-python",
   "name": "python",
   "nbconvert_exporter": "python",
   "pygments_lexer": "ipython3",
   "version": "3.11.7"
  }
 },
 "nbformat": 4,
 "nbformat_minor": 5
}
