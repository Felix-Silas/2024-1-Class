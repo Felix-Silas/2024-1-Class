{
 "cells": [
  {
   "cell_type": "markdown",
   "id": "b8f1cb0f-5235-4243-88d6-c09dfe247bb4",
   "metadata": {},
   "source": [
    "# csv 파일을 읽고, 처음부터 20행까지의 데이터를 추출하여 csv 데이터 파일을 만드시오."
   ]
  },
  {
   "cell_type": "code",
   "execution_count": 1,
   "id": "b98782cf-5e1c-4a5e-9397-38618225cc93",
   "metadata": {},
   "outputs": [],
   "source": [
    "import csv\n",
    "rows = []\n",
    "with open('data-text.csv') as f:\n",
    "    reader = csv.reader(f)\n",
    "    for row in reader:\n",
    "        rows.append(row)"
   ]
  },
  {
   "cell_type": "code",
   "execution_count": 2,
   "id": "0476609c-4ef8-4311-8060-3664fbc6158b",
   "metadata": {},
   "outputs": [],
   "source": [
    "#csv write\n",
    "with open('data-text20.csv', 'w', newline='') as f:\n",
    "    writer = csv.writer(f)\n",
    "    writer.writerows(rows[:20]) # header도 포함되어 있음, header 1줄 + 실제 데이터 19개"
   ]
  },
  {
   "cell_type": "markdown",
   "id": "55fef742-08d5-45bd-b51a-3061c487b7b2",
   "metadata": {},
   "source": [
    "# 20행 csv 파일을 읽어, 이 중 'Indicator', 'Country', 'Display Value' 필드만 추출하여 SQLite 데이터베이스에 저장하시오."
   ]
  },
  {
   "cell_type": "code",
   "execution_count": 3,
   "id": "35d9b7b8-8a24-41f9-8e31-10178b591d3c",
   "metadata": {},
   "outputs": [],
   "source": [
    "import sqlite3\n",
    "#1. DB 연결 (파일이 없으면 만들고 있으면 연결)\n",
    "con = sqlite3.connect(\"C:/Temp/sqlite3/practice.db\")"
   ]
  },
  {
   "cell_type": "code",
   "execution_count": 4,
   "id": "65e7eff8-85b7-48db-95ee-550b0be09e2a",
   "metadata": {},
   "outputs": [],
   "source": [
    "#2. cursor 객체 만들기\n",
    "cursor = con.cursor()"
   ]
  },
  {
   "cell_type": "code",
   "execution_count": 5,
   "id": "8a0540f5-415c-419a-9d6f-49264d2334a1",
   "metadata": {},
   "outputs": [
    {
     "data": {
      "text/plain": [
       "<sqlite3.Cursor at 0x1fbf823bec0>"
      ]
     },
     "execution_count": 5,
     "metadata": {},
     "output_type": "execute_result"
    }
   ],
   "source": [
    "#3. 커서객체.execute()로 SQL 명령\n",
    "\n",
    "#3-1. table만들기\n",
    "cursor.execute(\"CREATE TABLE life(Indicator, Country, Display Value)\")"
   ]
  },
  {
   "cell_type": "code",
   "execution_count": 6,
   "id": "7ec2f07f-8604-4701-9867-9dd3e8c4d140",
   "metadata": {},
   "outputs": [],
   "source": [
    "with open('data-text20.csv', encoding='cp949') as f:\n",
    "    reader = csv.reader(f)\n",
    "    for row in reader:\n",
    "        cursor.execute(\"INSERT INTO life VALUES(?, ?, ?)\", (row[0], row[5], row[7]))"
   ]
  },
  {
   "cell_type": "code",
   "execution_count": 7,
   "id": "219a9f52-0109-4262-b8a9-d5d745174659",
   "metadata": {},
   "outputs": [],
   "source": [
    "#4. DB에 반영\n",
    "con.commit()"
   ]
  },
  {
   "cell_type": "code",
   "execution_count": 8,
   "id": "a46869a5-8bdf-435c-a2f3-f3025b114071",
   "metadata": {},
   "outputs": [],
   "source": [
    "#5. DB 연결 종료\n",
    "con.close()"
   ]
  }
 ],
 "metadata": {
  "kernelspec": {
   "display_name": "Python 3 (ipykernel)",
   "language": "python",
   "name": "python3"
  },
  "language_info": {
   "codemirror_mode": {
    "name": "ipython",
    "version": 3
   },
   "file_extension": ".py",
   "mimetype": "text/x-python",
   "name": "python",
   "nbconvert_exporter": "python",
   "pygments_lexer": "ipython3",
   "version": "3.11.7"
  }
 },
 "nbformat": 4,
 "nbformat_minor": 5
}
