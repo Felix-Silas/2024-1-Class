{
 "cells": [
  {
   "cell_type": "markdown",
   "id": "c9b1e863-2a78-42bf-b53e-8ab74cce5ca0",
   "metadata": {},
   "source": [
    "# 1. 기본 딕셔너리 관련 문제\n",
    "## 1-1. key가 book이고, value가 노인과 바다인 쌍을 추가하고 출력하시오.\n",
    "## 1-2. 이 딕셔너리 값들을 반복문으로 출력하시오."
   ]
  },
  {
   "cell_type": "code",
   "execution_count": 9,
   "id": "4cc3d383-7473-4e30-80ee-9fb1630f15fc",
   "metadata": {},
   "outputs": [
    {
     "data": {
      "text/plain": [
       "{'name': '김연주', 'age': 23, 'birth': '2002-08-22'}"
      ]
     },
     "execution_count": 9,
     "metadata": {},
     "output_type": "execute_result"
    }
   ],
   "source": [
    "dict = {'name': '김연주', 'age': 23, 'birth': '2002-08-22'}\n",
    "dict"
   ]
  },
  {
   "cell_type": "code",
   "execution_count": 10,
   "id": "df23d152-4c62-4716-85c3-e85e26de5184",
   "metadata": {},
   "outputs": [
    {
     "data": {
      "text/plain": [
       "{'name': '김연주', 'age': 23, 'birth': '2002-08-22', 'book': '노인과 바다'}"
      ]
     },
     "execution_count": 10,
     "metadata": {},
     "output_type": "execute_result"
    }
   ],
   "source": [
    "# 1-1\n",
    "dict.setdefault('book', '노인과 바다')\n",
    "dict"
   ]
  },
  {
   "cell_type": "code",
   "execution_count": 11,
   "id": "459759ef-0b98-4716-8013-3febec974483",
   "metadata": {},
   "outputs": [
    {
     "name": "stdout",
     "output_type": "stream",
     "text": [
      "김연주\n",
      "23\n",
      "2002-08-22\n",
      "노인과 바다\n"
     ]
    }
   ],
   "source": [
    "# 1-2\n",
    "for key, value in dict.items():\n",
    "    print(value)"
   ]
  },
  {
   "cell_type": "markdown",
   "id": "4654fecf-7d34-4ca7-b788-b73c621d4f68",
   "metadata": {},
   "source": [
    "# 2. seoul_csv 파일 관련 문제 \n",
    "## 2-1. header를 출력하시오.\n",
    "## 2-2. seoul의 최저 기온과 최저 기온에 해당하는 날짜를 출력하시오."
   ]
  },
  {
   "cell_type": "code",
   "execution_count": 7,
   "id": "908897b4-52e3-43b9-9840-e50d0e600853",
   "metadata": {},
   "outputs": [
    {
     "name": "stdout",
     "output_type": "stream",
     "text": [
      "['날짜', '지점', '평균기온(℃)', '최저기온(℃)', '최고기온(℃)']\n"
     ]
    }
   ],
   "source": [
    "# 2-1\n",
    "import csv\n",
    "\n",
    "f = open('seoul.csv')\n",
    "seoul = csv.reader(f)\n",
    "header_seoul = next(seoul)\n",
    "print(header_seoul)"
   ]
  },
  {
   "cell_type": "code",
   "execution_count": 8,
   "id": "329d98be-7c61-4cb8-84d8-0697c0ff163f",
   "metadata": {},
   "outputs": [
    {
     "name": "stdout",
     "output_type": "stream",
     "text": [
      "-23.1\n",
      "1927-12-31\n"
     ]
    }
   ],
   "source": [
    "# 2-2\n",
    "min_temp_seoul = 999\n",
    "\n",
    "for row in seoul:\n",
    "    row[0] = row[0].strip()\n",
    "    if row[-2] == '':\n",
    "        row[-2] = 999\n",
    "    row[-2] = float(row[-2])\n",
    "    if min_temp_seoul > row[-2]:\n",
    "        min_temp_seoul = row[-2]\n",
    "        min_date_seoul = row[0]\n",
    "\n",
    "print(min_temp_seoul)\n",
    "print(min_date_seoul)"
   ]
  },
  {
   "cell_type": "markdown",
   "id": "3f274f6b-c357-49ca-9c4c-4e053697a422",
   "metadata": {},
   "source": [
    "# 3. users.json 파일 관련 문제\n",
    "## 3-1. users을 아래 포맷으로 출력\n",
    "[{'id': 0, 'name': 'Hero'},\r\n",
    " {'id': 1, 'name': 'Dunn'},\r\n",
    " {'id': 2, 'name': 'Sue'},\r\n",
    " {'id': 3, 'name': 'Chi'},\r\n",
    " {'id': 4, 'name': 'Thor'},\r\n",
    " {'id': 5, 'name': 'Clive'},\r\n",
    " {'id': 6, 'name': 'Hicks'},\r\n",
    " {'id': 7, 'name': 'Devin'},\r\n",
    " {'id': 8, 'name': 'Kate'},\r\n",
    " {'id': 9, 'name': 'Klein'}]'Klein'}]"
   ]
  },
  {
   "cell_type": "code",
   "execution_count": null,
   "id": "21b093ec-9722-4bb5-8617-00272d7c29b5",
   "metadata": {},
   "outputs": [],
   "source": [
    "import json\n",
    "\n",
    "with open('users.json') as f:\n",
    "    users = json.load(f)"
   ]
  },
  {
   "cell_type": "code",
   "execution_count": null,
   "id": "c0f15951-c41a-4ee7-afa5-d88907026817",
   "metadata": {},
   "outputs": [],
   "source": []
  },
  {
   "cell_type": "code",
   "execution_count": null,
   "id": "037d02a0-b067-47c2-9e4d-7beb56b8344d",
   "metadata": {},
   "outputs": [],
   "source": []
  },
  {
   "cell_type": "code",
   "execution_count": null,
   "id": "33bdc52e-c83a-4d40-a2d5-dedfe4be3cc6",
   "metadata": {},
   "outputs": [],
   "source": []
  }
 ],
 "metadata": {
  "kernelspec": {
   "display_name": "Python 3 (ipykernel)",
   "language": "python",
   "name": "python3"
  },
  "language_info": {
   "codemirror_mode": {
    "name": "ipython",
    "version": 3
   },
   "file_extension": ".py",
   "mimetype": "text/x-python",
   "name": "python",
   "nbconvert_exporter": "python",
   "pygments_lexer": "ipython3",
   "version": "3.11.7"
  }
 },
 "nbformat": 4,
 "nbformat_minor": 5
}
