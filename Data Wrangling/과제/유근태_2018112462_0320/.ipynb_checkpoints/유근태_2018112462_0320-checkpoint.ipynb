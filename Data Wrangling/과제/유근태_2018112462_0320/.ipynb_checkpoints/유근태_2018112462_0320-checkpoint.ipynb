{
 "cells": [
  {
   "cell_type": "code",
   "execution_count": 92,
   "id": "33502ec8-d4c5-482f-80a1-b26d77ff1bdb",
   "metadata": {},
   "outputs": [],
   "source": [
    "import csv"
   ]
  },
  {
   "cell_type": "code",
   "execution_count": 102,
   "id": "e3c655e9-f339-4635-8024-88119bd0c675",
   "metadata": {},
   "outputs": [
    {
     "name": "stdout",
     "output_type": "stream",
     "text": [
      "['날짜', '지점', '평균기온(℃)', '최저기온(℃)', '최고기온(℃)']\n"
     ]
    }
   ],
   "source": [
    "f = open('seoul.csv') # f: file handler\n",
    "seoul = csv.reader(f) # data: csv reader object\n",
    "header_seoul = next(seoul)\n",
    "print(header_seoul) # retrieve the next item from the iterator"
   ]
  },
  {
   "cell_type": "code",
   "execution_count": 103,
   "id": "a381d13a-d968-4786-be71-186752e2ea46",
   "metadata": {},
   "outputs": [],
   "source": [
    "min_temp_seoul = 999.0"
   ]
  },
  {
   "cell_type": "code",
   "execution_count": 104,
   "id": "f8301bf7-d187-481b-a04d-2c7d5aaa2463",
   "metadata": {},
   "outputs": [],
   "source": [
    "for row in seoul: # -> iterate over lines\n",
    "    #row[0] = row[0][1:] 슬라이싱 활용해 \\t 삭제\n",
    "    row[0] = row[0].strip() # 공백 제거\n",
    "    if row[-2] == '':\n",
    "        row[-2] = 999.0\n",
    "    row[-2] = float(row[-2])\n",
    "    # print(row)\n",
    "    if min_temp_seoul > row[-2]:\n",
    "        min_date_seoul = row[0]\n",
    "        min_temp_seoul = row[-2]\n",
    "\n",
    "f.close()"
   ]
  },
  {
   "cell_type": "code",
   "execution_count": 105,
   "id": "d8546b37-3197-49d0-9c5d-32b1f3584c48",
   "metadata": {},
   "outputs": [
    {
     "name": "stdout",
     "output_type": "stream",
     "text": [
      "서울의 최저기온:  1927-12-31 -23.1\n"
     ]
    }
   ],
   "source": [
    "print('서울의 최저기온: ', min_date_seoul, min_temp_seoul)"
   ]
  },
  {
   "cell_type": "code",
   "execution_count": 106,
   "id": "1bb324ab-4a80-411c-b502-01a41d96e30e",
   "metadata": {},
   "outputs": [
    {
     "name": "stdout",
     "output_type": "stream",
     "text": [
      "['날짜', '지점', '평균기온(℃)', '최저기온(℃)', '최고기온(℃)']\n"
     ]
    }
   ],
   "source": [
    "f = open('incheon.csv') # f: file handler\n",
    "incheon = csv.reader(f) # data: csv reader object\n",
    "header_incheon = next(incheon)\n",
    "print(header_incheon) # retrieve the next item from the iterator\n",
    "# iterator만 들어갈 수 있다."
   ]
  },
  {
   "cell_type": "code",
   "execution_count": 107,
   "id": "43cbaa3f-83ff-4ece-81f4-aade784b72f0",
   "metadata": {},
   "outputs": [],
   "source": [
    "min_temp_incheon = 999.0"
   ]
  },
  {
   "cell_type": "code",
   "execution_count": 110,
   "id": "e760abd8-7de8-4934-ad17-a9ae0265f63f",
   "metadata": {},
   "outputs": [],
   "source": [
    "for row in incheon: # -> iterate over lines\n",
    "    #row[0] = row[0][1:] 슬라이싱 활용해 \\t 삭제\n",
    "    row[0] = row[0].strip() # 공백 제거\n",
    "    if row[-2] == '':\n",
    "        row[-2] = 999.0\n",
    "    row[-2] = float(row[-2])\n",
    "    # print(row)\n",
    "    if min_temp_incheon > row[-2]:\n",
    "        min_date_incheon = row[0]\n",
    "        min_temp_incheon = row[-2]\n",
    "\n",
    "f.close()"
   ]
  },
  {
   "cell_type": "code",
   "execution_count": 111,
   "id": "38977de7-48bb-4a9f-9aa5-d6a20875c49c",
   "metadata": {},
   "outputs": [
    {
     "name": "stdout",
     "output_type": "stream",
     "text": [
      "인천의 최저기온:  1931-01-11 -21.0\n"
     ]
    }
   ],
   "source": [
    "print('인천의 최저기온: ', min_date_incheon, min_temp_incheon)"
   ]
  },
  {
   "cell_type": "code",
   "execution_count": 112,
   "id": "14b4453a-74bb-48e7-9c57-35301b27e492",
   "metadata": {},
   "outputs": [
    {
     "name": "stdout",
     "output_type": "stream",
     "text": [
      "서울의 최저기온의 날짜는 1927-12-31 최저 기온은 -23.1\n",
      "인천의 최저기온의 날짜는 1931-01-11 최저 기온은 -21.0\n",
      "최저 기온은 서울이고, 날짜는 1927-12-31 , 기온은 -23.1 입니다.\n"
     ]
    }
   ],
   "source": [
    "print('서울의 최저기온의 날짜는', min_date_seoul, '최저 기온은', min_temp_seoul)\n",
    "print('인천의 최저기온의 날짜는', min_date_incheon, '최저 기온은', min_temp_incheon)\n",
    "print('최저 기온은 서울이고, 날짜는', min_date_seoul, ', 기온은', min_temp_seoul,'입니다.')"
   ]
  }
 ],
 "metadata": {
  "kernelspec": {
   "display_name": "Python 3 (ipykernel)",
   "language": "python",
   "name": "python3"
  },
  "language_info": {
   "codemirror_mode": {
    "name": "ipython",
    "version": 3
   },
   "file_extension": ".py",
   "mimetype": "text/x-python",
   "name": "python",
   "nbconvert_exporter": "python",
   "pygments_lexer": "ipython3",
   "version": "3.11.7"
  }
 },
 "nbformat": 4,
 "nbformat_minor": 5
}
