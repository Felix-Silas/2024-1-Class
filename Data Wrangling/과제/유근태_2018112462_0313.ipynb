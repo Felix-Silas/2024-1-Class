{
 "cells": [
  {
   "cell_type": "code",
   "execution_count": 8,
   "id": "d643dd9d-536b-46f8-b985-2e3d143be2a9",
   "metadata": {},
   "outputs": [
    {
     "data": {
      "text/plain": [
       "166833"
      ]
     },
     "execution_count": 8,
     "metadata": {},
     "output_type": "execute_result"
    }
   ],
   "source": [
    "# 1. (반복문) 1부터 1000까지의 자연수 중 3의 배수들의 합을 구하시오.\n",
    "sum = 0\n",
    "\n",
    "for i in range(1, 1001):\n",
    "    if i % 3 == 0:\n",
    "        sum += i\n",
    "\n",
    "sum"
   ]
  },
  {
   "cell_type": "code",
   "execution_count": 3,
   "id": "15b64410-2297-4d91-846d-01e1e979659f",
   "metadata": {},
   "outputs": [
    {
     "data": {
      "text/plain": [
       "[1, 2, 3, 4, 5, 6, 7, 8, 9, 10, 11, 12, 13, 14, 15, 16, 17, 18, 19, 20]"
      ]
     },
     "execution_count": 3,
     "metadata": {},
     "output_type": "execute_result"
    }
   ],
   "source": [
    "# 2-1. (list) 리스트에 1부터 20까지 정수를 반복문으로 저장하고 출력하시오.\n",
    "list = []\n",
    "\n",
    "for i in range(1, 21):\n",
    "    list.append(i)\n",
    "\n",
    "list"
   ]
  },
  {
   "cell_type": "code",
   "execution_count": 9,
   "id": "d9c8f960-5ad5-4710-904b-f3671753ec7d",
   "metadata": {},
   "outputs": [
    {
     "data": {
      "text/plain": [
       "[16, 17, 18, 19, 20]"
      ]
     },
     "execution_count": 9,
     "metadata": {},
     "output_type": "execute_result"
    }
   ],
   "source": [
    "# 2-2. List Slicing으로 뒤에서 5개만 리스트로 출력하시오.\n",
    "\n",
    "list[-5:]"
   ]
  },
  {
   "cell_type": "code",
   "execution_count": 10,
   "id": "7de4d092-21c7-4e51-8dbe-c011846a2969",
   "metadata": {},
   "outputs": [
    {
     "data": {
      "text/plain": [
       "[1, 2, 3, 4, 5, 6, 7, 8, 9, 10, 11, 12, 13, 14, 15, 16, 17, 18, 19, 20]"
      ]
     },
     "execution_count": 10,
     "metadata": {},
     "output_type": "execute_result"
    }
   ],
   "source": [
    "# 2-3. 2-1번 문제의 반복문을 동일하게 동작하는 List Comprehensions로 구현하시오.\n",
    "\n",
    "arr = [i for i in range(1, 21)]\n",
    "arr"
   ]
  },
  {
   "cell_type": "code",
   "execution_count": 14,
   "id": "94d4c57b-9539-46cc-83fa-c7bff4c6f043",
   "metadata": {},
   "outputs": [
    {
     "data": {
      "text/plain": [
       "{'name': '홍길동', 'birth': '1128', 'age': 30}"
      ]
     },
     "execution_count": 14,
     "metadata": {},
     "output_type": "execute_result"
    }
   ],
   "source": [
    "# 3-1. 딕셔너리로 만들고 출력하시오.\n",
    "\n",
    "dict = {'name': '홍길동', 'birth': '1128', 'age': 30}\n",
    "dict"
   ]
  },
  {
   "cell_type": "code",
   "execution_count": 15,
   "id": "7fc505a6-dfd2-445c-9e4f-01cb517be38d",
   "metadata": {},
   "outputs": [
    {
     "data": {
      "text/plain": [
       "{'name': '홍길동', 'birth': '1128', 'age': 30, 'book': '노인과 바다'}"
      ]
     },
     "execution_count": 15,
     "metadata": {},
     "output_type": "execute_result"
    }
   ],
   "source": [
    "# 3-2. 'book', '노인과 바다' 딕셔너리 쌍을 추가하고 출력하시오.\n",
    "dict.setdefault('book', '노인과 바다')\n",
    "dict"
   ]
  },
  {
   "cell_type": "code",
   "execution_count": 16,
   "id": "4535602f-5ff8-429a-ba9b-ad696baea804",
   "metadata": {},
   "outputs": [
    {
     "name": "stdout",
     "output_type": "stream",
     "text": [
      "홍길동\n",
      "1128\n",
      "30\n",
      "노인과 바다\n"
     ]
    }
   ],
   "source": [
    "# 3-3. 이 딕셔너리의 값들을 반복문으로 출력하시오,.\n",
    "\n",
    "for key, value in dict.items():\n",
    "    print(value)"
   ]
  }
 ],
 "metadata": {
  "kernelspec": {
   "display_name": "Python 3 (ipykernel)",
   "language": "python",
   "name": "python3"
  },
  "language_info": {
   "codemirror_mode": {
    "name": "ipython",
    "version": 3
   },
   "file_extension": ".py",
   "mimetype": "text/x-python",
   "name": "python",
   "nbconvert_exporter": "python",
   "pygments_lexer": "ipython3",
   "version": "3.11.7"
  }
 },
 "nbformat": 4,
 "nbformat_minor": 5
}
