{
 "cells": [
  {
   "cell_type": "code",
   "execution_count": 1,
   "id": "aa919ff0-d02f-4bd9-8226-cd7444ace172",
   "metadata": {},
   "outputs": [],
   "source": [
    "from csv import reader\n",
    "import pandas as pd"
   ]
  },
  {
   "cell_type": "code",
   "execution_count": null,
   "id": "77310bfa-4be5-4960-9b71-256778ba2ee5",
   "metadata": {},
   "outputs": [],
   "source": [
    "# 읽기\n",
    "data_rdr = reader(open('mn_cut100.csv', 'rt'))\n",
    "header_rdr = reader(open('mn_headers.csv', 'rt', encoding = 'utf8'))\n",
    "\n",
    "# list comprehension\n",
    "data_rows = [d for d in data_rdr]\n",
    "header_rows = [h for h in header_rdr]\n",
    "\n",
    "# 두 헤더의 길이 출력\n",
    "print(len(data_rows[0]))\n",
    "print(len(header_rows))"
   ]
  }
 ],
 "metadata": {
  "kernelspec": {
   "display_name": "Python 3 (ipykernel)",
   "language": "python",
   "name": "python3"
  },
  "language_info": {
   "codemirror_mode": {
    "name": "ipython",
    "version": 3
   },
   "file_extension": ".py",
   "mimetype": "text/x-python",
   "name": "python",
   "nbconvert_exporter": "python",
   "pygments_lexer": "ipython3",
   "version": "3.11.7"
  }
 },
 "nbformat": 4,
 "nbformat_minor": 5
}
