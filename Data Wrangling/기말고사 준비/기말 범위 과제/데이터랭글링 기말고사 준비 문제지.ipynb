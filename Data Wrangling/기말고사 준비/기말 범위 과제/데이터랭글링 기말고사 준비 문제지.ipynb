{
  "nbformat": 4,
  "nbformat_minor": 0,
  "metadata": {
    "colab": {
      "provenance": [],
      "gpuType": "T4",
      "toc_visible": true
    },
    "kernelspec": {
      "name": "python3",
      "display_name": "Python 3"
    },
    "language_info": {
      "name": "python"
    },
    "accelerator": "GPU"
  },
  "cells": [
    {
      "cell_type": "markdown",
      "source": [
        "# 5/1 축약된 두문자 헤더 교체하기"
      ],
      "metadata": {
        "id": "LN1bzYAlga5j"
      }
    },
    {
      "cell_type": "markdown",
      "source": [
        "## data01.csv 파일의 축약된 두문자 헤더에 대한 설명을 추가한 csv 데이터 파일을 만드시오.\n",
        "\n",
        "### 출력해야할 내용\n",
        "### 1. data01과 header01의 교집합 헤더 개수는?\n",
        "### 2. data01과 header01의 교집합에 들어 있지 않는 data01의 헤더명은? 이를 mismatch 헤더라고 하자.\n",
        "### 3. mismatch 헤더 중 header02에 들어있어 추가할 수 있는 헤더 개수는?\n",
        "### 4. 최종적으로 전처리된 데이터 파일의 헤더 개수는?\n",
        "\n",
        "\n",
        "#### data01.csv: 축약된 두문자 헤더를 포함하는 데이터 파일\n",
        "#### header01.csv: 데이터 파일의 거의 대부분 헤더 설명이 있는 파일\n",
        "#### header02.csv: header01.csv에는 없는 몇몇 헤더 설명이 있는 파일\n",
        "\n",
        "\n"
      ],
      "metadata": {
        "id": "s0BYwdQgg1l8"
      }
    },
    {
      "cell_type": "code",
      "execution_count": null,
      "metadata": {
        "id": "_hCK5gpU3qlm"
      },
      "outputs": [],
      "source": []
    },
    {
      "cell_type": "code",
      "source": [],
      "metadata": {
        "id": "hdIEjJn_3xAb"
      },
      "execution_count": null,
      "outputs": []
    },
    {
      "cell_type": "code",
      "source": [],
      "metadata": {
        "id": "0mb6zKVngZTH"
      },
      "execution_count": null,
      "outputs": []
    },
    {
      "cell_type": "code",
      "source": [],
      "metadata": {
        "id": "aez4d0VggZVU"
      },
      "execution_count": null,
      "outputs": []
    },
    {
      "cell_type": "code",
      "source": [],
      "metadata": {
        "id": "GEbdo3B1gerP"
      },
      "execution_count": null,
      "outputs": []
    },
    {
      "cell_type": "markdown",
      "source": [
        "# 5/8 누락 데이터를 평가 및 처리"
      ],
      "metadata": {
        "id": "9jeDoeSngfFW"
      }
    },
    {
      "cell_type": "markdown",
      "source": [
        "## 1. 타이나닉호에서 승선한 도시를 나타내는 embark_town 열에서 누락 데이터가 있는지 평가하여 있는지 평가하여 있으면 그 개수를 출력하시오."
      ],
      "metadata": {
        "id": "fMDtCeHehoD3"
      }
    },
    {
      "cell_type": "code",
      "source": [],
      "metadata": {
        "id": "qCIepw8BgZXc"
      },
      "execution_count": null,
      "outputs": []
    },
    {
      "cell_type": "markdown",
      "source": [
        "## 2. 누락 데이터 중 앞에서부터 발견한 첫 번째 누락 데이터에 대해 그 앞뒤 2개씩 총 5개의 승선도시를 출력하시오."
      ],
      "metadata": {
        "id": "po3jwdR1hpm3"
      }
    },
    {
      "cell_type": "code",
      "source": [],
      "metadata": {
        "id": "4DryOE-637-g"
      },
      "execution_count": null,
      "outputs": []
    },
    {
      "cell_type": "markdown",
      "source": [
        "## 3. 승선 도시 중 가장 많이 승선한 도시를 찾아서 출력하시오."
      ],
      "metadata": {
        "id": "PDW1hkyRhu36"
      }
    },
    {
      "cell_type": "code",
      "source": [],
      "metadata": {
        "id": "q9vbFWrm4cFj"
      },
      "execution_count": null,
      "outputs": []
    },
    {
      "cell_type": "markdown",
      "source": [
        "## 4. 승선도시 최빈값으로 모든 누락 데이터를 대체하고, 앞의 5개 데이터를 다시 출력하시오."
      ],
      "metadata": {
        "id": "xuapNX9-hxUE"
      }
    },
    {
      "cell_type": "code",
      "source": [],
      "metadata": {
        "id": "BKE98YUkggaN"
      },
      "execution_count": null,
      "outputs": []
    },
    {
      "cell_type": "code",
      "source": [],
      "metadata": {
        "id": "OpmvFxF4ggcU"
      },
      "execution_count": null,
      "outputs": []
    },
    {
      "cell_type": "markdown",
      "source": [
        "# 5/15 이상치 추출 자동화 코드\n",
        "## 파일을 데이터프레임으로 읽고, 데이터형이 float64인 열들에 대해 이상치 평가를 하여 이상치가 존재하는 열이 있으면, 아래 titanic 예시와 같이 열이름을 출력하도록 자동화 코드를 작성하시오.\n",
        "## 이상치 평가는 평균에서 +- 표준편차 밖에 있는 값으로 계산한다.\n",
        "### ex) titanic = age outlier: OK 이런 식으로 해서 age, fare\n",
        "### ex) iris = sepal_width outlier: OK"
      ],
      "metadata": {
        "id": "Tp4iIZ6jgg1T"
      }
    },
    {
      "cell_type": "code",
      "source": [],
      "metadata": {
        "id": "Yrk7ndimggeh"
      },
      "execution_count": null,
      "outputs": []
    },
    {
      "cell_type": "code",
      "source": [],
      "metadata": {
        "id": "jHu2qnJHi31e"
      },
      "execution_count": null,
      "outputs": []
    },
    {
      "cell_type": "markdown",
      "source": [
        "# 5/22 Web Scraping\n",
        "## 옥션 ebay쇼핑 웹페이지에서 베스트핫딜 상품을 크롤링하여 해당 상품의 제품명과 가격을 웹스크래핑으로 20개 상품만 수집하고 데이터프레임으로 만들어 출력하시오.\n",
        "\n",
        "### http://ebay.auction.co.kr/plan/hotdeal"
      ],
      "metadata": {
        "id": "cJBTK6msi38J"
      }
    },
    {
      "cell_type": "code",
      "source": [],
      "metadata": {
        "id": "2-5RpYbajIki"
      },
      "execution_count": null,
      "outputs": []
    },
    {
      "cell_type": "code",
      "source": [],
      "metadata": {
        "id": "5_pZx0u8jPQW"
      },
      "execution_count": null,
      "outputs": []
    },
    {
      "cell_type": "markdown",
      "source": [
        "# 5/29 데이터 전처리"
      ],
      "metadata": {
        "id": "LT-i-SH_jPWW"
      }
    },
    {
      "cell_type": "markdown",
      "source": [
        "## sibsp와 parch 열은 각각 형제자매와 부모자식이 몇 명 있는지에 대한 답변이다. 이 두 개의 변수를 통해 가족이 있는가라는 질문에 대한 답을 알고 싶다면 차원 축소가 가능한 사례인가?\n",
        "### seaborn에서 제공하는 titanic 사용\n"
      ],
      "metadata": {
        "id": "Va0qNRUBjRT-"
      }
    },
    {
      "cell_type": "code",
      "source": [],
      "metadata": {
        "id": "UGI5oDdVjQvn"
      },
      "execution_count": null,
      "outputs": []
    },
    {
      "cell_type": "markdown",
      "source": [
        "## 가족 family라는 변수 하나로 feature extraction하고, 위 2개의 변수를 삭제한 후 그 데이터프레임을 출력하시오. 단, family 변수는 가족이 있으면 1, 없으면 0으로 값을 가지도록 구현합니다.\n",
        "### seaborn에서 제공하는 titanic 사용\n"
      ],
      "metadata": {
        "id": "B0WSthPjjmH9"
      }
    },
    {
      "cell_type": "code",
      "source": [],
      "metadata": {
        "id": "dWhal0U1jmNF"
      },
      "execution_count": null,
      "outputs": []
    },
    {
      "cell_type": "markdown",
      "source": [
        "## 시각화를 통해 정규성 검정하여 해당 feature가 정규분포에 가까움을 시각화하여 보여주고, 해당 feature를 표준화하여 변경하고 그 데이터프레임을 출력하시오."
      ],
      "metadata": {
        "id": "J2p7WCwmjzo9"
      }
    },
    {
      "cell_type": "code",
      "source": [],
      "metadata": {
        "id": "lPNhdXnej7VI"
      },
      "execution_count": null,
      "outputs": []
    },
    {
      "cell_type": "code",
      "source": [],
      "metadata": {
        "id": "aTH0t75okAyB"
      },
      "execution_count": null,
      "outputs": []
    },
    {
      "cell_type": "markdown",
      "source": [
        "# 6/5 구간 분할"
      ],
      "metadata": {
        "id": "EF5cGbXckAZd"
      }
    },
    {
      "cell_type": "markdown",
      "source": [
        "## fare 변수의 최소값, 25%, 50%, 75% 사분위값 및 최대값을 경계로 4개 구간으로 분할하고, 구간 분할된 변수명을 fare_abce라고 한다. fare와 fare_abcd만 2개 열에 대해 앞에서 10개 행 출력한다.\n",
        "## 단, 구간별 라벨은 비싼 요금부터 A, B, C, D로 하자\n",
        "### seaborn에서 제공하는 titanic 데이터셋 fare 변수에 대해"
      ],
      "metadata": {
        "id": "8Q8eO6LhkH2-"
      }
    },
    {
      "cell_type": "code",
      "source": [],
      "metadata": {
        "id": "XRgdKto2kBPn"
      },
      "execution_count": null,
      "outputs": []
    },
    {
      "cell_type": "markdown",
      "source": [
        "## 범주형 변수 fare_abcd에 대해 더미 변수를 만들고, 이들 4개 더미변수들에 대해서만 앞에서부터 10개 행을 출력하시오."
      ],
      "metadata": {
        "id": "AsiDnwkdkdQs"
      }
    },
    {
      "cell_type": "code",
      "source": [],
      "metadata": {
        "id": "r4pIdHbRkBTe"
      },
      "execution_count": null,
      "outputs": []
    },
    {
      "cell_type": "code",
      "source": [],
      "metadata": {
        "id": "BHxCah_EkBVX"
      },
      "execution_count": null,
      "outputs": []
    }
  ]
}