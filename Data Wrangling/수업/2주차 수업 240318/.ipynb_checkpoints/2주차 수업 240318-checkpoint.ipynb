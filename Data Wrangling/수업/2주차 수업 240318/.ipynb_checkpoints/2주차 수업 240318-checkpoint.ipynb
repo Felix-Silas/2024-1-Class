{
 "cells": [
  {
   "cell_type": "code",
   "execution_count": 33,
   "id": "add60970",
   "metadata": {},
   "outputs": [],
   "source": [
    "import csv"
   ]
  },
  {
   "cell_type": "code",
   "execution_count": 84,
   "id": "5586f30f",
   "metadata": {},
   "outputs": [
    {
     "name": "stdout",
     "output_type": "stream",
     "text": [
      "['날짜', '지점', '평균기온(℃)', '최저기온(℃)', '최고기온(℃)']\n"
     ]
    }
   ],
   "source": [
    "f = open('seoul.csv') # f: file handler\n",
    "data = csv.reader(f) # data: csv reader object\n",
    "header = next(data)\n",
    "print(header) # retrieve the next item from the iterator\n",
    "# iterator만 들어갈 수 있다."
   ]
  },
  {
   "cell_type": "code",
   "execution_count": 85,
   "id": "0f1251bf",
   "metadata": {},
   "outputs": [],
   "source": [
    "max_temp = -999.0"
   ]
  },
  {
   "cell_type": "code",
   "execution_count": 86,
   "id": "6b57efcf",
   "metadata": {},
   "outputs": [],
   "source": [
    "for row in data: # -> iterate over lines\n",
    "    #row[0] = row[0][1:] 슬라이싱 활용해 \\t 삭제\n",
    "    row[0] = row[0].strip() # 공백 제거\n",
    "    if row[-1] == '':\n",
    "        row[-1] = -999.0\n",
    "    row[-1] = float(row[-1])\n",
    "    # print(row)\n",
    "    if max_temp < row[-1]:\n",
    "        max_date = row[0]\n",
    "        max_temp = row[-1]\n",
    "\n",
    "f.close()"
   ]
  },
  {
   "cell_type": "code",
   "execution_count": 87,
   "id": "077806ea",
   "metadata": {},
   "outputs": [
    {
     "name": "stdout",
     "output_type": "stream",
     "text": [
      "서울의 최고기온:  2018-08-01 39.6\n"
     ]
    }
   ],
   "source": [
    "print('서울의 최고기온: ', max_date, max_temp)"
   ]
  },
  {
   "cell_type": "code",
   "execution_count": 36,
   "id": "65cac7f9",
   "metadata": {},
   "outputs": [
    {
     "data": {
      "text/plain": [
       "list"
      ]
     },
     "execution_count": 36,
     "metadata": {},
     "output_type": "execute_result"
    }
   ],
   "source": [
    "type(row)"
   ]
  },
  {
   "cell_type": "code",
   "execution_count": 37,
   "id": "eeec85b3",
   "metadata": {},
   "outputs": [
    {
     "data": {
      "text/plain": [
       "_csv.reader"
      ]
     },
     "execution_count": 37,
     "metadata": {},
     "output_type": "execute_result"
    }
   ],
   "source": [
    "type(data)"
   ]
  },
  {
   "cell_type": "code",
   "execution_count": 38,
   "id": "825b2ea2",
   "metadata": {},
   "outputs": [
    {
     "data": {
      "text/plain": [
       "['__class__',\n",
       " '__delattr__',\n",
       " '__dir__',\n",
       " '__doc__',\n",
       " '__eq__',\n",
       " '__format__',\n",
       " '__ge__',\n",
       " '__getattribute__',\n",
       " '__gt__',\n",
       " '__hash__',\n",
       " '__init__',\n",
       " '__init_subclass__',\n",
       " '__iter__',\n",
       " '__le__',\n",
       " '__lt__',\n",
       " '__module__',\n",
       " '__ne__',\n",
       " '__new__',\n",
       " '__next__',\n",
       " '__reduce__',\n",
       " '__reduce_ex__',\n",
       " '__repr__',\n",
       " '__setattr__',\n",
       " '__sizeof__',\n",
       " '__str__',\n",
       " '__subclasshook__',\n",
       " 'dialect',\n",
       " 'line_num']"
      ]
     },
     "execution_count": 38,
     "metadata": {},
     "output_type": "execute_result"
    }
   ],
   "source": [
    "dir(data)"
   ]
  },
  {
   "cell_type": "code",
   "execution_count": null,
   "id": "5305d473",
   "metadata": {},
   "outputs": [],
   "source": []
  }
 ],
 "metadata": {
  "kernelspec": {
   "display_name": "Python 3 (ipykernel)",
   "language": "python",
   "name": "python3"
  },
  "language_info": {
   "codemirror_mode": {
    "name": "ipython",
    "version": 3
   },
   "file_extension": ".py",
   "mimetype": "text/x-python",
   "name": "python",
   "nbconvert_exporter": "python",
   "pygments_lexer": "ipython3",
   "version": "3.10.9"
  }
 },
 "nbformat": 4,
 "nbformat_minor": 5
}
