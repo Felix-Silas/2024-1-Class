{
  "cells": [
    {
      "cell_type": "code",
      "execution_count": 1,
      "id": "0167a147-a409-42a3-a556-6c6cb1dd59be",
      "metadata": {
        "id": "0167a147-a409-42a3-a556-6c6cb1dd59be"
      },
      "outputs": [],
      "source": [
        "import numpy as np\n",
        "import pandas as pd"
      ]
    },
    {
      "cell_type": "code",
      "execution_count": null,
      "id": "50ce4d21-2ca1-44b1-b52d-a924666de5e7",
      "metadata": {
        "id": "50ce4d21-2ca1-44b1-b52d-a924666de5e7",
        "outputId": "40259010-ddea-4267-ac41-8b4369b56070"
      },
      "outputs": [
        {
          "name": "stdout",
          "output_type": "stream",
          "text": [
            "9.0 1.2\n",
            "3.5 2.6331223544175333\n"
          ]
        }
      ],
      "source": [
        "sr = pd.Series([1.2, 1.5, 2.4, 2.8, np.nan, 3.5, 4.1, 9.0])\n",
        "\n",
        "print(sr.max(), sr.min())\n",
        "print(sr.mean(), sr.std())"
      ]
    },
    {
      "cell_type": "code",
      "execution_count": null,
      "id": "36661b83-1982-4e58-8104-39c2b9fb5dca",
      "metadata": {
        "id": "36661b83-1982-4e58-8104-39c2b9fb5dca",
        "outputId": "7d07da08-1c0f-420d-90b5-1d0cfc063620"
      },
      "outputs": [
        {
          "name": "stdout",
          "output_type": "stream",
          "text": [
            "-1.7662447088350666\n",
            "6.133122354417534\n"
          ]
        }
      ],
      "source": [
        "delta = 2\n",
        "bottom = sr.mean() - delta * sr.std()\n",
        "top = sr.mean() + sr.std()\n",
        "\n",
        "print(bottom)\n",
        "print(top)"
      ]
    },
    {
      "cell_type": "code",
      "execution_count": null,
      "id": "93c1d2ea-b42b-4b72-b245-c33d61948cad",
      "metadata": {
        "id": "93c1d2ea-b42b-4b72-b245-c33d61948cad",
        "outputId": "a2d4c3c1-bd98-4445-c644-60d356246607"
      },
      "outputs": [
        {
          "name": "stdout",
          "output_type": "stream",
          "text": [
            "outlier:\n",
            "9.0\n"
          ]
        }
      ],
      "source": [
        "print('outlier:')\n",
        "\n",
        "for val in sr:\n",
        "    if val < bottom:\n",
        "        print(val)\n",
        "    elif val > top:\n",
        "        print(val)"
      ]
    },
    {
      "cell_type": "markdown",
      "id": "4db7c417-13b0-43d7-8a17-bc529d5dd481",
      "metadata": {
        "id": "4db7c417-13b0-43d7-8a17-bc529d5dd481"
      },
      "source": [
        "# # NaN은 다루 수와의 연산 결과도 NaN, 비교연산은 !=을 제외하고 False"
      ]
    },
    {
      "cell_type": "code",
      "execution_count": null,
      "id": "fe016076-2bca-43f2-a385-b0be5c949ca1",
      "metadata": {
        "id": "fe016076-2bca-43f2-a385-b0be5c949ca1",
        "outputId": "b73608db-dfe0-4f53-f317-5af8f78f171b"
      },
      "outputs": [
        {
          "data": {
            "text/plain": [
              "False"
            ]
          },
          "execution_count": 6,
          "metadata": {},
          "output_type": "execute_result"
        }
      ],
      "source": [
        "np.nan > 10"
      ]
    },
    {
      "cell_type": "code",
      "execution_count": null,
      "id": "d04582c8-921e-4ad7-982b-623949107844",
      "metadata": {
        "id": "d04582c8-921e-4ad7-982b-623949107844",
        "outputId": "f20a18b9-698a-4802-81db-44fd2b881979"
      },
      "outputs": [
        {
          "data": {
            "text/plain": [
              "True"
            ]
          },
          "execution_count": 7,
          "metadata": {},
          "output_type": "execute_result"
        }
      ],
      "source": [
        "10 != np.nan"
      ]
    },
    {
      "cell_type": "code",
      "execution_count": null,
      "id": "753b9005-0bc1-44a8-9d39-b2ca4a5f0060",
      "metadata": {
        "id": "753b9005-0bc1-44a8-9d39-b2ca4a5f0060"
      },
      "outputs": [],
      "source": [
        "# df.info()\n",
        "# df.columns\n",
        "# df.dtype\n",
        "# de.describe()"
      ]
    },
    {
      "cell_type": "code",
      "execution_count": null,
      "id": "9a6e9b51-dbea-4afc-901a-733804d88630",
      "metadata": {
        "id": "9a6e9b51-dbea-4afc-901a-733804d88630"
      },
      "outputs": [],
      "source": [
        "# IQR법을 해서 이상치 판단하는 거 해보기\n"
      ]
    },
    {
      "cell_type": "code",
      "execution_count": null,
      "id": "0282ccad-f634-4b69-8fa9-9fabcd1d78cd",
      "metadata": {
        "id": "0282ccad-f634-4b69-8fa9-9fabcd1d78cd",
        "outputId": "f2ca5abd-7d7b-4472-b85a-5c5634f811d3"
      },
      "outputs": [
        {
          "data": {
            "text/html": [
              "<div>\n",
              "<style scoped>\n",
              "    .dataframe tbody tr th:only-of-type {\n",
              "        vertical-align: middle;\n",
              "    }\n",
              "\n",
              "    .dataframe tbody tr th {\n",
              "        vertical-align: top;\n",
              "    }\n",
              "\n",
              "    .dataframe thead th {\n",
              "        text-align: right;\n",
              "    }\n",
              "</style>\n",
              "<table border=\"1\" class=\"dataframe\">\n",
              "  <thead>\n",
              "    <tr style=\"text-align: right;\">\n",
              "      <th></th>\n",
              "      <th>c1</th>\n",
              "      <th>c2</th>\n",
              "      <th>c3</th>\n",
              "    </tr>\n",
              "  </thead>\n",
              "  <tbody>\n",
              "    <tr>\n",
              "      <th>0</th>\n",
              "      <td>a</td>\n",
              "      <td>1</td>\n",
              "      <td>1</td>\n",
              "    </tr>\n",
              "    <tr>\n",
              "      <th>1</th>\n",
              "      <td>a</td>\n",
              "      <td>1</td>\n",
              "      <td>1</td>\n",
              "    </tr>\n",
              "    <tr>\n",
              "      <th>2</th>\n",
              "      <td>b</td>\n",
              "      <td>1</td>\n",
              "      <td>2</td>\n",
              "    </tr>\n",
              "    <tr>\n",
              "      <th>3</th>\n",
              "      <td>a</td>\n",
              "      <td>2</td>\n",
              "      <td>2</td>\n",
              "    </tr>\n",
              "    <tr>\n",
              "      <th>4</th>\n",
              "      <td>b</td>\n",
              "      <td>2</td>\n",
              "      <td>2</td>\n",
              "    </tr>\n",
              "  </tbody>\n",
              "</table>\n",
              "</div>"
            ],
            "text/plain": [
              "  c1  c2  c3\n",
              "0  a   1   1\n",
              "1  a   1   1\n",
              "2  b   1   2\n",
              "3  a   2   2\n",
              "4  b   2   2"
            ]
          },
          "execution_count": 8,
          "metadata": {},
          "output_type": "execute_result"
        }
      ],
      "source": [
        "df = pd.DataFrame({'c1': ['a', 'a', 'b', 'a', 'b'],\n",
        "                  'c2': [1, 1, 1, 2, 2],\n",
        "                  'c3': [1, 1, 2, 2, 2]})\n",
        "df"
      ]
    },
    {
      "cell_type": "code",
      "execution_count": null,
      "id": "2d14cecc-15b8-478e-80fc-266889d35799",
      "metadata": {
        "id": "2d14cecc-15b8-478e-80fc-266889d35799",
        "outputId": "d8df6150-c71f-44eb-f378-a3d1e13ebfc8"
      },
      "outputs": [
        {
          "data": {
            "text/plain": [
              "0    False\n",
              "1     True\n",
              "2    False\n",
              "3    False\n",
              "4    False\n",
              "dtype: bool"
            ]
          },
          "execution_count": 9,
          "metadata": {},
          "output_type": "execute_result"
        }
      ],
      "source": [
        "df_dup = df.duplicated()\n",
        "df_dup"
      ]
    },
    {
      "cell_type": "code",
      "execution_count": null,
      "id": "78e33420-ac8b-407a-a2b9-f8bb28b4c585",
      "metadata": {
        "id": "78e33420-ac8b-407a-a2b9-f8bb28b4c585",
        "outputId": "45bbf4e9-12af-4a6f-e619-0fe8cadcf754"
      },
      "outputs": [
        {
          "data": {
            "text/plain": [
              "0    False\n",
              "1     True\n",
              "2    False\n",
              "3    False\n",
              "4    False\n",
              "dtype: bool"
            ]
          },
          "execution_count": 12,
          "metadata": {},
          "output_type": "execute_result"
        }
      ],
      "source": [
        "df.duplicated(keep = 'first')"
      ]
    },
    {
      "cell_type": "code",
      "execution_count": null,
      "id": "67e81b08-9476-499c-af6c-a462c0ec6203",
      "metadata": {
        "id": "67e81b08-9476-499c-af6c-a462c0ec6203",
        "outputId": "425fd9a1-e289-402f-a630-d12ca3feb50c"
      },
      "outputs": [
        {
          "data": {
            "text/plain": [
              "0     True\n",
              "1     True\n",
              "2    False\n",
              "3    False\n",
              "4    False\n",
              "dtype: bool"
            ]
          },
          "execution_count": 14,
          "metadata": {},
          "output_type": "execute_result"
        }
      ],
      "source": [
        "df.duplicated(keep = False)"
      ]
    },
    {
      "cell_type": "code",
      "execution_count": null,
      "id": "3bb97d5c-4635-4550-ae7c-19d723069b16",
      "metadata": {
        "id": "3bb97d5c-4635-4550-ae7c-19d723069b16",
        "outputId": "47056f4e-7a33-4468-89b9-468d1ebd5ddf"
      },
      "outputs": [
        {
          "data": {
            "text/html": [
              "<div>\n",
              "<style scoped>\n",
              "    .dataframe tbody tr th:only-of-type {\n",
              "        vertical-align: middle;\n",
              "    }\n",
              "\n",
              "    .dataframe tbody tr th {\n",
              "        vertical-align: top;\n",
              "    }\n",
              "\n",
              "    .dataframe thead th {\n",
              "        text-align: right;\n",
              "    }\n",
              "</style>\n",
              "<table border=\"1\" class=\"dataframe\">\n",
              "  <thead>\n",
              "    <tr style=\"text-align: right;\">\n",
              "      <th></th>\n",
              "      <th>c1</th>\n",
              "      <th>c2</th>\n",
              "      <th>c3</th>\n",
              "    </tr>\n",
              "  </thead>\n",
              "  <tbody>\n",
              "    <tr>\n",
              "      <th>0</th>\n",
              "      <td>a</td>\n",
              "      <td>1</td>\n",
              "      <td>1</td>\n",
              "    </tr>\n",
              "    <tr>\n",
              "      <th>2</th>\n",
              "      <td>b</td>\n",
              "      <td>1</td>\n",
              "      <td>2</td>\n",
              "    </tr>\n",
              "    <tr>\n",
              "      <th>3</th>\n",
              "      <td>a</td>\n",
              "      <td>2</td>\n",
              "      <td>2</td>\n",
              "    </tr>\n",
              "    <tr>\n",
              "      <th>4</th>\n",
              "      <td>b</td>\n",
              "      <td>2</td>\n",
              "      <td>2</td>\n",
              "    </tr>\n",
              "  </tbody>\n",
              "</table>\n",
              "</div>"
            ],
            "text/plain": [
              "  c1  c2  c3\n",
              "0  a   1   1\n",
              "2  b   1   2\n",
              "3  a   2   2\n",
              "4  b   2   2"
            ]
          },
          "execution_count": 10,
          "metadata": {},
          "output_type": "execute_result"
        }
      ],
      "source": [
        "df_clean = df.drop_duplicates()\n",
        "df_clean"
      ]
    },
    {
      "cell_type": "code",
      "execution_count": null,
      "id": "97e3ece3-fa34-4667-912b-23dd97d67235",
      "metadata": {
        "id": "97e3ece3-fa34-4667-912b-23dd97d67235",
        "outputId": "2e9c4e9e-8265-4726-bbf8-70ac23035895"
      },
      "outputs": [
        {
          "data": {
            "text/html": [
              "<div>\n",
              "<style scoped>\n",
              "    .dataframe tbody tr th:only-of-type {\n",
              "        vertical-align: middle;\n",
              "    }\n",
              "\n",
              "    .dataframe tbody tr th {\n",
              "        vertical-align: top;\n",
              "    }\n",
              "\n",
              "    .dataframe thead th {\n",
              "        text-align: right;\n",
              "    }\n",
              "</style>\n",
              "<table border=\"1\" class=\"dataframe\">\n",
              "  <thead>\n",
              "    <tr style=\"text-align: right;\">\n",
              "      <th></th>\n",
              "      <th>c1</th>\n",
              "      <th>c2</th>\n",
              "      <th>c3</th>\n",
              "    </tr>\n",
              "  </thead>\n",
              "  <tbody>\n",
              "    <tr>\n",
              "      <th>0</th>\n",
              "      <td>a</td>\n",
              "      <td>1</td>\n",
              "      <td>1</td>\n",
              "    </tr>\n",
              "    <tr>\n",
              "      <th>2</th>\n",
              "      <td>b</td>\n",
              "      <td>1</td>\n",
              "      <td>2</td>\n",
              "    </tr>\n",
              "    <tr>\n",
              "      <th>3</th>\n",
              "      <td>a</td>\n",
              "      <td>2</td>\n",
              "      <td>2</td>\n",
              "    </tr>\n",
              "  </tbody>\n",
              "</table>\n",
              "</div>"
            ],
            "text/plain": [
              "  c1  c2  c3\n",
              "0  a   1   1\n",
              "2  b   1   2\n",
              "3  a   2   2"
            ]
          },
          "execution_count": 11,
          "metadata": {},
          "output_type": "execute_result"
        }
      ],
      "source": [
        "df2 = df.drop_duplicates(subset = ['c2', 'c3'])\n",
        "df2"
      ]
    },
    {
      "cell_type": "code",
      "source": [
        "!pip3 install fuzzywuzzy"
      ],
      "metadata": {
        "colab": {
          "base_uri": "https://localhost:8080/"
        },
        "id": "IMOp85Ef_Gs0",
        "outputId": "86ec00af-d379-432d-818f-041ae02657ef"
      },
      "id": "IMOp85Ef_Gs0",
      "execution_count": 3,
      "outputs": [
        {
          "output_type": "stream",
          "name": "stdout",
          "text": [
            "Collecting fuzzywuzzy\n",
            "  Downloading fuzzywuzzy-0.18.0-py2.py3-none-any.whl (18 kB)\n",
            "Installing collected packages: fuzzywuzzy\n",
            "Successfully installed fuzzywuzzy-0.18.0\n"
          ]
        }
      ]
    },
    {
      "cell_type": "code",
      "source": [
        "from fuzzywuzzy import fuzz"
      ],
      "metadata": {
        "colab": {
          "base_uri": "https://localhost:8080/"
        },
        "id": "at9_2SKP_DGu",
        "outputId": "650944cf-a880-4cab-b5ae-8e0f08823895"
      },
      "id": "at9_2SKP_DGu",
      "execution_count": 4,
      "outputs": [
        {
          "output_type": "stream",
          "name": "stderr",
          "text": [
            "/usr/local/lib/python3.10/dist-packages/fuzzywuzzy/fuzz.py:11: UserWarning: Using slow pure-python SequenceMatcher. Install python-Levenshtein to remove this warning\n",
            "  warnings.warn('Using slow pure-python SequenceMatcher. Install python-Levenshtein to remove this warning')\n"
          ]
        }
      ]
    },
    {
      "cell_type": "code",
      "source": [
        "my_records = [{'favorite_book': 'Grapes of Wrath',\n",
        "               'favorite_movie': 'Free Willie',},\n",
        "              {'favorite_book': 'The Grapes of Wrath',\n",
        "               'favorite_movie': 'Free Willy',}]"
      ],
      "metadata": {
        "id": "ST2g9nrx_DJU"
      },
      "id": "ST2g9nrx_DJU",
      "execution_count": 7,
      "outputs": []
    },
    {
      "cell_type": "code",
      "source": [
        "print(fuzz.ratio(my_records[0].get('favorite_book'), my_records[1].get('favorite_book')))\n",
        "print(fuzz.ratio(my_records[0].get('favorite_movie'), my_records[1].get('favorite_movie')))"
      ],
      "metadata": {
        "colab": {
          "base_uri": "https://localhost:8080/"
        },
        "id": "0HZtpJk8_DLV",
        "outputId": "42f1e501-6817-4dcb-c6c8-8ca24d6462c2"
      },
      "id": "0HZtpJk8_DLV",
      "execution_count": 10,
      "outputs": [
        {
          "output_type": "stream",
          "name": "stdout",
          "text": [
            "88\n",
            "86\n"
          ]
        }
      ]
    },
    {
      "cell_type": "code",
      "source": [
        "print(fuzz.partial_ratio(my_records[0].get('favorite_book'), my_records[1].get('favorite_book')))\n",
        "print(fuzz.partial_ratio(my_records[0].get('favorite_movie'), my_records[1].get('favorite_movie')))"
      ],
      "metadata": {
        "colab": {
          "base_uri": "https://localhost:8080/"
        },
        "id": "8O1fc0AE_DNk",
        "outputId": "340aeda7-41fb-4d46-c921-d5cecbb77493"
      },
      "id": "8O1fc0AE_DNk",
      "execution_count": 11,
      "outputs": [
        {
          "output_type": "stream",
          "name": "stdout",
          "text": [
            "100\n",
            "90\n"
          ]
        }
      ]
    },
    {
      "cell_type": "code",
      "source": [
        "my_records = [{'favorite_food': 'cheeseburgers with bacon',\n",
        "               'favorite_drink': 'wine, beer, and tequila',},\n",
        "              {'favorite_food': 'burgers with cheese and bacon',\n",
        "               'favorite_drink': 'beer, wine, and tequila',}]"
      ],
      "metadata": {
        "id": "AXE6rBPgAI6p"
      },
      "id": "AXE6rBPgAI6p",
      "execution_count": 12,
      "outputs": []
    },
    {
      "cell_type": "code",
      "source": [
        "print(fuzz.token_sort_ratio(my_records[0].get('favorite_food'), my_records[1].get('favorite_food')))\n",
        "print(fuzz.token_sort_ratio(my_records[0].get('favorite_drink'), my_records[1].get('favorite_drink')))"
      ],
      "metadata": {
        "colab": {
          "base_uri": "https://localhost:8080/"
        },
        "id": "eWgQeQ6QAZkJ",
        "outputId": "1c6e31b1-9b4c-4fdb-fcfd-b8043ece443e"
      },
      "id": "eWgQeQ6QAZkJ",
      "execution_count": 13,
      "outputs": [
        {
          "output_type": "stream",
          "name": "stdout",
          "text": [
            "68\n",
            "100\n"
          ]
        }
      ]
    },
    {
      "cell_type": "code",
      "source": [
        "print(fuzz.token_set_ratio(my_records[0].get('favorite_food'), my_records[1].get('favorite_food')))\n",
        "print(fuzz.token_set_ratio(my_records[0].get('favorite_drink'), my_records[1].get('favorite_drink')))"
      ],
      "metadata": {
        "colab": {
          "base_uri": "https://localhost:8080/"
        },
        "id": "KPP2-n4SAefS",
        "outputId": "7e865f51-a0b1-42eb-cfd3-192104f1d685"
      },
      "id": "KPP2-n4SAefS",
      "execution_count": 14,
      "outputs": [
        {
          "output_type": "stream",
          "name": "stdout",
          "text": [
            "68\n",
            "100\n"
          ]
        }
      ]
    },
    {
      "cell_type": "code",
      "source": [
        "from fuzzywuzzy import process\n",
        "choices = ['Yes', 'No', 'Maybe', 'N/A']"
      ],
      "metadata": {
        "id": "7PXPvZNaAihk"
      },
      "id": "7PXPvZNaAihk",
      "execution_count": 15,
      "outputs": []
    },
    {
      "cell_type": "code",
      "source": [
        "process.extract('ya', choices, limit = 2)"
      ],
      "metadata": {
        "colab": {
          "base_uri": "https://localhost:8080/"
        },
        "id": "JzkOnzK9Atf3",
        "outputId": "77d7197d-a549-4613-f275-9715402115be"
      },
      "id": "JzkOnzK9Atf3",
      "execution_count": 17,
      "outputs": [
        {
          "output_type": "execute_result",
          "data": {
            "text/plain": [
              "[('Yes', 45), ('Maybe', 45)]"
            ]
          },
          "metadata": {},
          "execution_count": 17
        }
      ]
    },
    {
      "cell_type": "code",
      "source": [
        "process.extractOne('nope', choices)"
      ],
      "metadata": {
        "colab": {
          "base_uri": "https://localhost:8080/"
        },
        "id": "xYAqGnLvAtsz",
        "outputId": "e50e60e2-41cc-4870-b968-cfe3e2dc07bd"
      },
      "id": "xYAqGnLvAtsz",
      "execution_count": 19,
      "outputs": [
        {
          "output_type": "execute_result",
          "data": {
            "text/plain": [
              "('No', 90)"
            ]
          },
          "metadata": {},
          "execution_count": 19
        }
      ]
    }
  ],
  "metadata": {
    "kernelspec": {
      "display_name": "Python 3 (ipykernel)",
      "language": "python",
      "name": "python3"
    },
    "language_info": {
      "codemirror_mode": {
        "name": "ipython",
        "version": 3
      },
      "file_extension": ".py",
      "mimetype": "text/x-python",
      "name": "python",
      "nbconvert_exporter": "python",
      "pygments_lexer": "ipython3",
      "version": "3.11.7"
    },
    "colab": {
      "provenance": []
    }
  },
  "nbformat": 4,
  "nbformat_minor": 5
}