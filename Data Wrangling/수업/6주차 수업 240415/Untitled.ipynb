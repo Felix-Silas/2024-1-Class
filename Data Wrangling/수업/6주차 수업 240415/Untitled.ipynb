{
 "cells": [
  {
   "cell_type": "code",
   "execution_count": 1,
   "id": "363aea35-1a12-4825-895f-3793f33ed30d",
   "metadata": {},
   "outputs": [],
   "source": [
    "import pandas as pd"
   ]
  },
  {
   "cell_type": "code",
   "execution_count": 2,
   "id": "f1391c29-50d6-4b56-8c33-2f8353a16bdc",
   "metadata": {},
   "outputs": [
    {
     "data": {
      "text/plain": [
       "철수    10\n",
       "짱구    20\n",
       "맹구    30\n",
       "훈이    40\n",
       "dtype: int64"
      ]
     },
     "execution_count": 2,
     "metadata": {},
     "output_type": "execute_result"
    }
   ],
   "source": [
    "sr = pd.Series([10, 20, 30, 40])\n",
    "sr1 = pd.Series([10, 20, 30, 40], index = ['철수', '짱구', '맹구', '훈이'])\n",
    "sr1"
   ]
  },
  {
   "cell_type": "code",
   "execution_count": 4,
   "id": "316e1257-039c-4aaf-8ea5-3c6f68c7fe4b",
   "metadata": {},
   "outputs": [
    {
     "data": {
      "text/plain": [
       "a    1\n",
       "b    2\n",
       "c    3\n",
       "dtype: int64"
      ]
     },
     "execution_count": 4,
     "metadata": {},
     "output_type": "execute_result"
    }
   ],
   "source": [
    "# 딕셔너리 --> 시리즈 변환\n",
    "dict_data = {'a': 1, 'b': 2, 'c': 3}\n",
    "\n",
    "sr3 = pd.Series(dict_data)\n",
    "\n",
    "sr3"
   ]
  },
  {
   "cell_type": "code",
   "execution_count": 5,
   "id": "774a7534-d175-4134-a9d5-4bdc8f052549",
   "metadata": {},
   "outputs": [
    {
     "data": {
      "text/plain": [
       "b    2\n",
       "dtype: int64"
      ]
     },
     "execution_count": 5,
     "metadata": {},
     "output_type": "execute_result"
    }
   ],
   "source": [
    "sr3['b']\n",
    "sr3[1:2] # 슬라이싱 마지막 포함하지 않음, 1만 출력"
   ]
  },
  {
   "cell_type": "code",
   "execution_count": null,
   "id": "0c8d99c4-e7e8-4222-a96b-11d6be7a9d3b",
   "metadata": {},
   "outputs": [],
   "source": []
  },
  {
   "cell_type": "code",
   "execution_count": null,
   "id": "b2b797aa-10f3-4fcc-aaf0-bbc6064eeb7f",
   "metadata": {},
   "outputs": [],
   "source": []
  },
  {
   "cell_type": "code",
   "execution_count": null,
   "id": "fc2f745b-8104-4d76-b901-0c21d671b5d8",
   "metadata": {},
   "outputs": [],
   "source": []
  },
  {
   "cell_type": "code",
   "execution_count": null,
   "id": "a1ad4fb3-6dcf-43e6-97f2-acb3e9967ffd",
   "metadata": {},
   "outputs": [],
   "source": []
  }
 ],
 "metadata": {
  "kernelspec": {
   "display_name": "Python 3 (ipykernel)",
   "language": "python",
   "name": "python3"
  },
  "language_info": {
   "codemirror_mode": {
    "name": "ipython",
    "version": 3
   },
   "file_extension": ".py",
   "mimetype": "text/x-python",
   "name": "python",
   "nbconvert_exporter": "python",
   "pygments_lexer": "ipython3",
   "version": "3.11.7"
  }
 },
 "nbformat": 4,
 "nbformat_minor": 5
}
