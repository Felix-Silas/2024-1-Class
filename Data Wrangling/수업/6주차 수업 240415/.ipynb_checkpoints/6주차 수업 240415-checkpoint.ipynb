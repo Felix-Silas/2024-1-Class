{
 "cells": [
  {
   "cell_type": "code",
   "execution_count": 1,
   "id": "b3b2eaee-d00f-4d66-80be-d0f1a97dec29",
   "metadata": {},
   "outputs": [],
   "source": [
    "import pandas as pd"
   ]
  },
  {
   "cell_type": "code",
   "execution_count": 2,
   "id": "25967f50-03a8-4980-95d0-f3e51a0aa1cd",
   "metadata": {},
   "outputs": [
    {
     "data": {
      "text/plain": [
       "0    10\n",
       "1    20\n",
       "2    30\n",
       "3    40\n",
       "dtype: int64"
      ]
     },
     "execution_count": 2,
     "metadata": {},
     "output_type": "execute_result"
    }
   ],
   "source": [
    "# 리스트 --> 시리즈 변환: (default) 정수형 위치 인덱스\n",
    "sr = pd.Series([10, 20, 30, 40])\n",
    "\n",
    "sr"
   ]
  },
  {
   "cell_type": "code",
   "execution_count": 3,
   "id": "070c645a-a46b-4fd6-b3c2-907bc74ccaff",
   "metadata": {},
   "outputs": [
    {
     "data": {
      "text/plain": [
       "100"
      ]
     },
     "execution_count": 3,
     "metadata": {},
     "output_type": "execute_result"
    }
   ],
   "source": [
    "# numpy 기반 위에서 pandas가 만들어져서 사용할 수 있는 게 있다.\n",
    "sr.sum()"
   ]
  },
  {
   "cell_type": "code",
   "execution_count": 4,
   "id": "a7d2e2ed-ab8b-412b-8122-602ca91264fe",
   "metadata": {},
   "outputs": [
    {
     "data": {
      "text/plain": [
       "25.0"
      ]
     },
     "execution_count": 4,
     "metadata": {},
     "output_type": "execute_result"
    }
   ],
   "source": [
    "sr.mean()"
   ]
  },
  {
   "cell_type": "code",
   "execution_count": 5,
   "id": "ef98ca64-8f78-4665-a0ae-525ebd5cd033",
   "metadata": {},
   "outputs": [
    {
     "data": {
      "text/plain": [
       "0    False\n",
       "1    False\n",
       "2     True\n",
       "3     True\n",
       "dtype: bool"
      ]
     },
     "execution_count": 5,
     "metadata": {},
     "output_type": "execute_result"
    }
   ],
   "source": [
    "# boolean Series를 만들 수 있다.\n",
    "sr > 20"
   ]
  },
  {
   "cell_type": "code",
   "execution_count": 6,
   "id": "067e15a1-105c-43dd-a4a6-15ee51e1ad98",
   "metadata": {},
   "outputs": [
    {
     "data": {
      "text/plain": [
       "2    30\n",
       "dtype: int64"
      ]
     },
     "execution_count": 6,
     "metadata": {},
     "output_type": "execute_result"
    }
   ],
   "source": [
    "# filtering\n",
    "\n",
    "#sr[sr>20]\n",
    "sr[sr==30]"
   ]
  },
  {
   "cell_type": "code",
   "execution_count": 7,
   "id": "b8e934c5-bf5a-4554-a4fc-4b6037be4ea6",
   "metadata": {},
   "outputs": [
    {
     "data": {
      "text/plain": [
       "철수    10\n",
       "짱구    20\n",
       "맹구    30\n",
       "훈이    40\n",
       "dtype: int64"
      ]
     },
     "execution_count": 7,
     "metadata": {},
     "output_type": "execute_result"
    }
   ],
   "source": [
    "sr1 = pd.Series([10, 20, 30, 40], index = ['철수', '짱구', '맹구', '훈이'])\n",
    "\n",
    "sr1"
   ]
  },
  {
   "cell_type": "code",
   "execution_count": 8,
   "id": "be182b7d-3e36-46d3-8387-6293ffca688c",
   "metadata": {},
   "outputs": [
    {
     "data": {
      "text/plain": [
       "a    1\n",
       "b    2\n",
       "c    3\n",
       "dtype: int64"
      ]
     },
     "execution_count": 8,
     "metadata": {},
     "output_type": "execute_result"
    }
   ],
   "source": [
    "# 딕셔너리 --> 시리즈 변환\n",
    "dict_data = {'a': 1, 'b': 2, 'c': 3}\n",
    "\n",
    "sr3 = pd.Series(dict_data)\n",
    "\n",
    "sr3"
   ]
  },
  {
   "cell_type": "code",
   "execution_count": 9,
   "id": "48acf210-c790-48c2-976e-d51100f77c24",
   "metadata": {},
   "outputs": [
    {
     "data": {
      "text/plain": [
       "2"
      ]
     },
     "execution_count": 9,
     "metadata": {},
     "output_type": "execute_result"
    }
   ],
   "source": [
    "sr3['b']"
   ]
  },
  {
   "cell_type": "code",
   "execution_count": 10,
   "id": "730bb3ed-813b-4635-a346-3611b95e2b60",
   "metadata": {},
   "outputs": [
    {
     "data": {
      "text/plain": [
       "b    2\n",
       "dtype: int64"
      ]
     },
     "execution_count": 10,
     "metadata": {},
     "output_type": "execute_result"
    }
   ],
   "source": [
    "sr3[1:2] # 슬라이싱 마지막 포함하지 않음, 1만 출력"
   ]
  },
  {
   "cell_type": "code",
   "execution_count": 11,
   "id": "a47d3dd7-b405-435e-b766-7c173e59d1ad",
   "metadata": {},
   "outputs": [
    {
     "data": {
      "text/plain": [
       "b    2\n",
       "c    3\n",
       "dtype: int64"
      ]
     },
     "execution_count": 11,
     "metadata": {},
     "output_type": "execute_result"
    }
   ],
   "source": [
    "sr3['b':'c'] # 라벨을 가지고 하면 마지막 거 포함"
   ]
  },
  {
   "cell_type": "code",
   "execution_count": 12,
   "id": "799eaa64-8d39-407e-b4d8-707ad462bc77",
   "metadata": {},
   "outputs": [],
   "source": [
    "# dictionary --> DataFrame\n",
    "# 딕셔너리의 key는 DataFrame의 열로\n",
    "# 딕셔너리의 list로 된 value는 DataFrame의 열로\n",
    "\n",
    "dict_data = {'name': ['Jerry', 'Riah', 'Paul'],\n",
    "            'algol': ['A',  'A+', 'B'],\n",
    "            'basic': ['C', 'B', 'B+'],\n",
    "            'c++': ['B+', 'C', 'C+']}\n",
    "\n",
    "df = pd.DataFrame(dict_data)"
   ]
  },
  {
   "cell_type": "code",
   "execution_count": 13,
   "id": "f1f94222-75ee-4486-9b54-58039bafd777",
   "metadata": {},
   "outputs": [
    {
     "data": {
      "text/html": [
       "<div>\n",
       "<style scoped>\n",
       "    .dataframe tbody tr th:only-of-type {\n",
       "        vertical-align: middle;\n",
       "    }\n",
       "\n",
       "    .dataframe tbody tr th {\n",
       "        vertical-align: top;\n",
       "    }\n",
       "\n",
       "    .dataframe thead th {\n",
       "        text-align: right;\n",
       "    }\n",
       "</style>\n",
       "<table border=\"1\" class=\"dataframe\">\n",
       "  <thead>\n",
       "    <tr style=\"text-align: right;\">\n",
       "      <th></th>\n",
       "      <th>name</th>\n",
       "      <th>algol</th>\n",
       "      <th>basic</th>\n",
       "      <th>c++</th>\n",
       "    </tr>\n",
       "  </thead>\n",
       "  <tbody>\n",
       "    <tr>\n",
       "      <th>0</th>\n",
       "      <td>Jerry</td>\n",
       "      <td>A</td>\n",
       "      <td>C</td>\n",
       "      <td>B+</td>\n",
       "    </tr>\n",
       "    <tr>\n",
       "      <th>1</th>\n",
       "      <td>Riah</td>\n",
       "      <td>A+</td>\n",
       "      <td>B</td>\n",
       "      <td>C</td>\n",
       "    </tr>\n",
       "    <tr>\n",
       "      <th>2</th>\n",
       "      <td>Paul</td>\n",
       "      <td>B</td>\n",
       "      <td>B+</td>\n",
       "      <td>C+</td>\n",
       "    </tr>\n",
       "  </tbody>\n",
       "</table>\n",
       "</div>"
      ],
      "text/plain": [
       "    name algol basic c++\n",
       "0  Jerry     A     C  B+\n",
       "1   Riah    A+     B   C\n",
       "2   Paul     B    B+  C+"
      ]
     },
     "execution_count": 13,
     "metadata": {},
     "output_type": "execute_result"
    }
   ],
   "source": [
    "df"
   ]
  },
  {
   "cell_type": "code",
   "execution_count": 14,
   "id": "62146256-1ad2-41c8-980a-c384206101b3",
   "metadata": {},
   "outputs": [
    {
     "data": {
      "text/html": [
       "<div>\n",
       "<style scoped>\n",
       "    .dataframe tbody tr th:only-of-type {\n",
       "        vertical-align: middle;\n",
       "    }\n",
       "\n",
       "    .dataframe tbody tr th {\n",
       "        vertical-align: top;\n",
       "    }\n",
       "\n",
       "    .dataframe thead th {\n",
       "        text-align: right;\n",
       "    }\n",
       "</style>\n",
       "<table border=\"1\" class=\"dataframe\">\n",
       "  <thead>\n",
       "    <tr style=\"text-align: right;\">\n",
       "      <th></th>\n",
       "      <th>나이</th>\n",
       "      <th>성별</th>\n",
       "      <th>학교</th>\n",
       "    </tr>\n",
       "  </thead>\n",
       "  <tbody>\n",
       "    <tr>\n",
       "      <th>준서</th>\n",
       "      <td>15</td>\n",
       "      <td>남</td>\n",
       "      <td>덕영중</td>\n",
       "    </tr>\n",
       "    <tr>\n",
       "      <th>예은</th>\n",
       "      <td>17</td>\n",
       "      <td>여</td>\n",
       "      <td>수리중</td>\n",
       "    </tr>\n",
       "    <tr>\n",
       "      <th>길동</th>\n",
       "      <td>16</td>\n",
       "      <td>여</td>\n",
       "      <td>연수중</td>\n",
       "    </tr>\n",
       "  </tbody>\n",
       "</table>\n",
       "</div>"
      ],
      "text/plain": [
       "    나이 성별   학교\n",
       "준서  15  남  덕영중\n",
       "예은  17  여  수리중\n",
       "길동  16  여  연수중"
      ]
     },
     "execution_count": 14,
     "metadata": {},
     "output_type": "execute_result"
    }
   ],
   "source": [
    "# 2차원 리스트 자료 구조 --> DataFrame\n",
    "# 생성자의 인자로 행 인덱스와 열 이름 설정 가능\n",
    "list_data = [[15, '남', '덕영중'], \n",
    "            [17, '여', '수리중'],\n",
    "            [16, '여', '연수중']\n",
    "            ]\n",
    "\n",
    "df2 = pd.DataFrame(list_data, index = ['준서', '예은', '길동'], columns = ['나이', '성별', '학교'])\n",
    "\n",
    "df2"
   ]
  },
  {
   "cell_type": "code",
   "execution_count": 15,
   "id": "e586928c-4368-46e1-ab82-aebcb80c0ad5",
   "metadata": {},
   "outputs": [
    {
     "data": {
      "text/plain": [
       "array([[15, '남', '덕영중'],\n",
       "       [17, '여', '수리중'],\n",
       "       [16, '여', '연수중']], dtype=object)"
      ]
     },
     "execution_count": 15,
     "metadata": {},
     "output_type": "execute_result"
    }
   ],
   "source": [
    "df2.values"
   ]
  },
  {
   "cell_type": "code",
   "execution_count": 16,
   "id": "ad8428a7-1eda-4604-a317-7d70745b0409",
   "metadata": {},
   "outputs": [
    {
     "data": {
      "text/plain": [
       "Index(['나이', '성별', '학교'], dtype='object')"
      ]
     },
     "execution_count": 16,
     "metadata": {},
     "output_type": "execute_result"
    }
   ],
   "source": [
    "df2.columns"
   ]
  },
  {
   "cell_type": "code",
   "execution_count": 17,
   "id": "72f4ee50-bcec-4b3e-a9d0-93a7b95cb4ff",
   "metadata": {},
   "outputs": [
    {
     "data": {
      "text/plain": [
       "Index(['준서', '예은', '길동'], dtype='object')"
      ]
     },
     "execution_count": 17,
     "metadata": {},
     "output_type": "execute_result"
    }
   ],
   "source": [
    "df2.index"
   ]
  },
  {
   "cell_type": "code",
   "execution_count": 18,
   "id": "4f6d7964-6b18-4e62-93f2-63cfa84e24f3",
   "metadata": {},
   "outputs": [
    {
     "data": {
      "text/plain": [
       "준서    15\n",
       "예은    17\n",
       "길동    16\n",
       "Name: 나이, dtype: int64"
      ]
     },
     "execution_count": 18,
     "metadata": {},
     "output_type": "execute_result"
    }
   ],
   "source": [
    "df2['나이']\n",
    "# 하나의 Series 값 얻기"
   ]
  },
  {
   "cell_type": "code",
   "execution_count": 19,
   "id": "71fda661-adc9-47e4-b547-456c4e47a739",
   "metadata": {},
   "outputs": [
    {
     "data": {
      "text/plain": [
       "48"
      ]
     },
     "execution_count": 19,
     "metadata": {},
     "output_type": "execute_result"
    }
   ],
   "source": [
    "df2['나이'].sum()\n",
    "# Series니까 넘파이 연산 가능"
   ]
  },
  {
   "cell_type": "code",
   "execution_count": 20,
   "id": "bf18c07e-779f-4f3e-a44c-8ae802c84312",
   "metadata": {},
   "outputs": [
    {
     "data": {
      "text/plain": [
       "16.0"
      ]
     },
     "execution_count": 20,
     "metadata": {},
     "output_type": "execute_result"
    }
   ],
   "source": [
    "df2['나이'].mean()"
   ]
  },
  {
   "cell_type": "code",
   "execution_count": 21,
   "id": "b761f059-b603-4041-b38d-1c2cec49329e",
   "metadata": {},
   "outputs": [
    {
     "data": {
      "text/html": [
       "<div>\n",
       "<style scoped>\n",
       "    .dataframe tbody tr th:only-of-type {\n",
       "        vertical-align: middle;\n",
       "    }\n",
       "\n",
       "    .dataframe tbody tr th {\n",
       "        vertical-align: top;\n",
       "    }\n",
       "\n",
       "    .dataframe thead th {\n",
       "        text-align: right;\n",
       "    }\n",
       "</style>\n",
       "<table border=\"1\" class=\"dataframe\">\n",
       "  <thead>\n",
       "    <tr style=\"text-align: right;\">\n",
       "      <th></th>\n",
       "      <th>나이</th>\n",
       "      <th>성별</th>\n",
       "      <th>학교</th>\n",
       "    </tr>\n",
       "  </thead>\n",
       "  <tbody>\n",
       "    <tr>\n",
       "      <th>준서</th>\n",
       "      <td>15</td>\n",
       "      <td>남</td>\n",
       "      <td>덕영중</td>\n",
       "    </tr>\n",
       "    <tr>\n",
       "      <th>길동</th>\n",
       "      <td>16</td>\n",
       "      <td>여</td>\n",
       "      <td>연수중</td>\n",
       "    </tr>\n",
       "  </tbody>\n",
       "</table>\n",
       "</div>"
      ],
      "text/plain": [
       "    나이 성별   학교\n",
       "준서  15  남  덕영중\n",
       "길동  16  여  연수중"
      ]
     },
     "execution_count": 21,
     "metadata": {},
     "output_type": "execute_result"
    }
   ],
   "source": [
    "# 행 삭제\n",
    "df3 = df2.drop('예은')\n",
    "df3"
   ]
  },
  {
   "cell_type": "code",
   "execution_count": 22,
   "id": "36814159-438a-4f65-81da-2d5f70e11730",
   "metadata": {},
   "outputs": [
    {
     "data": {
      "text/html": [
       "<div>\n",
       "<style scoped>\n",
       "    .dataframe tbody tr th:only-of-type {\n",
       "        vertical-align: middle;\n",
       "    }\n",
       "\n",
       "    .dataframe tbody tr th {\n",
       "        vertical-align: top;\n",
       "    }\n",
       "\n",
       "    .dataframe thead th {\n",
       "        text-align: right;\n",
       "    }\n",
       "</style>\n",
       "<table border=\"1\" class=\"dataframe\">\n",
       "  <thead>\n",
       "    <tr style=\"text-align: right;\">\n",
       "      <th></th>\n",
       "      <th>나이</th>\n",
       "      <th>성별</th>\n",
       "      <th>학교</th>\n",
       "    </tr>\n",
       "  </thead>\n",
       "  <tbody>\n",
       "    <tr>\n",
       "      <th>예은</th>\n",
       "      <td>17</td>\n",
       "      <td>여</td>\n",
       "      <td>수리중</td>\n",
       "    </tr>\n",
       "  </tbody>\n",
       "</table>\n",
       "</div>"
      ],
      "text/plain": [
       "    나이 성별   학교\n",
       "예은  17  여  수리중"
      ]
     },
     "execution_count": 22,
     "metadata": {},
     "output_type": "execute_result"
    }
   ],
   "source": [
    "# 행 삭제\n",
    "df4 = df2.drop(['준서', '길동'])\n",
    "df4"
   ]
  },
  {
   "cell_type": "code",
   "execution_count": 23,
   "id": "af1d3698-7ef5-4cd7-9056-512975a6fffb",
   "metadata": {},
   "outputs": [
    {
     "data": {
      "text/html": [
       "<div>\n",
       "<style scoped>\n",
       "    .dataframe tbody tr th:only-of-type {\n",
       "        vertical-align: middle;\n",
       "    }\n",
       "\n",
       "    .dataframe tbody tr th {\n",
       "        vertical-align: top;\n",
       "    }\n",
       "\n",
       "    .dataframe thead th {\n",
       "        text-align: right;\n",
       "    }\n",
       "</style>\n",
       "<table border=\"1\" class=\"dataframe\">\n",
       "  <thead>\n",
       "    <tr style=\"text-align: right;\">\n",
       "      <th></th>\n",
       "      <th>나이</th>\n",
       "      <th>학교</th>\n",
       "    </tr>\n",
       "  </thead>\n",
       "  <tbody>\n",
       "    <tr>\n",
       "      <th>준서</th>\n",
       "      <td>15</td>\n",
       "      <td>덕영중</td>\n",
       "    </tr>\n",
       "    <tr>\n",
       "      <th>예은</th>\n",
       "      <td>17</td>\n",
       "      <td>수리중</td>\n",
       "    </tr>\n",
       "    <tr>\n",
       "      <th>길동</th>\n",
       "      <td>16</td>\n",
       "      <td>연수중</td>\n",
       "    </tr>\n",
       "  </tbody>\n",
       "</table>\n",
       "</div>"
      ],
      "text/plain": [
       "    나이   학교\n",
       "준서  15  덕영중\n",
       "예은  17  수리중\n",
       "길동  16  연수중"
      ]
     },
     "execution_count": 23,
     "metadata": {},
     "output_type": "execute_result"
    }
   ],
   "source": [
    "# 열 삭제, axis = 1\n",
    "df5 = df2.drop('성별', axis = 1)\n",
    "df5"
   ]
  },
  {
   "cell_type": "code",
   "execution_count": 24,
   "id": "36b4c6bd-0bdb-49a4-b96c-0f25db88da1d",
   "metadata": {},
   "outputs": [
    {
     "data": {
      "text/html": [
       "<div>\n",
       "<style scoped>\n",
       "    .dataframe tbody tr th:only-of-type {\n",
       "        vertical-align: middle;\n",
       "    }\n",
       "\n",
       "    .dataframe tbody tr th {\n",
       "        vertical-align: top;\n",
       "    }\n",
       "\n",
       "    .dataframe thead th {\n",
       "        text-align: right;\n",
       "    }\n",
       "</style>\n",
       "<table border=\"1\" class=\"dataframe\">\n",
       "  <thead>\n",
       "    <tr style=\"text-align: right;\">\n",
       "      <th></th>\n",
       "      <th>나이</th>\n",
       "      <th>성별</th>\n",
       "      <th>학교</th>\n",
       "    </tr>\n",
       "  </thead>\n",
       "  <tbody>\n",
       "    <tr>\n",
       "      <th>준서</th>\n",
       "      <td>15</td>\n",
       "      <td>남</td>\n",
       "      <td>덕영중</td>\n",
       "    </tr>\n",
       "    <tr>\n",
       "      <th>길동</th>\n",
       "      <td>16</td>\n",
       "      <td>여</td>\n",
       "      <td>연수중</td>\n",
       "    </tr>\n",
       "  </tbody>\n",
       "</table>\n",
       "</div>"
      ],
      "text/plain": [
       "    나이 성별   학교\n",
       "준서  15  남  덕영중\n",
       "길동  16  여  연수중"
      ]
     },
     "execution_count": 24,
     "metadata": {},
     "output_type": "execute_result"
    }
   ],
   "source": [
    "df6 = df2.copy() \n",
    "\n",
    "df6.drop('예은', inplace = True) # 자기 자신에게 바로 적용\n",
    "\n",
    "df6"
   ]
  },
  {
   "cell_type": "code",
   "execution_count": 25,
   "id": "d1288d9b-1c82-4146-8ffb-55c47840f60f",
   "metadata": {},
   "outputs": [
    {
     "name": "stdout",
     "output_type": "stream",
     "text": [
      "    나이 성별   학교\n",
      "준서  15  남  덕영중\n",
      "예은  17  여  수리중\n",
      "길동  16  여  연수중\n"
     ]
    }
   ],
   "source": [
    "# df2 활용\n",
    "print(df2)"
   ]
  },
  {
   "cell_type": "code",
   "execution_count": 26,
   "id": "ef8548be-0954-4705-be5f-3f639b303227",
   "metadata": {},
   "outputs": [
    {
     "name": "stdout",
     "output_type": "stream",
     "text": [
      "나이     16\n",
      "성별      여\n",
      "학교    연수중\n",
      "Name: 길동, dtype: object\n",
      "나이     16\n",
      "성별      여\n",
      "학교    연수중\n",
      "Name: 길동, dtype: object\n"
     ]
    }
   ],
   "source": [
    "# 행 선택\n",
    "sr1 = df2.loc['길동']\n",
    "sr2 = df2.iloc[2]\n",
    "print(sr1)\n",
    "print(sr2)"
   ]
  },
  {
   "cell_type": "code",
   "execution_count": 27,
   "id": "d7da3cb3-c346-4df4-8a6c-9e532679d51c",
   "metadata": {},
   "outputs": [
    {
     "name": "stdout",
     "output_type": "stream",
     "text": [
      "    나이 성별   학교\n",
      "준서  15  남  덕영중\n",
      "길동  16  여  연수중\n",
      "    나이 성별   학교\n",
      "준서  15  남  덕영중\n",
      "길동  16  여  연수중\n"
     ]
    }
   ],
   "source": [
    "# 2개 이상의 행 list 형태로\n",
    "df1 = df2.loc[['준서', '길동']]\n",
    "df3 = df2.iloc[[0, 2]]\n",
    "print(df1)\n",
    "print(df3)"
   ]
  },
  {
   "cell_type": "code",
   "execution_count": 28,
   "id": "11d24a8a-79c5-4782-8036-ae950f4b7947",
   "metadata": {},
   "outputs": [
    {
     "name": "stdout",
     "output_type": "stream",
     "text": [
      "    나이 성별   학교\n",
      "예은  17  여  수리중\n",
      "길동  16  여  연수중\n",
      "    나이 성별   학교\n",
      "예은  17  여  수리중\n",
      "길동  16  여  연수중\n"
     ]
    }
   ],
   "source": [
    "# 범위 slicing\n",
    "df4 = df2.loc['예은': '길동']\n",
    "df102 = df2.iloc[1:3] # 정수형 우치 인덱서로, 1행부터 2행까지 선택\n",
    "print(df4)\n",
    "print(df102)"
   ]
  },
  {
   "cell_type": "code",
   "execution_count": 29,
   "id": "eaa24a66-acdb-4cbd-8aba-431f7b75200c",
   "metadata": {},
   "outputs": [
    {
     "data": {
      "text/plain": [
       "준서    15\n",
       "예은    17\n",
       "길동    16\n",
       "Name: 나이, dtype: int64"
      ]
     },
     "execution_count": 29,
     "metadata": {},
     "output_type": "execute_result"
    }
   ],
   "source": [
    "# 열 선택\n",
    "sr5 = df2['나이']\n",
    "sr5"
   ]
  },
  {
   "cell_type": "code",
   "execution_count": 30,
   "id": "afed0d9e-7245-4aa8-b47a-ec1de4629847",
   "metadata": {},
   "outputs": [
    {
     "data": {
      "text/plain": [
       "준서    15\n",
       "예은    17\n",
       "길동    16\n",
       "Name: 나이, dtype: int64"
      ]
     },
     "execution_count": 30,
     "metadata": {},
     "output_type": "execute_result"
    }
   ],
   "source": [
    "sr6 = df2.loc[:, '나이']\n",
    "sr6"
   ]
  },
  {
   "cell_type": "code",
   "execution_count": 31,
   "id": "a1abefa5-18a7-4e33-a170-3134bfe12747",
   "metadata": {},
   "outputs": [
    {
     "data": {
      "text/html": [
       "<div>\n",
       "<style scoped>\n",
       "    .dataframe tbody tr th:only-of-type {\n",
       "        vertical-align: middle;\n",
       "    }\n",
       "\n",
       "    .dataframe tbody tr th {\n",
       "        vertical-align: top;\n",
       "    }\n",
       "\n",
       "    .dataframe thead th {\n",
       "        text-align: right;\n",
       "    }\n",
       "</style>\n",
       "<table border=\"1\" class=\"dataframe\">\n",
       "  <thead>\n",
       "    <tr style=\"text-align: right;\">\n",
       "      <th></th>\n",
       "      <th>나이</th>\n",
       "      <th>성별</th>\n",
       "      <th>학교</th>\n",
       "    </tr>\n",
       "  </thead>\n",
       "  <tbody>\n",
       "    <tr>\n",
       "      <th>예은</th>\n",
       "      <td>17</td>\n",
       "      <td>여</td>\n",
       "      <td>수리중</td>\n",
       "    </tr>\n",
       "    <tr>\n",
       "      <th>길동</th>\n",
       "      <td>16</td>\n",
       "      <td>여</td>\n",
       "      <td>연수중</td>\n",
       "    </tr>\n",
       "  </tbody>\n",
       "</table>\n",
       "</div>"
      ],
      "text/plain": [
       "    나이 성별   학교\n",
       "예은  17  여  수리중\n",
       "길동  16  여  연수중"
      ]
     },
     "execution_count": 31,
     "metadata": {},
     "output_type": "execute_result"
    }
   ],
   "source": [
    "df8 = df2[df2['나이']>=16]\n",
    "df8"
   ]
  },
  {
   "cell_type": "code",
   "execution_count": 32,
   "id": "3697fba3-2ee6-48a5-bfe7-6d67b5afdc3f",
   "metadata": {},
   "outputs": [
    {
     "data": {
      "text/html": [
       "<div>\n",
       "<style scoped>\n",
       "    .dataframe tbody tr th:only-of-type {\n",
       "        vertical-align: middle;\n",
       "    }\n",
       "\n",
       "    .dataframe tbody tr th {\n",
       "        vertical-align: top;\n",
       "    }\n",
       "\n",
       "    .dataframe thead th {\n",
       "        text-align: right;\n",
       "    }\n",
       "</style>\n",
       "<table border=\"1\" class=\"dataframe\">\n",
       "  <thead>\n",
       "    <tr style=\"text-align: right;\">\n",
       "      <th></th>\n",
       "      <th>나이</th>\n",
       "      <th>학교</th>\n",
       "    </tr>\n",
       "  </thead>\n",
       "  <tbody>\n",
       "    <tr>\n",
       "      <th>준서</th>\n",
       "      <td>15</td>\n",
       "      <td>덕영중</td>\n",
       "    </tr>\n",
       "    <tr>\n",
       "      <th>예은</th>\n",
       "      <td>17</td>\n",
       "      <td>수리중</td>\n",
       "    </tr>\n",
       "    <tr>\n",
       "      <th>길동</th>\n",
       "      <td>16</td>\n",
       "      <td>연수중</td>\n",
       "    </tr>\n",
       "  </tbody>\n",
       "</table>\n",
       "</div>"
      ],
      "text/plain": [
       "    나이   학교\n",
       "준서  15  덕영중\n",
       "예은  17  수리중\n",
       "길동  16  연수중"
      ]
     },
     "execution_count": 32,
     "metadata": {},
     "output_type": "execute_result"
    }
   ],
   "source": [
    "# 2개 이상의 열 list 형태로\n",
    "df5  = df2[['나이', '학교']]\n",
    "df5"
   ]
  },
  {
   "cell_type": "code",
   "execution_count": 33,
   "id": "1c208428-ce27-4264-8320-45747910cc69",
   "metadata": {},
   "outputs": [
    {
     "name": "stdout",
     "output_type": "stream",
     "text": [
      "수리중\n",
      "수리중\n"
     ]
    }
   ],
   "source": [
    "# 원소 선택\n",
    "el1 = df2.loc['예은', '학교']\n",
    "el2 = df2.iloc[1, 2]\n",
    "print(el1)\n",
    "print(el2)"
   ]
  },
  {
   "cell_type": "code",
   "execution_count": 34,
   "id": "b1573280-5611-462c-9c22-3eac2b593b56",
   "metadata": {},
   "outputs": [
    {
     "data": {
      "text/plain": [
       "나이     15\n",
       "학교    덕영중\n",
       "Name: 준서, dtype: object"
      ]
     },
     "execution_count": 34,
     "metadata": {},
     "output_type": "execute_result"
    }
   ],
   "source": [
    "# 2개 이상의 열 list 형태로\n",
    "sr1 = df2.loc['준서', ['나이', '학교']]\n",
    "sr1"
   ]
  },
  {
   "cell_type": "code",
   "execution_count": 35,
   "id": "0210ce75-a29c-4c43-9640-1613fe8a8000",
   "metadata": {},
   "outputs": [
    {
     "data": {
      "text/html": [
       "<div>\n",
       "<style scoped>\n",
       "    .dataframe tbody tr th:only-of-type {\n",
       "        vertical-align: middle;\n",
       "    }\n",
       "\n",
       "    .dataframe tbody tr th {\n",
       "        vertical-align: top;\n",
       "    }\n",
       "\n",
       "    .dataframe thead th {\n",
       "        text-align: right;\n",
       "    }\n",
       "</style>\n",
       "<table border=\"1\" class=\"dataframe\">\n",
       "  <thead>\n",
       "    <tr style=\"text-align: right;\">\n",
       "      <th></th>\n",
       "      <th>나이</th>\n",
       "      <th>성별</th>\n",
       "      <th>학교</th>\n",
       "    </tr>\n",
       "  </thead>\n",
       "  <tbody>\n",
       "    <tr>\n",
       "      <th>준서</th>\n",
       "      <td>15</td>\n",
       "      <td>남</td>\n",
       "      <td>덕영중</td>\n",
       "    </tr>\n",
       "    <tr>\n",
       "      <th>예은</th>\n",
       "      <td>17</td>\n",
       "      <td>여</td>\n",
       "      <td>수리중</td>\n",
       "    </tr>\n",
       "  </tbody>\n",
       "</table>\n",
       "</div>"
      ],
      "text/plain": [
       "    나이 성별   학교\n",
       "준서  15  남  덕영중\n",
       "예은  17  여  수리중"
      ]
     },
     "execution_count": 35,
     "metadata": {},
     "output_type": "execute_result"
    }
   ],
   "source": [
    "# 2개 이상의 행, 열 슬라이싱\n",
    "df1 = df2.loc['준서':'예은', '나이':'학교']\n",
    "df1"
   ]
  },
  {
   "cell_type": "code",
   "execution_count": 36,
   "id": "a1523f7c-397b-48c2-81b0-421377162200",
   "metadata": {},
   "outputs": [
    {
     "data": {
      "text/html": [
       "<div>\n",
       "<style scoped>\n",
       "    .dataframe tbody tr th:only-of-type {\n",
       "        vertical-align: middle;\n",
       "    }\n",
       "\n",
       "    .dataframe tbody tr th {\n",
       "        vertical-align: top;\n",
       "    }\n",
       "\n",
       "    .dataframe thead th {\n",
       "        text-align: right;\n",
       "    }\n",
       "</style>\n",
       "<table border=\"1\" class=\"dataframe\">\n",
       "  <thead>\n",
       "    <tr style=\"text-align: right;\">\n",
       "      <th></th>\n",
       "      <th>나이</th>\n",
       "      <th>성별</th>\n",
       "      <th>학교</th>\n",
       "      <th>수학</th>\n",
       "      <th>과학</th>\n",
       "    </tr>\n",
       "  </thead>\n",
       "  <tbody>\n",
       "    <tr>\n",
       "      <th>준서</th>\n",
       "      <td>15</td>\n",
       "      <td>남</td>\n",
       "      <td>덕영중</td>\n",
       "      <td>80</td>\n",
       "      <td>90</td>\n",
       "    </tr>\n",
       "    <tr>\n",
       "      <th>예은</th>\n",
       "      <td>17</td>\n",
       "      <td>여</td>\n",
       "      <td>수리중</td>\n",
       "      <td>85</td>\n",
       "      <td>90</td>\n",
       "    </tr>\n",
       "    <tr>\n",
       "      <th>길동</th>\n",
       "      <td>16</td>\n",
       "      <td>여</td>\n",
       "      <td>연수중</td>\n",
       "      <td>80</td>\n",
       "      <td>70</td>\n",
       "    </tr>\n",
       "    <tr>\n",
       "      <th>희수</th>\n",
       "      <td>15</td>\n",
       "      <td>남</td>\n",
       "      <td>반포중</td>\n",
       "      <td>100</td>\n",
       "      <td>95</td>\n",
       "    </tr>\n",
       "    <tr>\n",
       "      <th>수연</th>\n",
       "      <td>17</td>\n",
       "      <td>여</td>\n",
       "      <td>수리중</td>\n",
       "      <td>80</td>\n",
       "      <td>80</td>\n",
       "    </tr>\n",
       "  </tbody>\n",
       "</table>\n",
       "</div>"
      ],
      "text/plain": [
       "    나이 성별   학교   수학  과학\n",
       "준서  15  남  덕영중   80  90\n",
       "예은  17  여  수리중   85  90\n",
       "길동  16  여  연수중   80  70\n",
       "희수  15  남  반포중  100  95\n",
       "수연  17  여  수리중   80  80"
      ]
     },
     "execution_count": 36,
     "metadata": {},
     "output_type": "execute_result"
    }
   ],
   "source": [
    "df1 = df2.copy()\n",
    "\n",
    "# 열 추가\n",
    "df1['수학'] = 80 # 일괄적으로 80 들어감\n",
    "df1['과학'] = [90, 80, 70]\n",
    "\n",
    "# 행 추가\n",
    "df1.loc['희수'] = [15, '남', '반포중', 100, 95]\n",
    "\n",
    "# 기존 행 복사\n",
    "df1.loc['수연'] = df1.loc['예은']\n",
    "# 원소 값 변경\n",
    "df1.loc['예은', '수학'] = 75\n",
    "df1.iloc[1,4] = 75 # 예은 인덱스 1, 과학  인덱스 4\n",
    "\n",
    "df1.loc['예은', ['수학', '과학']] = 85, 90\n",
    "\n",
    "df1"
   ]
  },
  {
   "cell_type": "code",
   "execution_count": 37,
   "id": "3fb4f35c-2827-482f-9809-394d2280b280",
   "metadata": {},
   "outputs": [
    {
     "data": {
      "text/html": [
       "<div>\n",
       "<style scoped>\n",
       "    .dataframe tbody tr th:only-of-type {\n",
       "        vertical-align: middle;\n",
       "    }\n",
       "\n",
       "    .dataframe tbody tr th {\n",
       "        vertical-align: top;\n",
       "    }\n",
       "\n",
       "    .dataframe thead th {\n",
       "        text-align: right;\n",
       "    }\n",
       "</style>\n",
       "<table border=\"1\" class=\"dataframe\">\n",
       "  <thead>\n",
       "    <tr style=\"text-align: right;\">\n",
       "      <th></th>\n",
       "      <th>Indicator</th>\n",
       "      <th>PUBLISH STATES</th>\n",
       "      <th>Year</th>\n",
       "      <th>WHO region</th>\n",
       "      <th>World Bank income group</th>\n",
       "      <th>Country</th>\n",
       "      <th>Sex</th>\n",
       "      <th>Display Value</th>\n",
       "      <th>Numeric</th>\n",
       "      <th>Low</th>\n",
       "      <th>High</th>\n",
       "      <th>Comments</th>\n",
       "    </tr>\n",
       "  </thead>\n",
       "  <tbody>\n",
       "    <tr>\n",
       "      <th>0</th>\n",
       "      <td>Life expectancy at birth (years)</td>\n",
       "      <td>Published</td>\n",
       "      <td>1990</td>\n",
       "      <td>Europe</td>\n",
       "      <td>High-income</td>\n",
       "      <td>Andorra</td>\n",
       "      <td>Both sexes</td>\n",
       "      <td>77</td>\n",
       "      <td>77.0</td>\n",
       "      <td>NaN</td>\n",
       "      <td>NaN</td>\n",
       "      <td>NaN</td>\n",
       "    </tr>\n",
       "    <tr>\n",
       "      <th>1</th>\n",
       "      <td>Life expectancy at birth (years)</td>\n",
       "      <td>Published</td>\n",
       "      <td>2000</td>\n",
       "      <td>Europe</td>\n",
       "      <td>High-income</td>\n",
       "      <td>Andorra</td>\n",
       "      <td>Both sexes</td>\n",
       "      <td>80</td>\n",
       "      <td>80.0</td>\n",
       "      <td>NaN</td>\n",
       "      <td>NaN</td>\n",
       "      <td>NaN</td>\n",
       "    </tr>\n",
       "    <tr>\n",
       "      <th>2</th>\n",
       "      <td>Life expectancy at age 60 (years)</td>\n",
       "      <td>Published</td>\n",
       "      <td>2012</td>\n",
       "      <td>Europe</td>\n",
       "      <td>High-income</td>\n",
       "      <td>Andorra</td>\n",
       "      <td>Female</td>\n",
       "      <td>28</td>\n",
       "      <td>28.0</td>\n",
       "      <td>NaN</td>\n",
       "      <td>NaN</td>\n",
       "      <td>NaN</td>\n",
       "    </tr>\n",
       "    <tr>\n",
       "      <th>3</th>\n",
       "      <td>Life expectancy at age 60 (years)</td>\n",
       "      <td>Published</td>\n",
       "      <td>2000</td>\n",
       "      <td>Europe</td>\n",
       "      <td>High-income</td>\n",
       "      <td>Andorra</td>\n",
       "      <td>Both sexes</td>\n",
       "      <td>23</td>\n",
       "      <td>23.0</td>\n",
       "      <td>NaN</td>\n",
       "      <td>NaN</td>\n",
       "      <td>NaN</td>\n",
       "    </tr>\n",
       "    <tr>\n",
       "      <th>4</th>\n",
       "      <td>Life expectancy at birth (years)</td>\n",
       "      <td>Published</td>\n",
       "      <td>2012</td>\n",
       "      <td>Eastern Mediterranean</td>\n",
       "      <td>High-income</td>\n",
       "      <td>United Arab Emirates</td>\n",
       "      <td>Female</td>\n",
       "      <td>78</td>\n",
       "      <td>78.0</td>\n",
       "      <td>NaN</td>\n",
       "      <td>NaN</td>\n",
       "      <td>NaN</td>\n",
       "    </tr>\n",
       "    <tr>\n",
       "      <th>...</th>\n",
       "      <td>...</td>\n",
       "      <td>...</td>\n",
       "      <td>...</td>\n",
       "      <td>...</td>\n",
       "      <td>...</td>\n",
       "      <td>...</td>\n",
       "      <td>...</td>\n",
       "      <td>...</td>\n",
       "      <td>...</td>\n",
       "      <td>...</td>\n",
       "      <td>...</td>\n",
       "      <td>...</td>\n",
       "    </tr>\n",
       "    <tr>\n",
       "      <th>4651</th>\n",
       "      <td>Healthy life expectancy (HALE) at birth (years)</td>\n",
       "      <td>Published</td>\n",
       "      <td>2012</td>\n",
       "      <td>Western Pacific</td>\n",
       "      <td>Lower-middle-income</td>\n",
       "      <td>Samoa</td>\n",
       "      <td>Female</td>\n",
       "      <td>66</td>\n",
       "      <td>66.0</td>\n",
       "      <td>NaN</td>\n",
       "      <td>NaN</td>\n",
       "      <td>NaN</td>\n",
       "    </tr>\n",
       "    <tr>\n",
       "      <th>4652</th>\n",
       "      <td>Healthy life expectancy (HALE) at birth (years)</td>\n",
       "      <td>Published</td>\n",
       "      <td>2012</td>\n",
       "      <td>Eastern Mediterranean</td>\n",
       "      <td>Low-income</td>\n",
       "      <td>Yemen</td>\n",
       "      <td>Both sexes</td>\n",
       "      <td>54</td>\n",
       "      <td>54.0</td>\n",
       "      <td>NaN</td>\n",
       "      <td>NaN</td>\n",
       "      <td>NaN</td>\n",
       "    </tr>\n",
       "    <tr>\n",
       "      <th>4653</th>\n",
       "      <td>Healthy life expectancy (HALE) at birth (years)</td>\n",
       "      <td>Published</td>\n",
       "      <td>2000</td>\n",
       "      <td>Africa</td>\n",
       "      <td>Upper-middle-income</td>\n",
       "      <td>South Africa</td>\n",
       "      <td>Male</td>\n",
       "      <td>49</td>\n",
       "      <td>49.0</td>\n",
       "      <td>NaN</td>\n",
       "      <td>NaN</td>\n",
       "      <td>NaN</td>\n",
       "    </tr>\n",
       "    <tr>\n",
       "      <th>4654</th>\n",
       "      <td>Healthy life expectancy (HALE) at birth (years)</td>\n",
       "      <td>Published</td>\n",
       "      <td>2000</td>\n",
       "      <td>Africa</td>\n",
       "      <td>Low-income</td>\n",
       "      <td>Zambia</td>\n",
       "      <td>Both sexes</td>\n",
       "      <td>36</td>\n",
       "      <td>36.0</td>\n",
       "      <td>NaN</td>\n",
       "      <td>NaN</td>\n",
       "      <td>NaN</td>\n",
       "    </tr>\n",
       "    <tr>\n",
       "      <th>4655</th>\n",
       "      <td>Healthy life expectancy (HALE) at birth (years)</td>\n",
       "      <td>Published</td>\n",
       "      <td>2012</td>\n",
       "      <td>Africa</td>\n",
       "      <td>Low-income</td>\n",
       "      <td>Zimbabwe</td>\n",
       "      <td>Female</td>\n",
       "      <td>51</td>\n",
       "      <td>51.0</td>\n",
       "      <td>NaN</td>\n",
       "      <td>NaN</td>\n",
       "      <td>NaN</td>\n",
       "    </tr>\n",
       "  </tbody>\n",
       "</table>\n",
       "<p>4656 rows × 12 columns</p>\n",
       "</div>"
      ],
      "text/plain": [
       "                                            Indicator PUBLISH STATES  Year  \\\n",
       "0                    Life expectancy at birth (years)      Published  1990   \n",
       "1                    Life expectancy at birth (years)      Published  2000   \n",
       "2                   Life expectancy at age 60 (years)      Published  2012   \n",
       "3                   Life expectancy at age 60 (years)      Published  2000   \n",
       "4                    Life expectancy at birth (years)      Published  2012   \n",
       "...                                               ...            ...   ...   \n",
       "4651  Healthy life expectancy (HALE) at birth (years)      Published  2012   \n",
       "4652  Healthy life expectancy (HALE) at birth (years)      Published  2012   \n",
       "4653  Healthy life expectancy (HALE) at birth (years)      Published  2000   \n",
       "4654  Healthy life expectancy (HALE) at birth (years)      Published  2000   \n",
       "4655  Healthy life expectancy (HALE) at birth (years)      Published  2012   \n",
       "\n",
       "                 WHO region World Bank income group               Country  \\\n",
       "0                    Europe             High-income               Andorra   \n",
       "1                    Europe             High-income               Andorra   \n",
       "2                    Europe             High-income               Andorra   \n",
       "3                    Europe             High-income               Andorra   \n",
       "4     Eastern Mediterranean             High-income  United Arab Emirates   \n",
       "...                     ...                     ...                   ...   \n",
       "4651        Western Pacific     Lower-middle-income                 Samoa   \n",
       "4652  Eastern Mediterranean              Low-income                 Yemen   \n",
       "4653                 Africa     Upper-middle-income          South Africa   \n",
       "4654                 Africa              Low-income                Zambia   \n",
       "4655                 Africa              Low-income              Zimbabwe   \n",
       "\n",
       "             Sex  Display Value  Numeric  Low  High  Comments  \n",
       "0     Both sexes             77     77.0  NaN   NaN       NaN  \n",
       "1     Both sexes             80     80.0  NaN   NaN       NaN  \n",
       "2         Female             28     28.0  NaN   NaN       NaN  \n",
       "3     Both sexes             23     23.0  NaN   NaN       NaN  \n",
       "4         Female             78     78.0  NaN   NaN       NaN  \n",
       "...          ...            ...      ...  ...   ...       ...  \n",
       "4651      Female             66     66.0  NaN   NaN       NaN  \n",
       "4652  Both sexes             54     54.0  NaN   NaN       NaN  \n",
       "4653        Male             49     49.0  NaN   NaN       NaN  \n",
       "4654  Both sexes             36     36.0  NaN   NaN       NaN  \n",
       "4655      Female             51     51.0  NaN   NaN       NaN  \n",
       "\n",
       "[4656 rows x 12 columns]"
      ]
     },
     "execution_count": 37,
     "metadata": {},
     "output_type": "execute_result"
    }
   ],
   "source": [
    "file_path = 'data-text.csv'\n",
    "df = pd.read_csv(file_path, encoding = 'utf-8')\n",
    "df"
   ]
  },
  {
   "cell_type": "code",
   "execution_count": 38,
   "id": "1dfbb56b-9127-4e2d-8635-d6064a2ffc4e",
   "metadata": {},
   "outputs": [],
   "source": [
    "# iloc 인덱서 & slicing\n",
    "df100 = df.iloc[:100]"
   ]
  },
  {
   "cell_type": "code",
   "execution_count": 39,
   "id": "4cc32f1f-b8fd-4981-8407-d3424947ba36",
   "metadata": {},
   "outputs": [],
   "source": [
    "df100.to_csv('data-text100.csv')"
   ]
  },
  {
   "cell_type": "code",
   "execution_count": 40,
   "id": "c09dd2b9-b79a-4a92-a432-425e653e6d36",
   "metadata": {},
   "outputs": [],
   "source": [
    "import sqlite3\n",
    "\n",
    "#1. DB 연결 (파일이 없으면 만들고 있으면 연결)\n",
    "con = sqlite3.connect(\"C:/Temp/sqlite3/test.db\")\n",
    "\n",
    "data = {'name': ['Jerry', 'Riah', 'Paul'],\n",
    "            'algol': ['A',  'A+', 'B'],\n",
    "            'basic': ['C', 'B', 'B+'],\n",
    "            'c++': ['B+', 'C', 'C+']}\n",
    "\n",
    "df = pd.DataFrame(data)\n",
    "\n",
    "# 2. DB 저장\n",
    "df.to_sql('score', con, if_exists = 'append', index = False)\n",
    "\n",
    "# 3. DB 연결 종료\n",
    "con.close()"
   ]
  }
 ],
 "metadata": {
  "kernelspec": {
   "display_name": "Python 3 (ipykernel)",
   "language": "python",
   "name": "python3"
  },
  "language_info": {
   "codemirror_mode": {
    "name": "ipython",
    "version": 3
   },
   "file_extension": ".py",
   "mimetype": "text/x-python",
   "name": "python",
   "nbconvert_exporter": "python",
   "pygments_lexer": "ipython3",
   "version": "3.11.7"
  }
 },
 "nbformat": 4,
 "nbformat_minor": 5
}
