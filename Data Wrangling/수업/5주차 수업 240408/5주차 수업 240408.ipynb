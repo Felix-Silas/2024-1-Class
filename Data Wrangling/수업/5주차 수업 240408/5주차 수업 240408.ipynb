{
 "cells": [
  {
   "cell_type": "markdown",
   "id": "09fc8735-c566-4c1a-8850-db3d6c2b26ed",
   "metadata": {},
   "source": [
    "# csv.writer()"
   ]
  },
  {
   "cell_type": "code",
   "execution_count": 1,
   "id": "9c6b25d5-13e6-4550-b23f-53b34d6d9870",
   "metadata": {},
   "outputs": [],
   "source": [
    "import csv\n",
    "rows = []\n",
    "with open('data-text.csv') as f:\n",
    "    reader = csv.reader(f)\n",
    "    for row in reader:\n",
    "        rows.append(row)"
   ]
  },
  {
   "cell_type": "code",
   "execution_count": 2,
   "id": "0dc1f95d-54c7-4137-874d-53485859f8ad",
   "metadata": {},
   "outputs": [],
   "source": [
    "#csv write\n",
    "with open('data-text20_1.csv', 'w', newline='') as f:\n",
    "    writer = csv.writer(f)\n",
    "    writer.writerows(rows[:20])  # wtirerow(iterable): 예를 들어, list를 파라미터로 주면 list의 모든 행을 저장\n",
    "# header도 포함되어 있음, header 1줄 + 실제 데이터 19개"
   ]
  },
  {
   "cell_type": "markdown",
   "id": "7a6ec982-1e69-49d8-83f4-405ccf077a56",
   "metadata": {},
   "source": [
    "# SQL query"
   ]
  },
  {
   "cell_type": "code",
   "execution_count": 12,
   "id": "e50946dc-fcff-4894-8173-d0acd08b9ff2",
   "metadata": {},
   "outputs": [],
   "source": [
    "import sqlite3\n",
    "#1. DB 연결 (파일이 없으면 만들고 있으면 연결)\n",
    "con = sqlite3.connect(\"C:/Temp/sqlite3/test.db\") # 절대 주소"
   ]
  },
  {
   "cell_type": "code",
   "execution_count": null,
   "id": "9ff4b0ab-c9aa-476a-9440-57745d0c0c22",
   "metadata": {},
   "outputs": [],
   "source": [
    "#2. cursor 객체 만들기\n",
    "cursor = con.cursor()"
   ]
  },
  {
   "cell_type": "code",
   "execution_count": 8,
   "id": "c4d19ca8-ceb3-47b0-b0fe-b46aa3daa5ed",
   "metadata": {},
   "outputs": [
    {
     "data": {
      "text/plain": [
       "<sqlite3.Cursor at 0x1a5093184c0>"
      ]
     },
     "execution_count": 8,
     "metadata": {},
     "output_type": "execute_result"
    }
   ],
   "source": [
    "#3. 커서객체.execute(\"SQL qquery\")로 SQL 명령\n",
    "# 데이터베이스 생성, 조회, 갱신, 삭제(CRUD) 작업\n",
    "\n",
    "#3-1. table만들기\n",
    "cursor.execute(\"CREATE TABLE school(name, number, math_score)\")"
   ]
  },
  {
   "cell_type": "code",
   "execution_count": null,
   "id": "638bcf3f-407e-4a35-9711-2ec4c7b4b822",
   "metadata": {},
   "outputs": [],
   "source": [
    "#3-2. 값 입력\n",
    "cursor.execute('INSERT INTO school VALUES(\"James\", 1, 80)')"
   ]
  },
  {
   "cell_type": "code",
   "execution_count": 13,
   "id": "99f8333b-33ca-4e7a-ba34-bab162e5f26b",
   "metadata": {},
   "outputs": [],
   "source": [
    "data = [['James', 1, 80], ['Tom', 5, 80], ['Scott', 5, 85]]"
   ]
  },
  {
   "cell_type": "code",
   "execution_count": 17,
   "id": "27573763-2b7e-4f8c-879b-dba315be5f30",
   "metadata": {},
   "outputs": [],
   "source": [
    "# 3-3. 변수 입력\n",
    "for row in data:\n",
    "    cursor.execute(\"INSERT INTO school VALUES(?, ?, ?)\", (row[0], row[1], row[2]))"
   ]
  },
  {
   "cell_type": "code",
   "execution_count": 18,
   "id": "c18abdaf-6911-43e8-b35b-b2d294124696",
   "metadata": {},
   "outputs": [],
   "source": [
    "#4. DB에 반영\n",
    "con.commit()"
   ]
  },
  {
   "cell_type": "code",
   "execution_count": null,
   "id": "03ab8b02-22b8-4b6b-8164-d13856da9dc8",
   "metadata": {},
   "outputs": [],
   "source": [
    "#5. DB 연결 종료\n",
    "con.close()"
   ]
  }
 ],
 "metadata": {
  "kernelspec": {
   "display_name": "Python 3 (ipykernel)",
   "language": "python",
   "name": "python3"
  },
  "language_info": {
   "codemirror_mode": {
    "name": "ipython",
    "version": 3
   },
   "file_extension": ".py",
   "mimetype": "text/x-python",
   "name": "python",
   "nbconvert_exporter": "python",
   "pygments_lexer": "ipython3",
   "version": "3.11.7"
  }
 },
 "nbformat": 4,
 "nbformat_minor": 5
}
