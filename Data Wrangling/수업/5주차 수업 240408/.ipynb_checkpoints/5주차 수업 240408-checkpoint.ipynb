{
 "cells": [
  {
   "cell_type": "markdown",
   "id": "09fc8735-c566-4c1a-8850-db3d6c2b26ed",
   "metadata": {},
   "source": [
    "# csv.writer()"
   ]
  },
  {
   "cell_type": "code",
   "execution_count": 1,
   "id": "9c6b25d5-13e6-4550-b23f-53b34d6d9870",
   "metadata": {},
   "outputs": [],
   "source": [
    "import csv\n",
    "rows = []\n",
    "with open('data-text.csv') as f:\n",
    "    reader = csv.reader(f)\n",
    "    for row in reader:\n",
    "        rows.append(row)"
   ]
  },
  {
   "cell_type": "code",
   "execution_count": 2,
   "id": "0dc1f95d-54c7-4137-874d-53485859f8ad",
   "metadata": {},
   "outputs": [],
   "source": [
    "#csv write\n",
    "with open('data-text20_1.csv', 'w', newline='') as f:\n",
    "    writer = csv.writer(f)\n",
    "    writer.writerows(rows[:20]) # header도 포함되어 있음, header 1줄 + 실제 데이터 19개"
   ]
  },
  {
   "cell_type": "markdown",
   "id": "3b2fe452-6b79-4d92-ac75-bce8196b6199",
   "metadata": {},
   "source": [
    "# pandas to_csv()"
   ]
  },
  {
   "cell_type": "code",
   "execution_count": 3,
   "id": "5d821649-f59d-4fd0-8ab5-1b661d6b9a04",
   "metadata": {},
   "outputs": [
    {
     "ename": "SyntaxError",
     "evalue": "unterminated string literal (detected at line 3) (1329426043.py, line 3)",
     "output_type": "error",
     "traceback": [
      "\u001b[1;36m  Cell \u001b[1;32mIn[3], line 3\u001b[1;36m\u001b[0m\n\u001b[1;33m    file_path = 'data-text.csv\u001b[0m\n\u001b[1;37m                ^\u001b[0m\n\u001b[1;31mSyntaxError\u001b[0m\u001b[1;31m:\u001b[0m unterminated string literal (detected at line 3)\n"
     ]
    }
   ],
   "source": [
    "import pandas as pd\n",
    "\n",
    "file_path = 'data-text.csv\n",
    "df = pd.read_csv(file_path, encoding = 'utf-8')"
   ]
  },
  {
   "cell_type": "markdown",
   "id": "7a6ec982-1e69-49d8-83f4-405ccf077a56",
   "metadata": {},
   "source": [
    "# SQL query"
   ]
  },
  {
   "cell_type": "code",
   "execution_count": 12,
   "id": "e50946dc-fcff-4894-8173-d0acd08b9ff2",
   "metadata": {},
   "outputs": [],
   "source": [
    "import sqlite3\n",
    "#1. DB 연결 (파일이 없으면 만들고 있으면 연결)\n",
    "con = sqlite3.connect(\"C:/Temp/sqlite3/test.db\")"
   ]
  },
  {
   "cell_type": "code",
   "execution_count": null,
   "id": "9ff4b0ab-c9aa-476a-9440-57745d0c0c22",
   "metadata": {},
   "outputs": [],
   "source": [
    "#2. cursor 객체 만들기\n",
    "cursor = con.cursor()"
   ]
  },
  {
   "cell_type": "code",
   "execution_count": 8,
   "id": "c4d19ca8-ceb3-47b0-b0fe-b46aa3daa5ed",
   "metadata": {},
   "outputs": [
    {
     "data": {
      "text/plain": [
       "<sqlite3.Cursor at 0x1a5093184c0>"
      ]
     },
     "execution_count": 8,
     "metadata": {},
     "output_type": "execute_result"
    }
   ],
   "source": [
    "#3. 커서객체.execute()로 SQL 명령\n",
    "\n",
    "#3-1. table만들기\n",
    "cursor.execute(\"CREATE TABLE school(name, number, math_score)\")"
   ]
  },
  {
   "cell_type": "code",
   "execution_count": null,
   "id": "638bcf3f-407e-4a35-9711-2ec4c7b4b822",
   "metadata": {},
   "outputs": [],
   "source": [
    "#3-2. 값 입력\n",
    "cursor.execute('INSERT INTO school VALUES(\"James\", 1, 80)')"
   ]
  },
  {
   "cell_type": "code",
   "execution_count": 13,
   "id": "99f8333b-33ca-4e7a-ba34-bab162e5f26b",
   "metadata": {},
   "outputs": [],
   "source": [
    "data = [['James', 1, 80], ['Tom', 5, 80], ['Scott', 5, 85]]"
   ]
  },
  {
   "cell_type": "code",
   "execution_count": 17,
   "id": "27573763-2b7e-4f8c-879b-dba315be5f30",
   "metadata": {},
   "outputs": [],
   "source": [
    "# 3-3. 변수 입력\n",
    "for row in data:\n",
    "    cursor.execute(\"INSERT INTO school VALUES(?, ?, ?)\", (row[0], row[1], row[2]))"
   ]
  },
  {
   "cell_type": "code",
   "execution_count": 18,
   "id": "c18abdaf-6911-43e8-b35b-b2d294124696",
   "metadata": {},
   "outputs": [],
   "source": [
    "#4. DB에 반영\n",
    "con.commit()"
   ]
  },
  {
   "cell_type": "code",
   "execution_count": null,
   "id": "03ab8b02-22b8-4b6b-8164-d13856da9dc8",
   "metadata": {},
   "outputs": [],
   "source": [
    "#5. DB 연결 종료\n",
    "con.close()"
   ]
  }
 ],
 "metadata": {
  "kernelspec": {
   "display_name": "Python 3 (ipykernel)",
   "language": "python",
   "name": "python3"
  },
  "language_info": {
   "codemirror_mode": {
    "name": "ipython",
    "version": 3
   },
   "file_extension": ".py",
   "mimetype": "text/x-python",
   "name": "python",
   "nbconvert_exporter": "python",
   "pygments_lexer": "ipython3",
   "version": "3.11.7"
  }
 },
 "nbformat": 4,
 "nbformat_minor": 5
}
