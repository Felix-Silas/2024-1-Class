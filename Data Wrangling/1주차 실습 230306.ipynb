{
 "cells": [
  {
   "cell_type": "code",
   "execution_count": 6,
   "id": "ca4b47e9-3999-4632-a958-4030aa194e77",
   "metadata": {},
   "outputs": [
    {
     "name": "stdout",
     "output_type": "stream",
     "text": [
      "Hello World!\n"
     ]
    }
   ],
   "source": [
    "print(\"Hello World!\")"
   ]
  },
  {
   "cell_type": "markdown",
   "id": "e5b09eb0-d30d-4aa4-99a7-69df7244c0d5",
   "metadata": {},
   "source": [
    "## Data type"
   ]
  },
  {
   "cell_type": "code",
   "execution_count": 7,
   "id": "95d5818b-bdd6-4271-b753-43a5442e4c18",
   "metadata": {},
   "outputs": [
    {
     "data": {
      "text/plain": [
       "bool"
      ]
     },
     "execution_count": 7,
     "metadata": {},
     "output_type": "execute_result"
    }
   ],
   "source": [
    "type(True)"
   ]
  },
  {
   "cell_type": "code",
   "execution_count": 8,
   "id": "07e5d261-7814-4806-8a7c-220c03cd0de2",
   "metadata": {},
   "outputs": [
    {
     "data": {
      "text/plain": [
       "float"
      ]
     },
     "execution_count": 8,
     "metadata": {},
     "output_type": "execute_result"
    }
   ],
   "source": [
    "type(10*0.7)"
   ]
  },
  {
   "cell_type": "markdown",
   "id": "52bab4f1-fb13-492b-a466-6cd1c93777c6",
   "metadata": {},
   "source": [
    "## 조건문"
   ]
  },
  {
   "cell_type": "code",
   "execution_count": 9,
   "id": "87a2afc9-667c-499a-9ddd-d1bd7b88c1ca",
   "metadata": {},
   "outputs": [
    {
     "name": "stdout",
     "output_type": "stream",
     "text": [
      "10 is more than 5\n"
     ]
    }
   ],
   "source": [
    "x = 10\n",
    "if x > 5:\n",
    "    print(x, 'is more than 5')\n",
    "else:\n",
    "    print(x, 'is less than 5')"
   ]
  },
  {
   "cell_type": "markdown",
   "id": "470e854f-145e-4ff3-8fc4-9585718a6f15",
   "metadata": {},
   "source": [
    "## 반복문"
   ]
  },
  {
   "cell_type": "code",
   "execution_count": 11,
   "id": "fde587ea-8b3e-46dc-a05b-0ce0c96905be",
   "metadata": {},
   "outputs": [
    {
     "name": "stdout",
     "output_type": "stream",
     "text": [
      "p\n",
      "y\n",
      "t\n",
      "h\n",
      "o\n",
      "n\n"
     ]
    }
   ],
   "source": [
    "word = 'python'\n",
    "for letter in word:\n",
    "    print(letter)"
   ]
  },
  {
   "cell_type": "raw",
   "id": "3c0adb10-d3a4-486e-884e-3aa119bf1d71",
   "metadata": {},
   "source": [
    "## List"
   ]
  },
  {
   "cell_type": "code",
   "execution_count": 23,
   "id": "107ddb75-021e-4188-8c9b-0ebd0ae679a0",
   "metadata": {},
   "outputs": [
    {
     "name": "stdout",
     "output_type": "stream",
     "text": [
      "['홍길동', '17', 'Male', [88, 50, 100]]\n",
      "홍길동\n"
     ]
    }
   ],
   "source": [
    "person = ['홍길동', '17', 'Male', [88, 50, 100]]\n",
    "print(person)\n",
    "print(person[0])"
   ]
  },
  {
   "cell_type": "code",
   "execution_count": 24,
   "id": "4a0c7185-dbf5-4203-b005-89cca3152679",
   "metadata": {},
   "outputs": [
    {
     "data": {
      "text/plain": [
       "88"
      ]
     },
     "execution_count": 24,
     "metadata": {},
     "output_type": "execute_result"
    }
   ],
   "source": [
    "person[-1][0] # 음수 인덱싱"
   ]
  },
  {
   "cell_type": "code",
   "execution_count": 25,
   "id": "04b82b65-45ef-48b5-a40b-d1b05b0b16de",
   "metadata": {},
   "outputs": [
    {
     "data": {
      "text/plain": [
       "4"
      ]
     },
     "execution_count": 25,
     "metadata": {},
     "output_type": "execute_result"
    }
   ],
   "source": [
    "len(person) # built-in function"
   ]
  },
  {
   "cell_type": "code",
   "execution_count": 26,
   "id": "a4c4cd7a-a936-47ba-85af-39d274a574b7",
   "metadata": {},
   "outputs": [
    {
     "data": {
      "text/plain": [
       "['홍길동', '17', 'Male', [88, 50, 100], 'student']"
      ]
     },
     "execution_count": 26,
     "metadata": {},
     "output_type": "execute_result"
    }
   ],
   "source": [
    "person.append('student') # method\n",
    "person"
   ]
  },
  {
   "cell_type": "markdown",
   "id": "7fd7eb3b-da47-442f-b13a-66743f22434f",
   "metadata": {},
   "source": [
    "## Dictionary"
   ]
  },
  {
   "cell_type": "code",
   "execution_count": 29,
   "id": "91eaab07-a268-44a4-a3bf-9139679cae7b",
   "metadata": {},
   "outputs": [
    {
     "name": "stdout",
     "output_type": "stream",
     "text": [
      "{'name': '홍길동', 'age': '17', 'sex': 'Male', 'score': [88, 50, 100]}\n",
      "17\n"
     ]
    }
   ],
   "source": [
    "person = {'name': '홍길동', 'age':'17', 'sex':'Male', 'score': [88, 50, 100]}\n",
    "print(person)\n",
    "print(person['age'])"
   ]
  },
  {
   "cell_type": "code",
   "execution_count": 32,
   "id": "d7210b57-6eb7-4c78-92c7-e579b1c9b05b",
   "metadata": {},
   "outputs": [
    {
     "name": "stdout",
     "output_type": "stream",
     "text": [
      "dict_items([('name', '홍길동'), ('age', '17'), ('sex', 'Male'), ('score', [88, 50, 100])])\n",
      "dict_keys(['name', 'age', 'sex', 'score'])\n",
      "dict_values(['홍길동', '17', 'Male', [88, 50, 100]])\n"
     ]
    }
   ],
   "source": [
    "# method\n",
    "print(person.items())\n",
    "print(person.keys())\n",
    "print(person.values())"
   ]
  },
  {
   "cell_type": "markdown",
   "id": "2bf2026b-80bf-4831-870b-9c0cf36c2ba2",
   "metadata": {},
   "source": [
    "# Markdown\n",
    "# header 1: # 1개\n",
    "## header 2: # 2개\n",
    "### header 3: # 3개\n",
    "#### header 4: # 4개\n",
    "##### header 5: # 5개\n",
    "###### header 6: # 6개\n",
    "1. - 표시하기\n",
    "* 별\n",
    "+ 플러스\n",
    "- 마이너스\n",
    "2. 들여쓰기\n",
    "* level 1\n",
    "    * level 2\n",
    "        * level 3\n",
    "3. 인용구\n",
    "> 인용구 (>)\n",
    ">> 인용구 안에 인용구 (>>)\n",
    "\n",
    "4. bold \n",
    "- **bold** 또는 __bold__\n",
    "- *italic* 또는 _italic_\n",
    "\n",
    "5. links\n",
    "- https://masil.io\n",
    "- [네이버](https://naver.com)"
   ]
  },
  {
   "cell_type": "markdown",
   "id": "6c0a5ed9-d395-45fe-bd2f-c0d1ab8ad942",
   "metadata": {},
   "source": [
    "## 주피터 노트북 단축키\n",
    "shift enter = run cell, select below  \n",
    "ctrl enter = run cell  \n",
    "alt enter = run cell, insert below  \n",
    "ctrl s = save and checkpoint  \n",
    "\n",
    "command mode (파란색): ESC\n",
    "\n",
    "y: to code  \n",
    "m: to markdown  "
   ]
  },
  {
   "cell_type": "code",
   "execution_count": 33,
   "id": "5ba9b62e-1a40-44c2-b2b3-d784c2abb9f1",
   "metadata": {},
   "outputs": [
    {
     "name": "stdout",
     "output_type": "stream",
     "text": [
      "유근태\n"
     ]
    }
   ],
   "source": [
    "print(\"유근태\")"
   ]
  }
 ],
 "metadata": {
  "kernelspec": {
   "display_name": "Python 3 (ipykernel)",
   "language": "python",
   "name": "python3"
  },
  "language_info": {
   "codemirror_mode": {
    "name": "ipython",
    "version": 3
   },
   "file_extension": ".py",
   "mimetype": "text/x-python",
   "name": "python",
   "nbconvert_exporter": "python",
   "pygments_lexer": "ipython3",
   "version": "3.11.7"
  }
 },
 "nbformat": 4,
 "nbformat_minor": 5
}
