{
 "cells": [
  {
   "cell_type": "markdown",
   "id": "c9b1e863-2a78-42bf-b53e-8ab74cce5ca0",
   "metadata": {},
   "source": [
    "# 1. 기본 딕셔너리 관련 문제\n",
    "## 1-1. key가 book이고, value가 노인과 바다인 쌍을 추가하고 출력하시오.\n",
    "## 1-2. 이 딕셔너리 값들을 반복문으로 출력하시오."
   ]
  },
  {
   "cell_type": "code",
   "execution_count": 1,
   "id": "4cc3d383-7473-4e30-80ee-9fb1630f15fc",
   "metadata": {},
   "outputs": [
    {
     "data": {
      "text/plain": [
       "{'name': '김연주', 'age': 23, 'birth': '2002-08-22'}"
      ]
     },
     "execution_count": 1,
     "metadata": {},
     "output_type": "execute_result"
    }
   ],
   "source": [
    "dict = {'name': '김연주', 'age': 23, 'birth': '2002-08-22'}\n",
    "dict"
   ]
  },
  {
   "cell_type": "code",
   "execution_count": null,
   "id": "df23d152-4c62-4716-85c3-e85e26de5184",
   "metadata": {},
   "outputs": [],
   "source": []
  },
  {
   "cell_type": "code",
   "execution_count": null,
   "id": "459759ef-0b98-4716-8013-3febec974483",
   "metadata": {},
   "outputs": [],
   "source": []
  },
  {
   "cell_type": "markdown",
   "id": "4654fecf-7d34-4ca7-b788-b73c621d4f68",
   "metadata": {},
   "source": [
    "# 2. seoul_csv 파일 관련 문제 \n",
    "## 2-1. header를 출력하시오.\n",
    "## 2-2. seoul의 최저 기온과 최저 기온에 해당하는 날짜를 출력하시오."
   ]
  },
  {
   "cell_type": "code",
   "execution_count": null,
   "id": "908897b4-52e3-43b9-9840-e50d0e600853",
   "metadata": {},
   "outputs": [],
   "source": []
  },
  {
   "cell_type": "code",
   "execution_count": null,
   "id": "329d98be-7c61-4cb8-84d8-0697c0ff163f",
   "metadata": {},
   "outputs": [],
   "source": []
  },
  {
   "cell_type": "markdown",
   "id": "3f274f6b-c357-49ca-9c4c-4e053697a422",
   "metadata": {},
   "source": [
    "# 3. users.json 파일 관련 문제\n",
    "## 3-1. users을 아래 포맷으로 출력\n",
    "[{'id': 0, 'name': 'Hero'},\n",
    " {'id': 1, 'name': 'Dunn'},\n",
    " {'id': 2, 'name': 'Sue'},\n",
    " {'id': 3, 'name': 'Chi'},\n",
    " {'id': 4, 'name': 'Thor'},\n",
    " {'id': 5, 'name': 'Clive'},\n",
    " {'id': 6, 'name': 'Hicks'},\n",
    " {'id': 7, 'name': 'Devin'},\n",
    " {'id': 8, 'name': 'Kate'},\n",
    " {'id': 9, 'name': 'Klein'}]'Klein'}]"
   ]
  },
  {
   "cell_type": "code",
   "execution_count": null,
   "id": "21b093ec-9722-4bb5-8617-00272d7c29b5",
   "metadata": {},
   "outputs": [],
   "source": []
  },
  {
   "cell_type": "markdown",
   "id": "5af5009d-0046-440a-b77e-64724672e0b6",
   "metadata": {},
   "source": [
    "# 3-2. friendship_pairs을 아래 포맷으로 출력\n",
    "[(0, 1), (0, 2), (1, 2), (1, 3), (2, 3), (3, 4), (4, 5), (5, 6), (5, 7), (6, 8), (7, 8), (8, 9)]"
   ]
  },
  {
   "cell_type": "code",
   "execution_count": null,
   "id": "5a3e5038-cad0-407f-b9d2-cac02c56e283",
   "metadata": {},
   "outputs": [],
   "source": []
  },
  {
   "cell_type": "markdown",
   "id": "0a01f17e-45aa-4086-bd30-2e1c2cd879c2",
   "metadata": {},
   "source": [
    "# 3-3. 이전 2개의 데이터를 활용하여 id를 key로 사용하고, 해당 id의 모든 친구 목록을 값으로 구성한 firendship 딕셔너리를 생성하시오.\n",
    "{0: [1, 2], 1: [0, 2, 3], 2: [0, 1, 3], 3: [1, 2, 4], 4: [3, 5], 5: [4, 6, 7], 6: [5, 8], 7: [5, 8], 8: [6, 7, 9], 9: [8]}\n"
   ]
  },
  {
   "cell_type": "code",
   "execution_count": null,
   "id": "c0f15951-c41a-4ee7-afa5-d88907026817",
   "metadata": {},
   "outputs": [],
   "source": []
  },
  {
   "cell_type": "code",
   "execution_count": null,
   "id": "037d02a0-b067-47c2-9e4d-7beb56b8344d",
   "metadata": {},
   "outputs": [],
   "source": []
  },
  {
   "cell_type": "markdown",
   "id": "a0e09cd4-3ff8-4ea8-9c0a-c910b7a55670",
   "metadata": {},
   "source": [
    "# 4. mid-term-rss3.xml을 분석하여, 아래 도시명과 날씨 정보들을 xml에서 파싱하고, 아래 포맷으로 출력되도록 프로그램을 작성하시오.\n",
    "\n",
    "< 서울 >  \n",
    "2024-04-06 00:00 구름많음 \t 8 ~ 19 도  \n",
    "2024-04-06 12:00 구름많음 \t 8 ~ 19 도  \n",
    "2024-04-07 00:00 구름많음 \t 8 ~ 21 도  \n",
    "2024-04-07 12:00 맑음 \t 8 ~ 21 도  \n",
    "2024-04-08 00:00 맑음 \t 9 ~ 22 도  \n",
    "2024-04-08 12:00 맑음 \t 9 ~ 22 도  \n",
    "2024-04-09 00:00 맑음 \t 9 ~ 20 도  "
   ]
  },
  {
   "cell_type": "code",
   "execution_count": null,
   "id": "33bdc52e-c83a-4d40-a2d5-dedfe4be3cc6",
   "metadata": {},
   "outputs": [],
   "source": []
  },
  {
   "cell_type": "code",
   "execution_count": null,
   "id": "156df9c9-68ad-43a2-baa6-4c5d04bfb00a",
   "metadata": {},
   "outputs": [],
   "source": []
  },
  {
   "cell_type": "code",
   "execution_count": null,
   "id": "fd003154-540c-4dc8-b3e6-5b210578a8e3",
   "metadata": {},
   "outputs": [],
   "source": []
  },
  {
   "cell_type": "markdown",
   "id": "512b1c7d-aa8c-4641-8864-009cf3d2c8ba",
   "metadata": {},
   "source": [
    "# 5-1. data-text csv을 읽고, 처음부터 20행까지의 데이터를 추출하여 csv 데이터 파일을 만드시오.\n",
    "## SQLite에 저장하기"
   ]
  },
  {
   "cell_type": "code",
   "execution_count": null,
   "id": "1b4da927-edca-4295-b4f7-507bcc0efe74",
   "metadata": {},
   "outputs": [],
   "source": []
  },
  {
   "cell_type": "code",
   "execution_count": 2,
   "id": "f094a65a-ae7a-4336-82af-283c1f677f62",
   "metadata": {},
   "outputs": [
    {
     "ename": "NameError",
     "evalue": "name 'csv' is not defined",
     "output_type": "error",
     "traceback": [
      "\u001b[1;31m---------------------------------------------------------------------------\u001b[0m",
      "\u001b[1;31mNameError\u001b[0m                                 Traceback (most recent call last)",
      "\u001b[1;32m~\\AppData\\Local\\Temp/ipykernel_25020/2786501068.py\u001b[0m in \u001b[0;36m<module>\u001b[1;34m\u001b[0m\n\u001b[0;32m      1\u001b[0m \u001b[1;32mwith\u001b[0m \u001b[0mopen\u001b[0m\u001b[1;33m(\u001b[0m\u001b[1;34m'data-text20.csv'\u001b[0m\u001b[1;33m,\u001b[0m\u001b[1;34m'w'\u001b[0m \u001b[1;33m,\u001b[0m\u001b[0mnewline\u001b[0m \u001b[1;33m=\u001b[0m \u001b[1;34m''\u001b[0m\u001b[1;33m)\u001b[0m \u001b[1;32mas\u001b[0m \u001b[0mf\u001b[0m\u001b[1;33m:\u001b[0m \u001b[1;31m# w가 있어야 파일 새로 만들어짐, 원래 없으면 안 됨\u001b[0m\u001b[1;33m\u001b[0m\u001b[1;33m\u001b[0m\u001b[0m\n\u001b[1;32m----> 2\u001b[1;33m     \u001b[0mwriter\u001b[0m \u001b[1;33m=\u001b[0m \u001b[0mcsv\u001b[0m\u001b[1;33m.\u001b[0m\u001b[0mwriter\u001b[0m\u001b[1;33m(\u001b[0m\u001b[0mf\u001b[0m\u001b[1;33m)\u001b[0m\u001b[1;33m\u001b[0m\u001b[1;33m\u001b[0m\u001b[0m\n\u001b[0m\u001b[0;32m      3\u001b[0m     \u001b[0mwriter\u001b[0m\u001b[1;33m.\u001b[0m\u001b[0mwriterows\u001b[0m\u001b[1;33m(\u001b[0m\u001b[0mrows\u001b[0m\u001b[1;33m[\u001b[0m\u001b[1;33m:\u001b[0m\u001b[1;36m20\u001b[0m\u001b[1;33m]\u001b[0m\u001b[1;33m)\u001b[0m\u001b[1;33m\u001b[0m\u001b[1;33m\u001b[0m\u001b[0m\n",
      "\u001b[1;31mNameError\u001b[0m: name 'csv' is not defined"
     ]
    }
   ],
   "source": [
    "with open('data-text20.csv','w' ,newline = '') as f: # w가 있어야 파일 새로 만들어짐, 원래 없으면 안 됨\n",
    "    writer = csv.writer(f)\n",
    "    writer.writerows(rows[:20])"
   ]
  },
  {
   "cell_type": "markdown",
   "id": "ab87deb6-0c48-4eea-962c-81f7e462c969",
   "metadata": {},
   "source": [
    "# 5-2. 20행 csv 파일을 읽어, 이 중 'Indicator', 'Country', 'Display Value' 필드만 추출하여 SQLite 데이터베이스에 저장하시오."
   ]
  },
  {
   "cell_type": "code",
   "execution_count": null,
   "id": "2c3ddaaf-ce88-4c9e-adfe-5b9b8a678d58",
   "metadata": {},
   "outputs": [],
   "source": []
  },
  {
   "cell_type": "markdown",
   "id": "9f4a454a-689f-49cc-a3da-6accc6a94680",
   "metadata": {},
   "source": [
    "# 6-1. data-text csv을 읽고, 처음부터 100행까지의 데이터를 추출하여 csv 데이터 파일을 만드시오.\n",
    "## DataFrame으로 SQLite에 저장하기"
   ]
  },
  {
   "cell_type": "code",
   "execution_count": null,
   "id": "a4b2ab4f-bfd5-4381-989a-fde83db938f5",
   "metadata": {},
   "outputs": [],
   "source": []
  },
  {
   "cell_type": "markdown",
   "id": "685593a2-ab15-4f41-99bd-d511ffc7b26c",
   "metadata": {},
   "source": [
    "# 6-2. 100행 csv 파일을 읽어, 뒤에서 20행에 대한 'Indicator', 'Year', 'Country', 'Sex' 필드만 추출하여 데이터프레임을 만들고 출력하시오. 그리고 2번째 행의 'Year' 필드를 1990년에서 2002년으로 수정하고 SQLite 데이터베이스에 저장하시오."
   ]
  },
  {
   "cell_type": "code",
   "execution_count": null,
   "id": "34b741d9-84fc-4f61-a49a-c9dc9254f973",
   "metadata": {},
   "outputs": [],
   "source": []
  },
  {
   "cell_type": "code",
   "execution_count": null,
   "id": "bcf43167-aea3-4204-99ab-23f7e45ff79c",
   "metadata": {},
   "outputs": [],
   "source": []
  },
  {
   "cell_type": "code",
   "execution_count": null,
   "id": "638600fa-9e66-4a5c-b407-d2246a5989ce",
   "metadata": {},
   "outputs": [],
   "source": []
  }
 ],
 "metadata": {
  "kernelspec": {
   "display_name": "Python 3 (ipykernel)",
   "language": "python",
   "name": "python3"
  },
  "language_info": {
   "codemirror_mode": {
    "name": "ipython",
    "version": 3
   },
   "file_extension": ".py",
   "mimetype": "text/x-python",
   "name": "python",
   "nbconvert_exporter": "python",
   "pygments_lexer": "ipython3",
   "version": "3.9.7"
  }
 },
 "nbformat": 4,
 "nbformat_minor": 5
}
